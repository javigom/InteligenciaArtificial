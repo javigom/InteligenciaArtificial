{
 "cells": [
  {
   "cell_type": "markdown",
   "metadata": {},
   "source": [
    "### GRUPO 17\n",
    "\n",
    "JAVIER GÓMEZ MORALEDA\n",
    "\n",
    "MARIO ALCOLEA ALCOLEA"
   ]
  },
  {
   "cell_type": "markdown",
   "metadata": {},
   "source": [
    "# Práctica 1C - Inteligencia Artificial\n",
    "## Belén Díaz Agudo -  Facultad de Informática UCM\n",
    "## Búsqueda local\n",
    "En esta primera parte usaremos ejercicios paso a paso para familiarizarnos con la resolución de problemas sencillos de optimización, como la maximización o minimización de una función, o el problema de la mochila o del viajante, problemas conocidos cuya resolución se ha abordado con técnicas algorítmicas y que vamos a resolver utilizando algoritmos de búsqueda local. En la segunda parte de la práctica se pide resolver el problema de la organización de jornadas informáticas dado en el enunciado."
   ]
  },
  {
   "cell_type": "markdown",
   "metadata": {},
   "source": [
    "## Parte 1. Algoritmo de escalada\n",
    "Hill Climbing es un algoritmo de búsqueda local heurística utilizada para problemas de optimización.\n",
    "Esta solución puede o no ser el óptimo global. El algoritmo es una variante del algoritmo de generación y prueba.\n",
    "<br>\n",
    "En general, el algoritmo funciona de la siguiente manera:\n",
    "- Evaluar el estado inicial.\n",
    "- Si es igual al estado del objetivo, terminamos.\n",
    "- Encuentra un estado vecino al estado actual\n",
    "- Evaluar este estado. Si está más cerca del estado objetivo que antes, reemplace el estado inicial con este estado y repita estos pasos.\n",
    "<br>\n",
    "Usaremos la implementación de AIMA que está en el módulo search.py\n",
    "\n",
    "    def hill_climbing(problem):\n",
    "        \"\"\"From the initial node, keep choosing the neighbor with highest value,\n",
    "        stopping when no neighbor is better. [Figure 4.2]\"\"\"\n",
    "        current = Node(problem.initial)\n",
    "        while True:\n",
    "            neighbors = current.expand(problem)\n",
    "            if not neighbors:\n",
    "                break\n",
    "            neighbor = argmax_random_tie(neighbors,\n",
    "                                     key=lambda node: problem.value(node.state))\n",
    "            if problem.value(neighbor.state) <= problem.value(current.state):\n",
    "                break\n",
    "            current = neighbor\n",
    "        return current.state\n"
   ]
  },
  {
   "cell_type": "markdown",
   "metadata": {},
   "source": [
    "### TSP (Travelling Salesman Problem): el problema del viajante\n",
    "Dado un conjunto de ciudades y la distancia entre cada par de ciudades, el problema es encontrar la ruta más corta posible que visite cada ciudad exactamente una vez y regrese al punto de partida. Es un problema NP hard. No existen una solución de coste polinomial. "
   ]
  },
  {
   "cell_type": "code",
   "execution_count": 1,
   "metadata": {},
   "outputs": [],
   "source": [
    "##Resolvereremos el problema del viajante TSP para encontrar una solución aproximada.\n",
    "from search import *\n",
    "\n",
    "class TSP_problem(Problem):\n",
    "\n",
    "    def two_opt(self, state):\n",
    "        \"\"\" Neighbour generating function for Traveling Salesman Problem \"\"\"\n",
    "        neighbour_state = state[:]\n",
    "        left = random.randint(0, len(neighbour_state) - 1)\n",
    "        right = random.randint(0, len(neighbour_state) - 1)\n",
    "        if left > right:\n",
    "            left, right = right, left\n",
    "        neighbour_state[left: right + 1] = reversed(neighbour_state[left: right + 1])\n",
    "        return neighbour_state\n",
    "\n",
    "    def actions(self, state):\n",
    "        \"\"\" action that can be excuted in given state \"\"\"\n",
    "        return [self.two_opt]\n",
    "\n",
    "    def result(self, state, action):\n",
    "        \"\"\"  result after applying the given action on the given state \"\"\"\n",
    "        return action(state)\n",
    "\n",
    "    def path_cost(self, c, state1, action, state2):\n",
    "        \"\"\" total distance for the Traveling Salesman to be covered if in state2  \"\"\"\n",
    "        cost = 0\n",
    "        for i in range(len(state2) - 1):\n",
    "            cost += distances[state2[i]][state2[i + 1]]\n",
    "        cost += distances[state2[0]][state2[-1]]\n",
    "        return cost\n",
    "\n",
    "    def value(self, state):\n",
    "        \"\"\" value of path cost given negative for the given state \"\"\"\n",
    "        return -1 * self.path_cost(None, None, None, state)"
   ]
  },
  {
   "cell_type": "code",
   "execution_count": 2,
   "metadata": {},
   "outputs": [],
   "source": [
    "## Resolveremos el TSP para las ciudades de la lista de ciudades de Rumanía.\n",
    "## ['Arad', 'Bucharest', 'Craiova', 'Drobeta', 'Eforie', 'Fagaras', 'Giurgiu', 'Hirsova', 'Iasi', 'Lugoj', 'Mehadia', 'Neamt', 'Oradea', 'Pitesti', 'Rimnicu', 'Sibiu', 'Timisoara', 'Urziceni', 'Vaslui', 'Zerind']"
   ]
  },
  {
   "cell_type": "code",
   "execution_count": 3,
   "metadata": {},
   "outputs": [],
   "source": [
    "# Usaremos la siguiente representacion del libro AIMA para el mapa de Rumanía.\n",
    "\n",
    "romania_map = UndirectedGraph(dict(\n",
    "    Arad=dict(Zerind=75, Sibiu=140, Timisoara=118),\n",
    "    Bucharest=dict(Urziceni=85, Pitesti=101, Giurgiu=90, Fagaras=211),\n",
    "    Craiova=dict(Drobeta=120, Rimnicu=146, Pitesti=138),\n",
    "    Drobeta=dict(Mehadia=75),\n",
    "    Eforie=dict(Hirsova=86),\n",
    "    Fagaras=dict(Sibiu=99),\n",
    "    Hirsova=dict(Urziceni=98),\n",
    "    Iasi=dict(Vaslui=92, Neamt=87),\n",
    "    Lugoj=dict(Timisoara=111, Mehadia=70),\n",
    "    Oradea=dict(Zerind=71, Sibiu=151),\n",
    "    Pitesti=dict(Rimnicu=97),\n",
    "    Rimnicu=dict(Sibiu=80),\n",
    "    Urziceni=dict(Vaslui=142)))\n",
    "\n",
    "romania_map.locations = dict(\n",
    "    Arad=(91, 492), Bucharest=(400, 327), Craiova=(253, 288),\n",
    "    Drobeta=(165, 299), Eforie=(562, 293), Fagaras=(305, 449),\n",
    "    Giurgiu=(375, 270), Hirsova=(534, 350), Iasi=(473, 506),\n",
    "    Lugoj=(165, 379), Mehadia=(168, 339), Neamt=(406, 537),\n",
    "    Oradea=(131, 571), Pitesti=(320, 368), Rimnicu=(233, 410),\n",
    "    Sibiu=(207, 457), Timisoara=(94, 410), Urziceni=(456, 350),\n",
    "    Vaslui=(509, 444), Zerind=(108, 531))"
   ]
  },
  {
   "cell_type": "markdown",
   "metadata": {},
   "source": [
    "Es bastante sencillo entender este `romania_map`. El primer nodo ** Arad ** tiene tres vecinos llamados ** Zerind **, ** Sibiu **, ** Timisoara **. Cada uno de estos nodos son 75, 140, 118 unidades aparte de ** Arad ** respectivamente. Y lo mismo ocurre con otros nodos.\n",
    "\n",
    "Y `romania_map.locations` contiene las posiciones de cada uno de los nodos. \n",
    "Como heurística se puede usar la distancia en línea recta o la distancia manhattan (que es diferente de la proporcionada en `romania_map`) entre dos ciudades."
   ]
  },
  {
   "cell_type": "code",
   "execution_count": 4,
   "metadata": {},
   "outputs": [
    {
     "name": "stdout",
     "output_type": "stream",
     "text": [
      "{'Arad': (91, 492), 'Bucharest': (400, 327), 'Craiova': (253, 288), 'Drobeta': (165, 299), 'Eforie': (562, 293), 'Fagaras': (305, 449), 'Giurgiu': (375, 270), 'Hirsova': (534, 350), 'Iasi': (473, 506), 'Lugoj': (165, 379), 'Mehadia': (168, 339), 'Neamt': (406, 537), 'Oradea': (131, 571), 'Pitesti': (320, 368), 'Rimnicu': (233, 410), 'Sibiu': (207, 457), 'Timisoara': (94, 410), 'Urziceni': (456, 350), 'Vaslui': (509, 444), 'Zerind': (108, 531)}\n"
     ]
    }
   ],
   "source": [
    "romania_locations = romania_map.locations\n",
    "print(romania_locations)"
   ]
  },
  {
   "cell_type": "code",
   "execution_count": 5,
   "metadata": {},
   "outputs": [],
   "source": [
    "# node colors, node positions and node label positions\n",
    "node_colors = {node: 'white' for node in romania_map.locations.keys()}\n",
    "node_positions = romania_map.locations\n",
    "node_label_pos = { k:[v[0],v[1]-10]  for k,v in romania_map.locations.items() }\n",
    "edge_weights = {(k, k2) : v2 for k, v in romania_map.graph_dict.items() for k2, v2 in v.items()}\n",
    "\n",
    "romania_graph_data = {  'graph_dict' : romania_map.graph_dict,\n",
    "                        'node_colors': node_colors,\n",
    "                        'node_positions': node_positions,\n",
    "                        'node_label_positions': node_label_pos,\n",
    "                         'edge_weights': edge_weights\n",
    "                     }"
   ]
  },
  {
   "cell_type": "code",
   "execution_count": 6,
   "metadata": {},
   "outputs": [],
   "source": [
    "from IPython.display import HTML\n",
    "from IPython.display import display\n",
    "from PIL import Image\n",
    "from matplotlib import lines\n",
    "import ipywidgets as widgets\n",
    "import matplotlib.pyplot as plt\n",
    "import networkx as nx\n",
    "import numpy as np"
   ]
  },
  {
   "cell_type": "code",
   "execution_count": 7,
   "metadata": {},
   "outputs": [],
   "source": [
    "def show_map(graph_data, node_colors=None):\n",
    "    G = nx.Graph(graph_data['graph_dict'])\n",
    "    node_colors = node_colors or graph_data['node_colors']\n",
    "    node_positions = graph_data['node_positions']\n",
    "    node_label_pos = graph_data['node_label_positions']\n",
    "    edge_weights = graph_data['edge_weights']\n",
    "\n",
    "    # set the size of the plot\n",
    "    plt.figure(figsize=(18, 13))\n",
    "    # draw the graph (both nodes and edges) with locations from romania_locations\n",
    "    nx.draw(G, pos={k: node_positions[k] for k in G.nodes()},\n",
    "            node_color=[node_colors[node] for node in G.nodes()], linewidths=0.3, edgecolors='k')\n",
    "\n",
    "    # draw labels for nodes\n",
    "    node_label_handles = nx.draw_networkx_labels(G, pos=node_label_pos, font_size=14)\n",
    "\n",
    "    # add a white bounding box behind the node labels\n",
    "    [label.set_bbox(dict(facecolor='white', edgecolor='none')) for label in node_label_handles.values()]\n",
    "\n",
    "    # add edge lables to the graph\n",
    "    nx.draw_networkx_edge_labels(G, pos=node_positions, edge_labels=edge_weights, font_size=14)\n",
    "\n",
    "    # add a legend\n",
    "    white_circle = lines.Line2D([], [], color=\"white\", marker='o', markersize=15, markerfacecolor=\"white\")\n",
    "    orange_circle = lines.Line2D([], [], color=\"orange\", marker='o', markersize=15, markerfacecolor=\"orange\")\n",
    "    red_circle = lines.Line2D([], [], color=\"red\", marker='o', markersize=15, markerfacecolor=\"red\")\n",
    "    gray_circle = lines.Line2D([], [], color=\"gray\", marker='o', markersize=15, markerfacecolor=\"gray\")\n",
    "    green_circle = lines.Line2D([], [], color=\"green\", marker='o', markersize=15, markerfacecolor=\"green\")\n",
    "    plt.legend((white_circle, orange_circle, red_circle, gray_circle, green_circle),\n",
    "               ('Un-explored', 'Frontier', 'Currently Exploring', 'Explored', 'Final Solution'),\n",
    "               numpoints=1, prop={'size': 16}, loc=(.8, .75))\n",
    "\n",
    "    # show the plot. No need to use in notebooks. nx.draw will show the graph itself.\n",
    "    plt.show()"
   ]
  },
  {
   "cell_type": "code",
   "execution_count": 8,
   "metadata": {},
   "outputs": [
    {
     "data": {
      "image/png": "[encoded data removed]",
      "text/plain": [
       "<Figure size 1296x936 with 1 Axes>"
      ]
     },
     "metadata": {},
     "output_type": "display_data"
    }
   ],
   "source": [
    "show_map(romania_graph_data)"
   ]
  },
  {
   "cell_type": "code",
   "execution_count": 9,
   "metadata": {},
   "outputs": [
    {
     "name": "stdout",
     "output_type": "stream",
     "text": [
      "['Arad', 'Bucharest', 'Craiova', 'Drobeta', 'Eforie', 'Fagaras', 'Giurgiu', 'Hirsova', 'Iasi', 'Lugoj', 'Mehadia', 'Neamt', 'Oradea', 'Pitesti', 'Rimnicu', 'Sibiu', 'Timisoara', 'Urziceni', 'Vaslui', 'Zerind']\n"
     ]
    }
   ],
   "source": [
    "## el siguiente código crea un diccionario y calcula y añade al diccionario la distancia manhattan entre las ciudades. \n",
    "import numpy as np\n",
    "\n",
    "distances = {}\n",
    "all_cities = []\n",
    "\n",
    "for city in romania_map.locations.keys():\n",
    "    distances[city] = {}\n",
    "    all_cities.append(city)\n",
    "    \n",
    "all_cities.sort()\n",
    "print(all_cities)\n",
    "\n",
    "for name_1, coordinates_1 in romania_map.locations.items():\n",
    "        for name_2, coordinates_2 in romania_map.locations.items():\n",
    "            distances[name_1][name_2] = np.linalg.norm(\n",
    "                [coordinates_1[0] - coordinates_2[0], coordinates_1[1] - coordinates_2[1]])\n",
    "            distances[name_2][name_1] = np.linalg.norm(\n",
    "                [coordinates_1[0] - coordinates_2[0], coordinates_1[1] - coordinates_2[1]])"
   ]
  },
  {
   "cell_type": "code",
   "execution_count": 10,
   "metadata": {},
   "outputs": [],
   "source": [
    "# Creamos una instancia del problema TSP con la lista de ciudades anterior que se na extraido del mapa.\n",
    "# En el mapa hay informacion de las distancias que se utilizan en la clase TSP_problem para calcular el coste y las heurísticas.\n",
    "tsp = TSP_problem(all_cities)"
   ]
  },
  {
   "cell_type": "code",
   "execution_count": 11,
   "metadata": {},
   "outputs": [],
   "source": [
    "## Redefinimos el hill climbing de AIMA para que el método de generacion de vecinos sea acceder al grafo que hemos definido para el TSP\n",
    "\n",
    "def hill_climbing(problem):\n",
    "    \n",
    "    \"\"\"From the initial node, keep choosing the neighbor with highest value,\n",
    "    stopping when no neighbor is better. [Figure 4.2]\"\"\"\n",
    "    \n",
    "    def find_neighbors(state, number_of_neighbors=100):\n",
    "        \"\"\" finds neighbors using two_opt method \"\"\"\n",
    "        \n",
    "        neighbors = []\n",
    "        \n",
    "        for i in range(number_of_neighbors):\n",
    "            new_state = problem.two_opt(state)\n",
    "            neighbors.append(Node(new_state))\n",
    "            state = new_state\n",
    "            \n",
    "        return neighbors\n",
    "\n",
    "    # as this is a stochastic algorithm, we will set a cap on the number of iterations\n",
    "    iterations = 10000\n",
    "    \n",
    "    current = Node(problem.initial)\n",
    "    while iterations:\n",
    "        neighbors = find_neighbors(current.state)\n",
    "        if not neighbors:\n",
    "            break\n",
    "        neighbor = argmax_random_tie(neighbors,\n",
    "                                     key=lambda node: problem.value(node.state))\n",
    "        if problem.value(neighbor.state) <= problem.value(current.state):\n",
    "            current.state = neighbor.state\n",
    "        iterations -= 1\n",
    "        \n",
    "    return current.state"
   ]
  },
  {
   "cell_type": "code",
   "execution_count": 12,
   "metadata": {},
   "outputs": [
    {
     "data": {
      "text/plain": [
       "['Zerind',\n",
       " 'Eforie',\n",
       " 'Drobeta',\n",
       " 'Lugoj',\n",
       " 'Iasi',\n",
       " 'Vaslui',\n",
       " 'Giurgiu',\n",
       " 'Bucharest',\n",
       " 'Pitesti',\n",
       " 'Timisoara',\n",
       " 'Rimnicu',\n",
       " 'Oradea',\n",
       " 'Fagaras',\n",
       " 'Neamt',\n",
       " 'Sibiu',\n",
       " 'Craiova',\n",
       " 'Urziceni',\n",
       " 'Arad',\n",
       " 'Mehadia',\n",
       " 'Hirsova']"
      ]
     },
     "execution_count": 12,
     "metadata": {},
     "output_type": "execute_result"
    }
   ],
   "source": [
    "# Y lo resolvemos con escalada. \n",
    "hill_climbing(tsp)"
   ]
  },
  {
   "cell_type": "code",
   "execution_count": 13,
   "metadata": {},
   "outputs": [
    {
     "data": {
      "text/plain": [
       "['Iasi',\n",
       " 'Arad',\n",
       " 'Bucharest',\n",
       " 'Eforie',\n",
       " 'Pitesti',\n",
       " 'Drobeta',\n",
       " 'Sibiu',\n",
       " 'Lugoj',\n",
       " 'Timisoara',\n",
       " 'Giurgiu',\n",
       " 'Zerind',\n",
       " 'Mehadia',\n",
       " 'Urziceni',\n",
       " 'Fagaras',\n",
       " 'Rimnicu',\n",
       " 'Vaslui',\n",
       " 'Oradea',\n",
       " 'Craiova',\n",
       " 'Hirsova',\n",
       " 'Neamt']"
      ]
     },
     "execution_count": 13,
     "metadata": {},
     "output_type": "execute_result"
    }
   ],
   "source": [
    "hill_climbing(tsp)"
   ]
  },
  {
   "cell_type": "markdown",
   "metadata": {},
   "source": [
    "### Ejercicio 1. Resuelve el problema TSP con el algoritmo de escalada por máxima pendiente en el mapa de ciudades de Rumanía y explica el resultado obtenido. \n",
    "\n",
    "Realiza un análisis razonado de las propiedades del algoritmo: eficiencia y optimalidad en base a la ejecución.\n",
    "\n",
    "Este algoritmo no es óptimo, debido a que hacemos uso de una aleatoriedad y en cada estado nos quedamos siempre con el mejor, aunque eso suponga encontrar un camino no óptimo, ya que muchas veces es necesario empeorar para llegar a la solución óptima. La eficiencia en algunos casos será mejor que en otros debido a dicha aleatoriedad. El funcionamiento general de este algoritmo consiste en generar nodos vecinos en cada estado y quedarme con el que contenga la menor distancia. Para generar estos nodos vecinos, calculo dos índices aleatorios e invierto los elementos de la lista que se encuentran entre dichos índices. El algoritmo en general realiza 10000 iteraciones y son limitadas porque nunca sabremos si ya hemos llegado a la solución óptima. Por lo tanto si tengo una solución y llego a otra mejor, la cambio. En cuanto a la eficiencia, si bien es cierto que es más eficiente que otros algoritmos de búsqueda ciega y/o exahustiva debido a que hacemos uso de heurísticas y no generamos todos los estados posibles para resolver nuestro problema, llegamos a una solución de una forma relativamente rápida pero no óptima.\n",
    "\n",
    "¿Ha encontrado el algoritmo el óptimo global? \n",
    "¿Ha encontrado la misma solución en distintas ejecuciones?\n",
    "\n",
    "El algoritmo no encuentra el óptimo global debido a la naturaleza aleatoria del algoritmo y a que no evaluamos todas las combinaciones posibles. En cada ejecución obtenemos una solución distinta por las mismas razones, aunque siempre será la optima dentro de las opciones posibles.\n",
    "\n",
    "Sólo se pide hacer una comparativa teórica (breve) con cómo se comporta este algoritmo y relacionarlo con otros algoritmos vistos en clase.\n",
    "\n",
    "Después de describir en el primer apartado como funciona el algoritmo, la principal diferencia respecto a los vistos en clase, es que cuando llegamos a un estado, generamos vecinos aleatorios para ver si encontramos una solución mejor. En los algoritmos de búsqueda ciega, únicamente vamos generando hijos hasta que encontramos una solución válida. En los algoritmos heurísticos hacemos lo mismo, pero eligiendo los hijos más prometedores.\n",
    "\n",
    "Opcionalmente se puede hacer la comparativa real con algún algoritmo de búsqueda exhaustiva. \n"
   ]
  },
  {
   "cell_type": "markdown",
   "metadata": {},
   "source": [
    "## Parte 2. Enfriamiento simulado ( simulated annealing) \n",
    "El algoritmo de enfriamiento simulado puede manejar las situaciones de óptimo local o mesetas típicas en algoritmos de escalada.\n",
    "<br>\n",
    "El enfriamiento simulado es bastante similar a la escalada pero en lugar de elegir el mejor movimiento en cada iteración, elige un movimiento aleatorio. Si este movimiento aleatorio nos acerca al óptimo global, será aceptado,\n",
    "pero si no lo hace, el algoritmo puede aceptar o rechazar el movimiento en función de una probabilidad dictada por la temperatura.  Cuando la `temperatura` es alta, es más probable que el algoritmo acepte un movimiento aleatorio incluso si es malo. A bajas temperaturas, solo se aceptan buenos movimientos, con alguna excepción ocasional.\n",
    "Esto permite la exploración del espacio de estado y evita que el algoritmo se atasque en el óptimo local.\n",
    "\n",
    "    Usaremos la implementación de AIMA del modulo search.py\n",
    "    \n",
    "    def simulated_annealing(problem, schedule=exp_schedule()):\n",
    "    \"\"\"[Figure 4.5] CAUTION: This differs from the pseudocode as it\n",
    "    returns a state instead of a Node.\"\"\"\n",
    "    current = Node(problem.initial)\n",
    "    for t in range(sys.maxsize):\n",
    "        T = schedule(t)\n",
    "        if T == 0:\n",
    "            return current.state\n",
    "        neighbors = current.expand(problem)\n",
    "        if not neighbors:\n",
    "            return current.state\n",
    "        next_choice = random.choice(neighbors)\n",
    "        delta_e = problem.value(next_choice.state) - problem.value(current.state)\n",
    "        if delta_e > 0 or probability(math.exp(delta_e / T)):\n",
    "            current = next_choice"
   ]
  },
  {
   "cell_type": "markdown",
   "metadata": {},
   "source": [
    "Como hemos visto en clase hay varios métodos de enfriamiento (scheduling routine) \n",
    "Se puede variar el método de enfriamiento. En la implementación actual estamos usando el método de enfriamiento exponencial (que se pasa como parámetro). \n",
    "\n",
    "    def exp_schedule(k=20, lam=0.005, limit=100):\n",
    "        \"\"\"One possible schedule function for simulated annealing\"\"\"\n",
    "        return lambda t: (k * math.exp(-lam * t) if t < limit else 0)"
   ]
  },
  {
   "cell_type": "markdown",
   "metadata": {},
   "source": [
    "Como ejemplo, vamos a definir un problema sencillo de encontrar el punto más alto en una rejilla. Este problema está definido en el módulo search.py como PeakFindingProblem. Lo reproducimos aquí y creamos una rejilla simple."
   ]
  },
  {
   "cell_type": "code",
   "execution_count": 14,
   "metadata": {},
   "outputs": [],
   "source": [
    "initial = (0, 0)\n",
    "grid = [[3, 7, 2, 8], [5, 2, 9, 1], [5, 3, 3, 1]]"
   ]
  },
  {
   "cell_type": "code",
   "execution_count": 15,
   "metadata": {},
   "outputs": [],
   "source": [
    "# Pre-defined actions for PeakFindingProblem\n",
    "directions4 = { 'W':(-1, 0), 'N':(0, 1), 'E':(1, 0), 'S':(0, -1) }\n",
    "directions8 = dict(directions4) \n",
    "directions8.update({'NW':(-1, 1), 'NE':(1, 1), 'SE':(1, -1), 'SW':(-1, -1) })\n",
    "\n",
    "class PeakFindingProblem(Problem):\n",
    "    \"\"\"Problem of finding the highest peak in a limited grid\"\"\"\n",
    "\n",
    "    def __init__(self, initial, grid, defined_actions=directions4):\n",
    "        \"\"\"The grid is a 2 dimensional array/list whose state is specified by tuple of indices\"\"\"\n",
    "        Problem.__init__(self, initial)\n",
    "        self.grid = grid\n",
    "        self.defined_actions = defined_actions\n",
    "        self.n = len(grid)\n",
    "        assert self.n > 0\n",
    "        self.m = len(grid[0])\n",
    "        assert self.m > 0\n",
    "\n",
    "    def actions(self, state):\n",
    "        \"\"\"Returns the list of actions which are allowed to be taken from the given state\"\"\"\n",
    "        allowed_actions = []\n",
    "        for action in self.defined_actions:\n",
    "            next_state = vector_add(state, self.defined_actions[action])\n",
    "            if next_state[0] >= 0 and next_state[1] >= 0 and next_state[0] <= self.n - 1 and next_state[1] <= self.m - 1:\n",
    "                allowed_actions.append(action)\n",
    "\n",
    "        return allowed_actions\n",
    "\n",
    "    def result(self, state, action):\n",
    "        \"\"\"Moves in the direction specified by action\"\"\"\n",
    "        return vector_add(state, self.defined_actions[action])\n",
    "\n",
    "    def value(self, state):\n",
    "        \"\"\"Value of a state is the value it is the index to\"\"\"\n",
    "        x, y = state\n",
    "        assert 0 <= x < self.n\n",
    "        assert 0 <= y < self.m\n",
    "        return self.grid[x][y]\n"
   ]
  },
  {
   "cell_type": "code",
   "execution_count": 16,
   "metadata": {},
   "outputs": [],
   "source": [
    "problem = PeakFindingProblem(initial, grid, directions4)"
   ]
  },
  {
   "cell_type": "code",
   "execution_count": 17,
   "metadata": {},
   "outputs": [
    {
     "data": {
      "text/plain": [
       "9"
      ]
     },
     "execution_count": 17,
     "metadata": {},
     "output_type": "execute_result"
    }
   ],
   "source": [
    "# Lo resolvemos con enfriamiento simulado\n",
    "\n",
    "solutions = {problem.value(simulated_annealing(problem)) for i in range(100)}\n",
    "max(solutions)"
   ]
  },
  {
   "cell_type": "code",
   "execution_count": 18,
   "metadata": {},
   "outputs": [],
   "source": [
    "def hill_climbing(problem):\n",
    "    \"\"\"From the initial node, keep choosing the neighbor with highest value,\n",
    "    stopping when no neighbor is better. [Figure 4.2]\"\"\"\n",
    "    current = Node(problem.initial)\n",
    "    while True:\n",
    "        neighbors = current.expand(problem)\n",
    "        if not neighbors:\n",
    "            break\n",
    "        neighbor = argmax_random_tie(neighbors,\n",
    "                                     key=lambda node: problem.value(node.state))\n",
    "        if problem.value(neighbor.state) <= problem.value(current.state):\n",
    "            break\n",
    "        current = neighbor\n",
    "    return current.state"
   ]
  },
  {
   "cell_type": "code",
   "execution_count": 19,
   "metadata": {},
   "outputs": [
    {
     "data": {
      "text/plain": [
       "7"
      ]
     },
     "execution_count": 19,
     "metadata": {},
     "output_type": "execute_result"
    }
   ],
   "source": [
    "solution = problem.value(hill_climbing(problem))\n",
    "solution"
   ]
  },
  {
   "cell_type": "markdown",
   "metadata": {},
   "source": [
    "### Ejercicio 2.  Resuelve el problema anterior de encontrar el punto máximo en una rejilla. Comenta y razona los resultados obtenidos en distintas rejjillas con los algoritmos de enfriamiento simulado y escalada por máxima pendiente. \n",
    " \n",
    " \n",
    "Ejemplo de rejilla para pruebas\n",
    "\n",
    "grid = [[0.00, 0.00, 0.00, 0.00, 0.00, 0.00, 0.00, 0.00, 0.00],\n",
    "        [0.00, 0.00, 0.00, 0.00, 0.00, 0.00, 0.00, 0.00, 0.00],\n",
    "        [0.00, 0.00, 0.00, 0.40, 0.40, 0.00, 0.00, 0.00, 0.00],\n",
    "        [0.00, 0.00, 0.00, 0.00, 0.00, 0.00, 0.00, 0.70, 1.40],\n",
    "        [2.20, 1.80, 0.70, 0.00, 0.00, 0.00, 0.00, 0.00, 0.00],\n",
    "        [2.20, 1.80, 4.70, 6.50, 4.30, 1.80, 0.70, 0.00, 0.00],\n",
    "        [0.00, 0.00, 0.00, 0.00, 0.00, 0.00, 11.2, 0.70, 1.40],\n",
    "        [2.20, 1.80, 0.70, 0.00, 0.00, 9.00, 0.00, 0.00, 0.00],\n",
    "        [2.20, 1.80, 4.70, 6.50, 4.30, 1.80, 0.70, 0.00, 0.00],\n",
    "        [0.00, 0.00, 0.00, 0.00, 0.00, 0.00, 0.00, 0.70, 1.40],\n",
    "        [2.20, 1.80, 0.70, 0.00, 0.00, 0.00, 0.00, 0.00, 0.00],\n",
    "        [2.20, 1.80, 4.70, 8.50, 4.30, 1.80, 0.70, 0.00, 0.00]]\n",
    "        \n",
    "        \n",
    "Con este ejemplo de grid:\n",
    "\n",
    "- El resultado para enfriamiento simulado es 11.2, mientras que para hill climbing es 0.0\n",
    "\n",
    "- En el caso del enfriamiento simulado, obtenemos el punto más alto en la rejilla que es el 11.2 mientras que en el hill climbing nos encontramos con 0.0 que en este caso es el punto más bajo.\n",
    "\n",
    "- La solución que encontramos con hill climbing, se debe a que el valor inicial en la rejilla es 0.0 y al compararlo con su vecino más próximo, ambos tienen el mismo valor y no busca más en la rejilla un punto más alto.\n",
    "\n",
    "- Con enfriamiento simulado, sin embargo, sí que encontramos el punto más alto de la rejilla ya que vamos comparando el valor actual de la rejilla con el valor de un vecino aleatorio y con una temperatura baja la probabilidad de aceptar un mal vecino es muy baja. Si el vecino es un punto más alto, el nodo actual será el punto más alto, por lo que al encontrar el valor mayor que es 11.2 no ha encontrado ningún vecino en la rejilla que tuviera un valor mayor y la temperatura era muy baja.\n",
    "\n",
    "\n",
    "Con el primer ejemplo de grid:\n",
    "\n",
    "- El resultado para enfriamiento simulado es 9, mientras que para hill climbing es 7\n",
    "\n",
    "- Como en el ejemplo anterior, con enfriamiento simulado encontramos el punto más alto de la rejilla de la misma forma.\n",
    "\n",
    "- En este caso, el resultado de hill climbing es diferente ya que, el primer valor de la rejilla es 3 y su vecino es 7 siendo este un punto más alto, entonces el valor que nos quedamos por el momento es 7, pero como el valor siguiente es 2 que es menor a 7, entonces el bucle se rompe y no buscamos un punto más alto en la rejilla.\n"
   ]
  },
  {
   "cell_type": "markdown",
   "metadata": {},
   "source": [
    "## Parte 3. Algoritmos genéticos\n"
   ]
  },
  {
   "cell_type": "markdown",
   "metadata": {},
   "source": [
    "Se define una clase ProblemaGenetico que incluye los elementos necesarios para la representación de un problema de optimización que se va a resolver con un algoritmo genético. Los elementos son los que hemos visto en clase:\n",
    "\n",
    " - genes: lista de genes usados en el genotipo de los estados.\n",
    " - longitud_individuos: longitud de los cromosomas\n",
    " - decodifica: función de obtiene el fenotipo a partir del genotipo.\n",
    " - fitness: función de valoración.\n",
    " - muta: función de mutación de un cromosoma \n",
    " - cruza: función de cruce de un par de cromosomas"
   ]
  },
  {
   "cell_type": "code",
   "execution_count": 1,
   "metadata": {},
   "outputs": [],
   "source": [
    "import random"
   ]
  },
  {
   "cell_type": "code",
   "execution_count": 2,
   "metadata": {},
   "outputs": [],
   "source": [
    "class ProblemaGenetico(object):\n",
    "        def __init__(self, genes,fun_dec,fun_muta , fun_cruza, fun_fitness,longitud_individuos):\n",
    "            self.genes = genes\n",
    "            self.fun_dec = fun_dec\n",
    "            self.fun_cruza = fun_cruza\n",
    "            self.fun_muta = fun_muta\n",
    "            self.fun_fitness = fun_fitness\n",
    "            self.longitud_individuos = longitud_individuos\n",
    "            \"\"\"Constructor de la clase\"\"\"\n",
    "                \n",
    "        def decodifica(self, genotipo):\n",
    "            \"\"\"Devuelve el fenotipo a partir del genotipo\"\"\"\n",
    "            fenotipo = self.fun_dec(genotipo)\n",
    "            return fenotipo\n",
    "        def muta(self, cromosoma,prob):\n",
    "            \"\"\"Devuelve el cromosoma mutado\"\"\"   \n",
    "            mutante = self.fun_muta(cromosoma,prob)\n",
    "            return mutante\n",
    "        def cruza(self, cromosoma1, cromosoma2):         \n",
    "            \"\"\"Devuelve el cruce de un par de cromosomas\"\"\"\n",
    "            cruce = self.fun_cruza(cromosoma1,cromosoma2)\n",
    "            return cruce \n",
    "        def fitness(self, cromosoma):    \n",
    "            \"\"\"Función de valoración\"\"\"\n",
    "            valoracion = self.fun_fitness(cromosoma)\n",
    "            return valoracion"
   ]
  },
  {
   "cell_type": "markdown",
   "metadata": {},
   "source": [
    "En primer lugar vamos a definir una instancia de la clase anterior correspondiente al problema de optimizar (maximizar o minimizar) la función cuadrado x^2 en el conjunto de los números naturales menores que 2^{10}.\n",
    "Se usa este ejemplo (del que sabemos la solución) para ver todos los elementos y poder observar el comportamiento. \n"
   ]
  },
  {
   "cell_type": "code",
   "execution_count": 3,
   "metadata": {},
   "outputs": [],
   "source": [
    "# Será necesaria la siguiente función que interpreta una lista de 0's y 1's como un número natural:  \n",
    "# La siguiente función que interpreta una lista de 0's y 1's como\n",
    "# un número natural:  \n",
    "\n",
    "def binario_a_decimal(x):\n",
    "    return sum(b*(2**i) for (i,b) in enumerate(x)) "
   ]
  },
  {
   "cell_type": "code",
   "execution_count": 23,
   "metadata": {},
   "outputs": [
    {
     "data": {
      "text/plain": [
       "[(0, 1), (1, 0), (2, 0)]"
      ]
     },
     "execution_count": 23,
     "metadata": {},
     "output_type": "execute_result"
    }
   ],
   "source": [
    "list(enumerate([1, 0, 0]))"
   ]
  },
  {
   "cell_type": "code",
   "execution_count": 4,
   "metadata": {},
   "outputs": [],
   "source": [
    "# En primer luegar usaremos la clase anterior para representar el problema de optimizar (maximizar o minimizar)\n",
    "# la función cuadrado en el conjunto de los números naturales menores que\n",
    "# 2^{10}.\n",
    "\n",
    "# Tenemos que definir funciones de cruce, mutación y fitness para este problema.\n",
    "\n",
    "def fun_cruzar(cromosoma1, cromosoma2):\n",
    "    \"\"\"Cruza los cromosomas por la mitad\"\"\"\n",
    "    l1 = len(cromosoma1)\n",
    "    l2 = len(cromosoma2)\n",
    "    cruce1 = cromosoma1[0:l1//2]+cromosoma2[l1//2:l2]\n",
    "    cruce2 = cromosoma2[0:l2//2]+cromosoma1[l2//2:l1]\n",
    "    return [cruce1,cruce2]\n",
    "\n",
    "def fun_mutar(cromosoma,prob):\n",
    "    \"\"\"Elige un elemento al azar del cromosoma y lo modifica con una probabilidad igual a prob\"\"\"\n",
    "    l = len(cromosoma)\n",
    "    p = random.randint(0,l-1)\n",
    "    if prob > random.uniform(0,1):\n",
    "        cromosoma[p] =  (cromosoma[p]+1)%2\n",
    "    return cromosoma\n",
    "\n",
    "def fun_fitness_cuad(cromosoma):\n",
    "    \"\"\"Función de valoración que eleva al cuadrado el número recibido en binario\"\"\"\n",
    "    n = binario_a_decimal(cromosoma)**2\n",
    "    return n\n",
    "\n",
    "cuadrados = ProblemaGenetico([0,1],binario_a_decimal,fun_mutar, fun_cruzar, fun_fitness_cuad,10)"
   ]
  },
  {
   "cell_type": "markdown",
   "metadata": {},
   "source": [
    "Una vez definida la instancia cuadrados que representa el problema genético, probar alguna de las funciones definidas en la clase anterior, para esta instancia concreta. Por ejemplo:"
   ]
  },
  {
   "cell_type": "code",
   "execution_count": 25,
   "metadata": {},
   "outputs": [
    {
     "data": {
      "text/plain": [
       "1329"
      ]
     },
     "execution_count": 25,
     "metadata": {},
     "output_type": "execute_result"
    }
   ],
   "source": [
    "cuadrados.decodifica([1,0,0,0,1,1,0,0,1,0,1])\n",
    "# Salida esperada: 1329"
   ]
  },
  {
   "cell_type": "code",
   "execution_count": 26,
   "metadata": {},
   "outputs": [
    {
     "data": {
      "text/plain": [
       "1766241"
      ]
     },
     "execution_count": 26,
     "metadata": {},
     "output_type": "execute_result"
    }
   ],
   "source": [
    "cuadrados.fitness([1,0,0,0,1,1,0,0,1,0,1])\n",
    "# Salida esperada: 1766241"
   ]
  },
  {
   "cell_type": "code",
   "execution_count": 27,
   "metadata": {},
   "outputs": [
    {
     "data": {
      "text/plain": [
       "[1, 0, 0, 0, 1, 1, 0, 0, 1, 0, 1]"
      ]
     },
     "execution_count": 27,
     "metadata": {},
     "output_type": "execute_result"
    }
   ],
   "source": [
    "cuadrados.muta([1,0,0,0,1,1,0,0,1,0,1],0.1)\n",
    "# Posible salida: [1, 0, 0, 0, 1, 1, 0, 0, 1, 0, 1]"
   ]
  },
  {
   "cell_type": "code",
   "execution_count": 28,
   "metadata": {
    "scrolled": true
   },
   "outputs": [
    {
     "data": {
      "text/plain": [
       "[1, 0, 0, 0, 1, 1, 0, 0, 0, 0, 1]"
      ]
     },
     "execution_count": 28,
     "metadata": {},
     "output_type": "execute_result"
    }
   ],
   "source": [
    "cuadrados.muta([1,0,0,0,1,1,0,0,1,0,1],0.1)\n",
    "# Posible salida: [0, 0, 0, 0, 1, 1, 0, 0, 1, 0, 1]"
   ]
  },
  {
   "cell_type": "code",
   "execution_count": 29,
   "metadata": {},
   "outputs": [
    {
     "data": {
      "text/plain": [
       "[[1, 0, 0, 0, 1, 0, 0, 1, 1, 1], [0, 1, 1, 0, 1, 1, 0, 0, 1, 0, 1]]"
      ]
     },
     "execution_count": 29,
     "metadata": {},
     "output_type": "execute_result"
    }
   ],
   "source": [
    "cuadrados.cruza([1,0,0,0,1,1,0,0,1,0,1],[0,1,1,0,1,0,0,1,1,1])\n",
    "# Posible salida: [[1, 0, 0, 0, 1, 0, 0, 1, 1, 1], [0, 1, 1, 0, 1, 1, 0, 0, 1, 0, 1]]l "
   ]
  },
  {
   "cell_type": "markdown",
   "metadata": {},
   "source": [
    "### Ejercicio 3\n",
    "\n",
    "   - Definir una función poblacion_inicial(problema_genetico,tamaño), para definir una población inicial de un tamaño dado, para una instancia dada de la clase anterior ProblemaGenetico\n",
    "\n",
    "sugerencia: usar random.choice\n",
    "\n",
    "   - Definir una función de cruce que recibe una instancia de Problema_Genetico y una población de padres (supondremos que hay un número par de padres), obtiene la población resultante de cruzarlos de dos en dos (en el orden en que aparecen)\n",
    "\n",
    "cruza_padres(problema_genetico,padres)\n",
    "\n",
    "   - Definir la función de mutación que recibe una instancia de Problema_Genetico, una población y una probabilidad de mutación, obtiene la población resultante de aplicar operaciones de mutación a cada individuo llamando a la función muta definida para el problema genético.\n",
    "muta_individuos(problema_genetico, poblacion, prob)"
   ]
  },
  {
   "cell_type": "code",
   "execution_count": 5,
   "metadata": {},
   "outputs": [],
   "source": [
    "def poblacion_inicial(problema_genetico, size):\n",
    "    l = []\n",
    "    for i in range(size):\n",
    "        aux = []\n",
    "        for j in range(problema_genetico.longitud_individuos):\n",
    "            aux.append(random.choice(problema_genetico.genes))\n",
    "        l.append(aux)\n",
    "            \n",
    "    return l"
   ]
  },
  {
   "cell_type": "code",
   "execution_count": 31,
   "metadata": {},
   "outputs": [
    {
     "data": {
      "text/plain": [
       "[[1, 1, 1, 0, 1, 1, 1, 1, 1, 1],\n",
       " [1, 1, 0, 1, 0, 1, 0, 1, 1, 0],\n",
       " [0, 0, 1, 1, 0, 1, 0, 0, 1, 0],\n",
       " [0, 0, 0, 0, 1, 0, 1, 0, 1, 1],\n",
       " [0, 1, 0, 1, 0, 0, 1, 1, 1, 0],\n",
       " [0, 1, 1, 1, 0, 0, 0, 0, 1, 0],\n",
       " [1, 1, 1, 0, 1, 0, 0, 0, 0, 0],\n",
       " [1, 0, 1, 0, 1, 0, 0, 1, 1, 0],\n",
       " [0, 0, 1, 1, 1, 1, 1, 0, 0, 1],\n",
       " [0, 1, 1, 0, 0, 0, 1, 0, 0, 1]]"
      ]
     },
     "execution_count": 31,
     "metadata": {},
     "output_type": "execute_result"
    }
   ],
   "source": [
    "poblacion_inicial(cuadrados,10)"
   ]
  },
  {
   "cell_type": "code",
   "execution_count": 6,
   "metadata": {},
   "outputs": [],
   "source": [
    "def cruza_padres(problema_genetico,padres):\n",
    "    l = []\n",
    "    i = 0\n",
    "    while(i < len(padres)):\n",
    "        cruces = problema_genetico.cruza(padres[i], padres[i + 1])\n",
    "        i += 2\n",
    "        l.append(cruces[0])\n",
    "        l.append(cruces[1])\n",
    "    return l"
   ]
  },
  {
   "cell_type": "code",
   "execution_count": 33,
   "metadata": {},
   "outputs": [
    {
     "data": {
      "text/plain": [
       "[[1, 1, 0, 1, 0, 0, 1, 0, 1, 1],\n",
       " [0, 1, 0, 1, 0, 1, 0, 0, 0, 1],\n",
       " [0, 0, 1, 0, 0, 1, 1, 1, 1, 0],\n",
       " [0, 0, 1, 1, 1, 0, 1, 1, 1, 0],\n",
       " [0, 1, 1, 0, 0, 0, 1, 1, 0, 1],\n",
       " [1, 0, 1, 1, 1, 0, 0, 0, 0, 0]]"
      ]
     },
     "execution_count": 33,
     "metadata": {},
     "output_type": "execute_result"
    }
   ],
   "source": [
    "p1 = [[1, 1, 0, 1, 0, 1, 0, 0, 0, 1],\n",
    "      [0, 1, 0, 1, 0, 0, 1, 0, 1, 1],\n",
    "      [0, 0, 1, 0, 0, 0, 1, 1, 1, 0],\n",
    "      [0, 0, 1, 1, 1, 1, 1, 1, 1, 0],\n",
    "      [0, 1, 1, 0, 0, 0, 0, 0, 0, 0],\n",
    "      [1, 0, 1, 1, 1, 0, 1, 1, 0, 1]]\n",
    "\n",
    "cruza_padres(cuadrados,p1)\n",
    "# Posible salida\n",
    "# [[1, 1, 0, 1, 0, 0, 1, 0, 1, 1],\n",
    "#  [0, 1, 0, 1, 0, 1, 0, 0, 0, 1],\n",
    "#  [0, 0, 1, 1, 1, 1, 1, 1, 1, 0],\n",
    "#  [0, 0, 1, 0, 0, 0, 1, 1, 1, 0],\n",
    "#  [0, 1, 1, 1, 1, 0, 1, 1, 0, 1],\n",
    "#  [1, 0, 1, 0, 0, 0, 0, 0, 0, 0]]"
   ]
  },
  {
   "cell_type": "code",
   "execution_count": 7,
   "metadata": {},
   "outputs": [],
   "source": [
    "def muta_individuos(problema_genetico, poblacion, prob):\n",
    "    \n",
    "    l =[]\n",
    "    \n",
    "    # hay que llamar a  problema_genetico.muta(x,prob) para todos los individuos de la poblacion.\n",
    "    for i in range(len(poblacion)):\n",
    "        l.append(problema_genetico.muta(poblacion[i], prob))\n",
    "    \n",
    "    return l    "
   ]
  },
  {
   "cell_type": "code",
   "execution_count": 35,
   "metadata": {
    "scrolled": true
   },
   "outputs": [
    {
     "data": {
      "text/plain": [
       "[[1, 1, 0, 1, 0, 1, 0, 0, 0, 1],\n",
       " [0, 1, 0, 1, 0, 0, 0, 0, 1, 1],\n",
       " [0, 1, 1, 0, 0, 0, 1, 1, 1, 0],\n",
       " [0, 0, 1, 1, 1, 1, 1, 1, 1, 0],\n",
       " [0, 1, 1, 0, 0, 0, 0, 0, 0, 0],\n",
       " [1, 0, 1, 1, 1, 0, 1, 1, 0, 1]]"
      ]
     },
     "execution_count": 35,
     "metadata": {},
     "output_type": "execute_result"
    }
   ],
   "source": [
    "muta_individuos(cuadrados,p1,0.5)\n",
    "# Posible salida:\n",
    "#  [[1, 1, 0, 1, 0, 1, 0, 0, 0, 1],\n",
    "#   [0, 1, 0, 1, 0, 0, 1, 0, 0, 1],\n",
    "#   [0, 0, 1, 0, 0, 0, 1, 0, 1, 0],\n",
    "#   [0, 0, 1, 1, 1, 1, 1, 1, 1, 0],\n",
    "#   [0, 1, 0, 0, 0, 0, 0, 0, 0, 0],\n",
    "#   [1, 0, 1, 1, 1, 0, 1, 1, 0, 1]]"
   ]
  },
  {
   "cell_type": "code",
   "execution_count": 36,
   "metadata": {},
   "outputs": [],
   "source": [
    "p1 = [[1, 1, 0, 1, 0, 1, 0, 0, 0, 1],\n",
    "      [0, 1, 0, 1, 0, 0, 1, 0, 1, 1],\n",
    "      [0, 0, 1, 0, 0, 0, 1, 1, 1, 0],\n",
    "      [0, 0, 1, 1, 1, 1, 1, 1, 1, 0],\n",
    "      [0, 1, 1, 0, 0, 0, 0, 0, 0, 0],\n",
    "      [1, 0, 1, 1, 1, 0, 1, 1, 0, 1]]"
   ]
  },
  {
   "cell_type": "code",
   "execution_count": 37,
   "metadata": {},
   "outputs": [
    {
     "data": {
      "text/plain": [
       "[[1, 1, 0, 1, 1, 1, 0, 0, 0, 1],\n",
       " [0, 0, 0, 1, 0, 0, 1, 0, 1, 1],\n",
       " [0, 0, 1, 0, 0, 0, 1, 1, 1, 0],\n",
       " [0, 0, 1, 1, 1, 1, 1, 1, 1, 0],\n",
       " [0, 1, 1, 1, 0, 0, 0, 0, 0, 0],\n",
       " [1, 0, 1, 1, 1, 0, 1, 1, 0, 1]]"
      ]
     },
     "execution_count": 37,
     "metadata": {},
     "output_type": "execute_result"
    }
   ],
   "source": [
    "muta_individuos(cuadrados,p1,0.5)"
   ]
  },
  {
   "cell_type": "markdown",
   "metadata": {},
   "source": [
    "### Ejercicio 4\n",
    "\n",
    "Se pide definir una función de selección mediante torneo de n individuos de una población.  \n",
    "La función recibe como entrada:\n",
    " - una instancia de la clase ProblemaGenetico\n",
    " - una población\n",
    " - el número n de individuos que vamos a seleccionar\n",
    " - el número k de participantes en el torneo\n",
    " - un valor opt que puede ser o la función max o la función min (dependiendo de si el problema es de maximización o de minimización, resp.).\n",
    "\n",
    "seleccion\\_por\\_torneo(problema_genetico,poblacion,n,k,opt) \n",
    "\n",
    "INDICACIÓN: Usar random.sample para seleccionar k elementos de una secuencia. \n",
    "Por ejemplo, random.sample(population=[2,5,7,8,9], k=3) devuelve [7,5,8]. "
   ]
  },
  {
   "cell_type": "code",
   "execution_count": 8,
   "metadata": {},
   "outputs": [],
   "source": [
    "def seleccion_por_torneo(problema_genetico, poblacion, n, k, opt):\n",
    "    \"\"\"Selección por torneo de n individuos de una población. Siendo k el nº de participantes\n",
    "        y opt la función max o min.\"\"\"\n",
    "    seleccionados = []\n",
    "    for i in range(n):\n",
    "        participantes = random.sample(poblacion,k)\n",
    "        seleccionado = opt(participantes, key=problema_genetico.fitness)\n",
    "        opt(poblacion, key=problema_genetico.fitness)\n",
    "        seleccionados.append(seleccionado)\n",
    "        # poblacion.remove(seleccionado)\n",
    "    return seleccionados  "
   ]
  },
  {
   "cell_type": "code",
   "execution_count": 39,
   "metadata": {},
   "outputs": [
    {
     "data": {
      "text/plain": [
       "[[1, 1, 1, 1, 1, 0, 0, 1, 1, 1],\n",
       " [1, 1, 1, 1, 1, 0, 0, 1, 1, 1],\n",
       " [1, 1, 1, 1, 1, 0, 0, 1, 1, 1]]"
      ]
     },
     "execution_count": 39,
     "metadata": {},
     "output_type": "execute_result"
    }
   ],
   "source": [
    "#Ejemplo\n",
    "seleccion_por_torneo(cuadrados, poblacion_inicial(cuadrados,8),3,6,max)\n",
    "# Posible salida: [[1, 1, 1, 1, 1, 0, 0, 0, 1, 1], [1, 0, 0, 1, 1, 1, 0, 1, 0, 1], [1, 1, 1, 1, 0, 1, 1, 1, 0, 1]]\n"
   ]
  },
  {
   "cell_type": "code",
   "execution_count": 40,
   "metadata": {},
   "outputs": [
    {
     "data": {
      "text/plain": [
       "[[0, 1, 1, 0, 0, 1, 1, 0, 1, 0],\n",
       " [0, 0, 1, 0, 1, 1, 1, 0, 0, 0],\n",
       " [0, 0, 1, 0, 1, 1, 1, 0, 0, 0]]"
      ]
     },
     "execution_count": 40,
     "metadata": {},
     "output_type": "execute_result"
    }
   ],
   "source": [
    "seleccion_por_torneo(cuadrados, poblacion_inicial(cuadrados,8),3,6,min)\n",
    "# [[0, 0, 1, 1, 0, 1, 1, 0, 0, 0], [1, 0, 1, 0, 1, 1, 1, 0, 0, 0], [1, 1, 0, 1, 0, 0, 1, 0, 1, 0]]"
   ]
  },
  {
   "cell_type": "code",
   "execution_count": 9,
   "metadata": {},
   "outputs": [],
   "source": [
    "# La siguiente función implementa una posibilidad para el algoritmo genético completo: \n",
    "# inicializa t = 0 \n",
    "# Generar y evaluar la Población P(t)\n",
    "# Mientras no hemos llegado al número de generaciones fijado:  t < nGen\n",
    "#    P1 = Selección por torneo de (1-size)·p individuos de P(t)\n",
    "#    P2 = Selección por torneo de (size·p) individuos de P(t)\n",
    "#    Aplicar cruce en la población P2\n",
    "#    P4 = Union de P1 y P3\n",
    "#    P(t+1) := Aplicar mutación P4 \n",
    "#    Evalua la población P(t+1) \n",
    "#    t:= t+1\n",
    "        \n",
    "# Sus argumentos son:\n",
    "# problema_genetico: una instancia de la clase ProblemaGenetico con la representación adecuada del problema de optimización \n",
    "# que se quiere resolver.\n",
    "# k: número de participantes en los torneos de selección.\n",
    "# opt: max ó min, dependiendo si el problema es de maximización o de minimización. \n",
    "# nGen: número de generaciones (que se usa como condición de terminación)\n",
    "# size: número de individuos en cada generación\n",
    "# prop_cruce: proporción del total de la población que serán padres. \n",
    "# prob_mutación: probabilidad de realizar una mutación de un gen.\n",
    "\n",
    "def algoritmo_genetico(problema_genetico,k,opt,ngen,size,prop_cruces,prob_mutar):\n",
    "    poblacion= poblacion_inicial(problema_genetico,size)\n",
    "    n_padres=round(size*prop_cruces)\n",
    "    n_padres= int (n_padres if n_padres%2==0 else n_padres-1)\n",
    "    n_directos = size-n_padres\n",
    "    for _ in range(ngen):\n",
    "        poblacion= nueva_generacion(problema_genetico,k,opt,poblacion,n_padres, n_directos,prob_mutar)\n",
    "\n",
    "    mejor_cr= opt(poblacion, key=problema_genetico.fitness)\n",
    "    mejor=problema_genetico.decodifica(mejor_cr)\n",
    "    return (mejor,problema_genetico.fitness(mejor_cr)) \n"
   ]
  },
  {
   "cell_type": "markdown",
   "metadata": {},
   "source": [
    "Necesitarás definir la función auxiliar nueva_generacion(problema_genetico,poblacion,n_padres,n_directos,prob_mutar) que dada una población calcula la siguiente generación."
   ]
  },
  {
   "cell_type": "code",
   "execution_count": 10,
   "metadata": {},
   "outputs": [],
   "source": [
    "#Definir la función nueva_generacion\n",
    "def nueva_generacion(problema_genetico, k,opt, poblacion, n_padres, n_directos, prob_mutar):\n",
    "    padres2 = seleccion_por_torneo(problema_genetico, poblacion, n_directos, k,opt) \n",
    "    padres1 = seleccion_por_torneo(problema_genetico, poblacion, n_padres , k, opt)\n",
    "    cruces =  cruza_padres(problema_genetico,padres1)\n",
    "    generacion = padres2+cruces\n",
    "    resultado_mutaciones = muta_individuos(problema_genetico, generacion, prob_mutar)\n",
    "    return resultado_mutaciones"
   ]
  },
  {
   "cell_type": "markdown",
   "metadata": {},
   "source": [
    "### Ejercicio 5.  Ejecutar el algoritmo genético anterior, para resolver el problema anterior (tanto en minimización como en maximización).  \n",
    "\n",
    "Hacer una valoración de resultados y comentarios sobre el comportamiento del algoritmmo. \n",
    "En la resolución del problema hay que tener en cuenta que el algoritmo genético devuelve un par con el mejor fenotipo encontrado y su valoración."
   ]
  },
  {
   "cell_type": "code",
   "execution_count": 43,
   "metadata": {},
   "outputs": [
    {
     "data": {
      "text/plain": [
       "(0, 0)"
      ]
     },
     "execution_count": 43,
     "metadata": {},
     "output_type": "execute_result"
    }
   ],
   "source": [
    "algoritmo_genetico(cuadrados,3,min,20,10,0.7,0.1)\n",
    "# Salida esperada: (0, 0)"
   ]
  },
  {
   "cell_type": "code",
   "execution_count": 44,
   "metadata": {},
   "outputs": [
    {
     "data": {
      "text/plain": [
       "(1015, 1030225)"
      ]
     },
     "execution_count": 44,
     "metadata": {},
     "output_type": "execute_result"
    }
   ],
   "source": [
    "algoritmo_genetico(cuadrados,3,max,20,10,0.7,0.1)\n",
    "# Salida esperada: (1023, 1046529)"
   ]
  },
  {
   "cell_type": "markdown",
   "metadata": {},
   "source": [
    "Cuando resolvemos el problema en minimización:\n",
    "Tras varias ejecuciones, el resultado que más hemos obtenido ha sido la solución óptima. Aunque el resto de resultados han dado fenotipos con valores bajos dentro del rango posible.\n",
    "\n",
    "Cuando resolvemos el problema en maximización:\n",
    "El resultado tras varias ejecuciones que más hemos conseguido ha sido la salida esperada, el resto de resultados como con la operación minimización han sido fenotipos con valores altos cercanos al máximo del rango.\n",
    "\n",
    "El algoritmo genético mientras no se haya llegado al número de generaciones deseadas, crea poblaciones con las que se calcula la siguiente generación mediante una función auxiliar. En la función auxiliar cruzamos los genes de los padres y mutamos o no individuos en función de la probabilidad, con la generación de los padres y sus cruces, siendo el resultado de la posible mutación lo que devuelve la función auxiliar.\n",
    "Una vez se llega al número de generaciones marcada se maximiza o minimiza la población generada, se decodifica el resultado obtenido y se devuelve, dando lugar a devolver el mejor resultado obtenido que no tiene por que ser el óptimo.\n",
    "\n",
    "Esto provoca que no siempre obtengamos el resultado deseado y que no sea un algoritmo realmente óptimo."
   ]
  },
  {
   "cell_type": "markdown",
   "metadata": {},
   "source": [
    "##  El problema de la mochila "
   ]
  },
  {
   "cell_type": "markdown",
   "metadata": {},
   "source": [
    "Se plantea el típico problema de la mochila en el que dados n objetos de pesos conocidos pi y valor vi (i=1,...,n) hay que elegir cuáles se meten en una mochila que soporta un peso P máximo. La selección debe hacerse de forma que se máximice el valor de los objetos introducidos sin superar el peso máximo."
   ]
  },
  {
   "cell_type": "markdown",
   "metadata": {},
   "source": [
    "### Ejercicio 6\n",
    "Se pide definir la representación del problema de la mochila usando genes [0,1] y longitud de los individuos n.\n",
    "\n",
    "Los valores 1 ó 0 representan, respectivamente, si el objeto se introduce o no en la mochila Tomados de izquerda a derecha, a partir del primero que no cabe, se consideran  todos fuera de la mochila,independientemente del gen en su posición. De esta manera, todos los individuos representan candidatos válidos.\n",
    "\n",
    "El numero de objetos n determina la longitud de los individuos de la población.\n",
    "En primer lugar es necesario definir una función de decodificación de la mochila que recibe como entrada:\n",
    "* un cromosoma (en este caso, una lista de 0s y 1s, de longitud igual a n_objetos) \n",
    "* n: número total de objetos de la mochila\n",
    "* pesos: una lista con los pesos de los objetos\n",
    "* capacidad: peso máximo de la mochila.\n",
    "La función decodifica recibe (cromosoma, n, pesos, capacidad) y devuelve una lista de 0s y 1s que indique qué objetos están en la mochila y cuáles no (el objeto i está en la mochila si y sólo si en la posición i-ésima de la lista hay un 1). Esta lista se obtendrá a partir del cromosoma, pero teniendo en cuenta que a partir del primer objeto que no quepa, éste y los siguientes se consideran fuera de la mochila, independientemente del valor que haya en su correspondiente posición de cromosoma. "
   ]
  },
  {
   "cell_type": "code",
   "execution_count": 45,
   "metadata": {},
   "outputs": [],
   "source": [
    "def decodifica_mochila(cromosoma, n, pesos, capacidad):\n",
    "    peso_en_mochila = 0\n",
    "    l = []\n",
    "    \n",
    "    #Recorro los objetos totales\n",
    "    for i in range(n):\n",
    "        \n",
    "        #Si está en la mochila y al añadirlo no supero la capacidad, lo añado\n",
    "        if cromosoma[i] == 1 and peso_en_mochila + pesos[i] <= capacidad:\n",
    "            l.append(1)\n",
    "            peso_en_mochila += pesos[i]\n",
    "        #En otro caso no lo añado\n",
    "        elif cromosoma[i]== 0 or peso_en_mochila + pesos[i] > capacidad:\n",
    "            l.append(0)\n",
    "            \n",
    "    return l "
   ]
  },
  {
   "cell_type": "code",
   "execution_count": 46,
   "metadata": {},
   "outputs": [
    {
     "data": {
      "text/plain": [
       "[1, 1, 0, 0, 0]"
      ]
     },
     "execution_count": 46,
     "metadata": {},
     "output_type": "execute_result"
    }
   ],
   "source": [
    "decodifica_mochila([1,1,1,1,1], 5, [2,3,4,5,1], 5)"
   ]
  },
  {
   "cell_type": "markdown",
   "metadata": {},
   "source": [
    "Para definir la función de evaluación (fitness) necesitamos calcular el valor total de los objetos que están dentro de la mochila que representa el cromosoma según la codificación utilizada en la función anterior. \n",
    "\n",
    "Se pide la función fitness (cromosoma, n_objetos, pesos, capacidad, valores) donde los parámetros son los mismos que en la función anterior, y valores es la lista de los valores de cada objeto\n",
    "\n",
    "fitness(cromosoma, n_objetos, pesos, capacidad, valores)\n",
    "\n",
    "Ejemplo de uso:\n",
    "   fitness([1,1,1,1], 4, [2,3,4,5], 4, [7,1,4,5])\n",
    "   7"
   ]
  },
  {
   "cell_type": "code",
   "execution_count": 47,
   "metadata": {},
   "outputs": [],
   "source": [
    "def fitness_mochila(cromosoma, n_objetos, pesos, capacidad, valores):\n",
    "    \n",
    "    valor = 0\n",
    "    peso_en_mochila = 0\n",
    "    \n",
    "    #Recorro los objetos\n",
    "    for i in range(n_objetos):    \n",
    "        \n",
    "        #Si están en la mochila y no superan el peso, sumo su valor al total\n",
    "        if cromosoma[i] == 1 and peso_en_mochila + pesos[i] <= capacidad:\n",
    "            valor += valores[i]\n",
    "            peso_en_mochila += pesos[i]\n",
    "\n",
    "    return valor"
   ]
  },
  {
   "cell_type": "code",
   "execution_count": 48,
   "metadata": {},
   "outputs": [
    {
     "data": {
      "text/plain": [
       "7"
      ]
     },
     "execution_count": 48,
     "metadata": {},
     "output_type": "execute_result"
    }
   ],
   "source": [
    "fitness_mochila([1,1,1,1], 4, [2,3,4,5], 4, [7,1,4,5])"
   ]
  },
  {
   "cell_type": "markdown",
   "metadata": {},
   "source": [
    "Damos tres instancias concretas del problema de la mochila. Damos también sus soluciones optimas, para que se puedan comparar con los resultados obtenidos por el algoritmo genético:"
   ]
  },
  {
   "cell_type": "code",
   "execution_count": 49,
   "metadata": {},
   "outputs": [],
   "source": [
    "# Problema de la mochila 1:\n",
    "# 10 objetos, peso máximo 165\n",
    "pesos1 = [23,31,29,44,53,38,63,85,89,82]\n",
    "valores1 = [92,57,49,68,60,43,67,84,87,72]\n",
    "\n",
    "# Solución óptima= [1,1,1,1,0,1,0,0,0,0], con valor 309"
   ]
  },
  {
   "cell_type": "code",
   "execution_count": 50,
   "metadata": {},
   "outputs": [],
   "source": [
    "# Problema de la mochila 2:\n",
    "# 15 objetos, peso máximo 750\n",
    "\n",
    "pesos2 = [70,73,77,80,82,87,90,94,98,106,110,113,115,118,120]\n",
    "valores2 = [135,139,149,150,156,163,173,184,192,201,210,214,221,229,240]\n",
    "\n",
    "# Solución óptima= [1,0,1,0,1,0,1,1,1,0,0,0,0,1,1] con valor 1458"
   ]
  },
  {
   "cell_type": "code",
   "execution_count": 51,
   "metadata": {},
   "outputs": [],
   "source": [
    "# Problema de la mochila 3:\n",
    "# 24 objetos, peso máximo 6404180\n",
    "pesos3 = [382745,799601,909247,729069,467902, 44328,\n",
    "       34610,698150,823460,903959,853665,551830,610856,\n",
    "       670702,488960,951111,323046,446298,931161, 31385,496951,264724,224916,169684]\n",
    "valores3 = [825594,1677009,1676628,1523970, 943972,  97426,\n",
    "       69666,1296457,1679693,1902996,\n",
    "       1844992,1049289,1252836,1319836, 953277,2067538, 675367,\n",
    "       853655,1826027, 65731, 901489, 577243, 466257, 369261]\n",
    "\n",
    "# Solución óptima= [1,1,0,1,1,1,0,0,0,1,1,0,1,0,0,1,0,0,0,0,0,1,1,1] con valoración 13549094"
   ]
  },
  {
   "cell_type": "markdown",
   "metadata": {},
   "source": [
    "### Ejercicio 7\n",
    "\n",
    "Definir variables m1g, m2g y m3g, referenciando a instancias de Problema_Genetico que correspondan, respectivamente, a los problemas de la mochila anteriores. Resuelve los problemas y comentar los resultados obtenidos en cuanto a eficiencia y calidad de los resultados obtenidos."
   ]
  },
  {
   "cell_type": "markdown",
   "metadata": {},
   "source": [
    "Algunas de las salidas posibles variando los parámetros."
   ]
  },
  {
   "cell_type": "code",
   "execution_count": 52,
   "metadata": {},
   "outputs": [],
   "source": [
    "# >>> algoritmo_genetico_t(m1g,3,max,100,50,0.8,0.05)\n",
    "# ([1, 1, 1, 1, 0, 1, 0, 0, 0, 0], 309)\n",
    "\n",
    "# >>> algoritmo_genetico_t(m2g,3,max,100,50,0.8,0.05)\n",
    "# ([1, 1, 1, 0, 0, 0, 0, 1, 1, 0, 1, 1, 1, 0, 0], 1444)\n",
    "# >>> algoritmo_genetico_t(m2g,3,max,200,100,0.8,0.05)\n",
    "# ([0, 0, 1, 0, 1, 1, 1, 1, 1, 1, 0, 0, 1, 0, 0], 1439)\n",
    "# >>> algoritmo_genetico_t(m2g,3,max,200,100,0.8,0.05)\n",
    "# ([1, 0, 1, 0, 1, 0, 1, 1, 1, 0, 0, 0, 0, 1, 1], 1458)\n",
    "\n",
    "# >>> algoritmo_genetico_t(m3g,5,max,400,200,0.75,0.1)\n",
    "# ([1, 1, 0, 1, 0, 1, 1, 0, 1, 1, 1, 0, 1, 0, 0, 1, 0, 0, 0, 0, 0, 1, 0, 0], 13518963)\n",
    "# >>> algoritmo_genetico_t(m3g,4,max,600,200,0.75,0.1)\n",
    "# ([1, 1, 0, 1, 1, 1, 1, 0, 0, 1, 1, 0, 1, 0, 0, 1, 1, 0, 0, 1, 0, 1, 0, 0], 13524340)\n",
    "# >>> algoritmo_genetico_t(m3g,4,max,1000,200,0.75,0.1)\n",
    "# ([1, 1, 0, 1, 0, 0, 0, 0, 1, 1, 1, 0, 1, 0, 0, 1, 1, 0, 0, 0, 0, 0, 0, 0], 13449995)\n",
    "# >>> algoritmo_genetico_t(m3g,3,max,1000,100,0.75,0.1)\n",
    "# ([1, 1, 0, 0, 0, 1, 1, 0, 1, 1, 1, 0, 1, 1, 0, 1, 1, 0, 0, 0, 0, 0, 0, 0], 13412953)\n",
    "# >>> algoritmo_genetico_t(m3g,3,max,2000,100,0.75,0.1)\n",
    "# ([0, 1, 0, 1, 0, 1, 0, 0, 1, 1, 1, 0, 1, 1, 0, 1, 0, 0, 0, 0, 0, 0, 0, 0], 13366296)\n",
    "# >>> algoritmo_genetico_t(m3g,6,max,2000,100,0.75,0.1)\n",
    "# ([1, 1, 0, 1, 1, 1, 0, 0, 0, 1, 1, 0, 1, 0, 0, 1, 0, 0, 0, 0, 0, 1, 1, 1], 13549094)"
   ]
  },
  {
   "cell_type": "code",
   "execution_count": 53,
   "metadata": {},
   "outputs": [],
   "source": [
    "def fitness_mochila_1(cromosoma):\n",
    "    v = fitness_mochila(cromosoma, 10, pesos1, 165, valores1)\n",
    "    return v\n",
    "def decodifica_mochila_1(cromosoma):\n",
    "    v = decodifica_mochila(cromosoma, 10, pesos1, 165)\n",
    "    return v\n",
    "m1g = ProblemaGenetico([0,1], decodifica_mochila_1, fun_mutar, fun_cruzar, fitness_mochila_1,10)\n",
    "\n",
    "def fitness_mochila_2(cromosoma):\n",
    "    v = fitness_mochila(cromosoma, 15, pesos2, 750, valores2)\n",
    "    return v\n",
    "def decodifica_mochila_2(cromosoma):\n",
    "    v = decodifica_mochila(cromosoma, 14, pesos2, 750)\n",
    "    return v\n",
    "m2g = ProblemaGenetico([0,1], decodifica_mochila_2, fun_mutar, fun_cruzar, fitness_mochila_2,15)\n",
    "\n",
    "def fitness_mochila_3(cromosoma):\n",
    "    v = fitness_mochila(cromosoma, 24, pesos3,6404180 , valores3)\n",
    "    return v\n",
    "def decodifica_mochila_3(cromosoma):\n",
    "    v = decodifica_mochila(cromosoma, 24, pesos3, 6404180)\n",
    "    return v\n",
    "m3g = ProblemaGenetico([0,1], decodifica_mochila_3, fun_mutar, fun_cruzar, fitness_mochila_3,24)\n"
   ]
  },
  {
   "cell_type": "code",
   "execution_count": 54,
   "metadata": {},
   "outputs": [
    {
     "data": {
      "text/plain": [
       "([1, 1, 1, 1, 0, 1, 0, 0, 0, 0], 309)"
      ]
     },
     "execution_count": 54,
     "metadata": {},
     "output_type": "execute_result"
    }
   ],
   "source": [
    "algoritmo_genetico(m1g,3,max,100,50,0.8,0.05)\n",
    "# Solución óptima= [1,1,1,1,0,1,0,0,0,0], con valor 309"
   ]
  },
  {
   "cell_type": "code",
   "execution_count": 55,
   "metadata": {},
   "outputs": [
    {
     "data": {
      "text/plain": [
       "([1, 1, 1, 1, 0, 1, 0, 0, 0, 0], 309)"
      ]
     },
     "execution_count": 55,
     "metadata": {},
     "output_type": "execute_result"
    }
   ],
   "source": [
    "algoritmo_genetico(m1g,3,max,300,70,0.8,0.05)"
   ]
  },
  {
   "cell_type": "markdown",
   "metadata": {},
   "source": [
    "Para el caso de m1g, no hace falta un número alto de generaciones ni de individuos por cada una, ya que con unos valores bajos de estos ya obtenemos el valor óptimo, obteniendólo también con valores más altos de generaciones e individuos.\n"
   ]
  },
  {
   "cell_type": "code",
   "execution_count": 56,
   "metadata": {},
   "outputs": [
    {
     "data": {
      "text/plain": [
       "([1, 0, 1, 0, 1, 1, 0, 0, 1, 1, 1, 0, 0, 0], 1446)"
      ]
     },
     "execution_count": 56,
     "metadata": {},
     "output_type": "execute_result"
    }
   ],
   "source": [
    "algoritmo_genetico(m2g,3,max,200,100,0.8,0.05)\n",
    "# Solución óptima= [1,0,1,0,1,0,1,1,1,0,0,0,0,1,1] con valor 1458"
   ]
  },
  {
   "cell_type": "code",
   "execution_count": 57,
   "metadata": {},
   "outputs": [
    {
     "data": {
      "text/plain": [
       "([0, 0, 0, 0, 0, 0, 1, 1, 1, 0, 1, 0, 1, 1], 1449)"
      ]
     },
     "execution_count": 57,
     "metadata": {},
     "output_type": "execute_result"
    }
   ],
   "source": [
    "algoritmo_genetico(m2g,4,max,200,100,0.8,0.05)"
   ]
  },
  {
   "cell_type": "markdown",
   "metadata": {},
   "source": [
    "Para el caso m2g vemos cómo para un número bajo de generaciones e individuos por generación, la solución obtenida no es la óptima y está alejada del resultado deseado, mientras que aumentando las generaciones, individuos por generación y el número de participantes, aunque las soluciones resultantes han sido variadas, obtenemos un resultado más acercado a la solución óptima. Al aumentar los parámetros, la probabilidad de generar hijos con peores genes aumenta a la par que la probabilidad de obtener la solución óptima.\n"
   ]
  },
  {
   "cell_type": "code",
   "execution_count": 58,
   "metadata": {},
   "outputs": [
    {
     "data": {
      "text/plain": [
       "([1, 1, 0, 1, 1, 1, 1, 0, 0, 1, 1, 0, 1, 0, 0, 1, 1, 0, 0, 1, 0, 1, 0, 0],\n",
       " 13524340)"
      ]
     },
     "execution_count": 58,
     "metadata": {},
     "output_type": "execute_result"
    }
   ],
   "source": [
    "algoritmo_genetico(m3g,5,max,400,200,0.75,0.1)\n",
    "# Solución óptima= [1,1,0,1,1,1,0,0,0,1,1,0,1,0,0,1,0,0,0,0,0,1,1,1] con valoración 13549094"
   ]
  },
  {
   "cell_type": "code",
   "execution_count": 59,
   "metadata": {},
   "outputs": [
    {
     "data": {
      "text/plain": [
       "([1, 1, 0, 0, 1, 0, 0, 0, 0, 1, 1, 0, 1, 0, 0, 1, 1, 1, 0, 0, 0, 1, 1, 1],\n",
       " 13456720)"
      ]
     },
     "execution_count": 59,
     "metadata": {},
     "output_type": "execute_result"
    }
   ],
   "source": [
    "algoritmo_genetico(m3g,6,max,2000,100,0.75,0.1)"
   ]
  },
  {
   "cell_type": "markdown",
   "metadata": {},
   "source": [
    "Para m3g, vemos que no hemos encontrado la solución óptima, a pesar de ser random las mutaciones de los hijos generados en cada generación. Como con el problema anterior, la probabilidad de obtener un mejor resultado aumenta al aumentar los parámetros, a la vez que obtenemos muchos resultados adversos.\n"
   ]
  },
  {
   "cell_type": "markdown",
   "metadata": {},
   "source": [
    "En conclusión, la eficiencia del algoritmo depende del número de valores con los que vayas a operar, ya que a mayor número de valores, mayores serán los cruces realizados por lo que la obtención de la solucíon óptima será más difícil y, el aumentar las generaciones y los individuos por generación no te garantiza el obtener la solución. Aunque ni teniendo un número bajo de valores con los que operar el algoritmo es plenamente eficiente y óptimo."
   ]
  },
  {
   "cell_type": "markdown",
   "metadata": {},
   "source": [
    "### Ejercicio 8\n",
    "Resolver mediante una configuración de un algoritmo genético el problema del cuadrado mágico que consiste en colocar en un cuadrado n × n los números naturales de 1 a n^2, \n",
    "de tal manera que las filas, las columnas y las diagonales principales sumen los mismo. \n",
    "Ejemplo: una solucion para n= 3\n",
    "    \n",
    "    4 3 8\n",
    "    9 5 1\n",
    "    2 7 6\n",
    "    \n",
    "- Dimension del cuadrado: N\n",
    "- Suma común: SUMA=(N·(N^2 + 1))/2\n",
    "    \n",
    "    Comenta el resultado y el rendimiento del algoritmo para distintos parámetros.\n",
    "    \n",
    "\n",
    "    \n",
    "    "
   ]
  },
  {
   "cell_type": "markdown",
   "metadata": {},
   "source": [
    "Para este problema, hemos elegido una representación de los genes que va desde 1 a n^2. Hemos considerado que era mejor opción puesto que por ejemplo, para n = 3, necesitamos 4 bits para representar cada valor, y al tratar con los cromosomas podríamos entrar en individuos cuyo valor binario fuesen valores en decimal que se saliesen de rango 1-9. Por otra parte, para representar el cuadrado hemos utilizado una lista de n^2 elementos.\n",
    "También hemos optado por hacer control de repetidos en las funciones de cruce y mutación, evitando modificar la función fitness. Debido a esto, nos hemos visto en la obligación de modificar también la función poblacion_inicial, ya que en la original no haciamos control de repetidos, y nos parecía absurdo generar individuos que tuviesen valores repetidos en la población inicial. Asimismo, como esta función era llamada por la función algoritmo_genético, también hemos hecho una específica."
   ]
  },
  {
   "cell_type": "markdown",
   "metadata": {},
   "source": [
    "#### Población inicial\n",
    "\n",
    "Puesto que en la lista de genes tenemos todos los números que tengo que colocar en el cuadrado, llamo a la random.simple para coger todos los valores de la lista de genes sin repetición. Así genero size individuos aleatorios sin genes repetidos."
   ]
  },
  {
   "cell_type": "code",
   "execution_count": 60,
   "metadata": {},
   "outputs": [],
   "source": [
    "def poblacion_inicial_cuadrado(problema_genetico, size):\n",
    "    l = []\n",
    "    for i in range(size):\n",
    "        aux = (random.sample(problema_genetico.genes, problema_genetico.longitud_individuos))\n",
    "        l.append(aux)\n",
    "            \n",
    "    return l"
   ]
  },
  {
   "cell_type": "markdown",
   "metadata": {},
   "source": [
    "#### Algoritmo genético\n",
    "\n",
    "Únicamente cambia la primera llamada a población inicial"
   ]
  },
  {
   "cell_type": "code",
   "execution_count": 61,
   "metadata": {},
   "outputs": [],
   "source": [
    "def algoritmo_genetico_cuadrado(problema_genetico,k,opt,ngen,size,prop_cruces,prob_mutar):\n",
    "    poblacion= poblacion_inicial_cuadrado(problema_genetico,size)\n",
    "    n_padres=round(size*prop_cruces)\n",
    "    n_padres= int (n_padres if n_padres%2==0 else n_padres-1)\n",
    "    n_directos = size-n_padres\n",
    "    for _ in range(ngen):\n",
    "        poblacion= nueva_generacion(problema_genetico,k,opt,poblacion,n_padres, n_directos,prob_mutar)\n",
    "\n",
    "    mejor_cr= opt(poblacion, key=problema_genetico.fitness)\n",
    "    mejor=problema_genetico.decodifica(mejor_cr)\n",
    "    return (mejor,problema_genetico.fitness(mejor_cr)) "
   ]
  },
  {
   "cell_type": "markdown",
   "metadata": {},
   "source": [
    "#### Inicializa genes\n",
    "\n",
    "Función que, dado una n, inicializa la lista de genes posibles. Por ejemplo, si n = 3, los valores posibles de los genes serán una lista de 1 a 9."
   ]
  },
  {
   "cell_type": "code",
   "execution_count": 15,
   "metadata": {},
   "outputs": [],
   "source": [
    "def inicializa_genes(n):\n",
    "    l = []\n",
    "    for i in range(n*n):\n",
    "        l.append(i + 1)\n",
    "    \n",
    "    return l"
   ]
  },
  {
   "cell_type": "markdown",
   "metadata": {},
   "source": [
    "#### Decodificar cuadrado mágico\n",
    "\n",
    "Como nuestra representación del cromosoma es igual que la representación real, devuelve el mismo cromosoma."
   ]
  },
  {
   "cell_type": "code",
   "execution_count": 63,
   "metadata": {},
   "outputs": [],
   "source": [
    "def decodifica_cuad_magico(cromosoma):\n",
    "    return cromosoma"
   ]
  },
  {
   "cell_type": "markdown",
   "metadata": {},
   "source": [
    "#### Cruzar cuadrado mágico\n",
    "\n",
    "Nuestra función de cruce es muy parecida  a la de los anteriores. Hemos optado por seguir manteniendo el cruce de 1 punto pero haciendo un control de repetidos. Para ello tenemos dos listas, una con un array booleano para saber que valores han aparecido ya, y otra con los valores en sí. Realizamos el cruce y despues lo recorremos para marcar los números que han aparecido 2 veces y a la vez quitamos los valores que aparecen la primera vez de la lista. Después cambiamos los valores repetidos por aquellos que no se han eliminado. Como hacemos este control, es imposible que un valor aparezca más de 2 veces en un cruce.\n",
    "\n",
    "Después de explicar en clase las estrategias, hemos decidido ampliar la función y optar por una estrategia no destructiva. Para ello, añadimos a una lista de pares clave-valor los padres y los hijos junto a su función fitness. Los ordenamos en función de esta última y nos quedamos con los dos mejores."
   ]
  },
  {
   "cell_type": "code",
   "execution_count": 64,
   "metadata": {},
   "outputs": [],
   "source": [
    "from operator import itemgetter\n",
    "\n",
    "def cruzar_cuad_magico (cromosoma1, cromosoma2, n):\n",
    "    \n",
    "    l1 = len(cromosoma1)\n",
    "    l2 = len(cromosoma2)\n",
    "    \n",
    "    #Listas auxiliares\n",
    "    elementos = []\n",
    "    marcas = []\n",
    "    \n",
    "    #Inicialización auxiliar\n",
    "    for i in range(l1):\n",
    "        elementos.append(i + 1)\n",
    "        marcas.append(False)\n",
    "    \n",
    "    #Primer hijo\n",
    "    cruce1 = cromosoma1[0:l1//2]+cromosoma2[l1//2:l2]\n",
    "    \n",
    "    #Marco los genes repetidos\n",
    "    for i in range(l1):\n",
    "        if cruce1[i] in elementos:\n",
    "            elementos.remove(cruce1[i])\n",
    "        else:\n",
    "            marcas[i] = True\n",
    "    \n",
    "    j = 0\n",
    "    \n",
    "    #Elimino los genes repetidos\n",
    "    for i in range(l1):\n",
    "        if (marcas[i] == True):\n",
    "            cruce1[i] = elementos[j]\n",
    "            j += 1\n",
    "            \n",
    "    #Segundo hijo\n",
    "    cruce2 = cromosoma2[0:l2//2]+cromosoma1[l2//2:l1]\n",
    "    \n",
    "    #Inicialización auxiliar\n",
    "    for i in range(l2):\n",
    "        elementos.append(i + 1)\n",
    "        marcas.append(False)\n",
    "        \n",
    "    #Marco los genes repetidos\n",
    "    for i in range(l2):\n",
    "        if cruce2[i] in elementos:\n",
    "            elementos.remove(cruce2[i])\n",
    "        else:\n",
    "            marcas[i] = True\n",
    "    \n",
    "    j = 0\n",
    "    \n",
    "    #Elimino los genes repetidos\n",
    "    for i in range(l2):\n",
    "        if (marcas[i] == True):\n",
    "            cruce2[i] = elementos[j]\n",
    "            j += 1\n",
    "    \n",
    "    #Array con todos los individuos\n",
    "    padres_hijos = []\n",
    "    \n",
    "    #Los añado como pares clave-valor\n",
    "    padres_hijos.append((cromosoma1, fitness_cuad_magico(cromosoma1, n)))\n",
    "    padres_hijos.append((cromosoma2, fitness_cuad_magico(cromosoma2, n)))\n",
    "    padres_hijos.append((cruce1, fitness_cuad_magico(cruce1, n)))                   \n",
    "    padres_hijos.append((cruce2, fitness_cuad_magico(cruce2, n)))\n",
    "    \n",
    "    #Ordeno en función del fitness\n",
    "    padres_hijos = sorted(padres_hijos, key=itemgetter(1))\n",
    "    \n",
    "    #Devuelvo los que tienen fitness mayor\n",
    "    return [padres_hijos[2][0], padres_hijos[3][0]]"
   ]
  },
  {
   "cell_type": "markdown",
   "metadata": {},
   "source": [
    "#### Mutar cuadrado mágico\n",
    "\n",
    "Esta función simplemente realiza una permutación de dos valores. Genero un gen aleatorio entre 1 y n^2, lo localizo y lo intercambio por el que ocupaba dicha posición."
   ]
  },
  {
   "cell_type": "code",
   "execution_count": 65,
   "metadata": {},
   "outputs": [],
   "source": [
    "def mutar_cuad_magico(cromosoma, prob, n):\n",
    "    \n",
    "    #Elijo un elemento al azar del cromosoma\n",
    "    l = len(cromosoma)\n",
    "    p = random.randint(0,l-1)\n",
    "    \n",
    "    if prob > random.uniform(0,1):\n",
    "        \n",
    "        #Calculo un gen aleatorio que guardaré en la posición\n",
    "        random_number = random.randint(1, n*n)\n",
    "        aux = cromosoma[p]\n",
    "        \n",
    "        #Busco la posición de ese número\n",
    "        for i in range(len(cromosoma)):\n",
    "            if (cromosoma[i] == random_number):\n",
    "                cromosoma[i] = aux\n",
    "        \n",
    "        cromosoma[p] = random_number\n",
    "    \n",
    "    return cromosoma"
   ]
  },
  {
   "cell_type": "markdown",
   "metadata": {},
   "source": [
    "#### Fitness cuadrado mágico\n",
    "\n",
    "En un primer momento se nos ocurrió calcular las diferencias de cada fila/columna/diagonal respecto a la suma y minimizar el fitness. En una segunda versión, nuestra función fitness devuelve el número de sumas que son correctas (si n = 3, fitness a lo sumo devolverá 8). Para ello hacemos un primer recorrido calculando sumas de filas y columnas a la vez y un segundo para las diagonales. "
   ]
  },
  {
   "cell_type": "code",
   "execution_count": 71,
   "metadata": {},
   "outputs": [],
   "source": [
    "def fitness_cuad_magico(cromosoma, n):\n",
    "    \n",
    "    #Valor de la suma\n",
    "    suma = (n*(n*n + 1))/2\n",
    "    \n",
    "    #Valor de retorno\n",
    "    total = 0\n",
    "    \n",
    "    #Recorrido de la lista de n^2 elementos\n",
    "    for i in range(n):\n",
    "        suma_filas = 0\n",
    "        suma_columnas = 0\n",
    "        \n",
    "        #Sumo el total de la fila/columna\n",
    "        for j in range(n):\n",
    "            \n",
    "            #Si n=3 e i=0, sumo las posiciones 0, 1 y 2 \n",
    "            suma_filas += cromosoma[n*i + j]\n",
    "            #Si n=3 e i=0, sumo las posiciones 0, 3 y 6 \n",
    "            suma_columnas += cromosoma[i + n*j]\n",
    "        \n",
    "        if(suma_filas == suma):\n",
    "            total += 1\n",
    "        \n",
    "        if(suma_columnas == suma):\n",
    "            total += 1\n",
    "    \n",
    "    #Variables donde guardo las sumas de las diagonales\n",
    "    suma_diagonal_1 = 0\n",
    "    suma_diagonal_2 = 0\n",
    "    \n",
    "    #Recorrido de las diagonales \n",
    "    for i in range(n):\n",
    "        \n",
    "        #Si n=3, sumo las posiciones 0, 4 y 8\n",
    "        suma_diagonal_1 += cromosoma[(n+1)*i]\n",
    "        #Si n=3, sumo las posiciones 2, 4 y 6\n",
    "        suma_diagonal_2 += cromosoma[(n-1) + (n-1)*i]\n",
    "        \n",
    "    if(suma_diagonal_1 == suma):\n",
    "        total += 1\n",
    "    if(suma_diagonal_2 == suma):\n",
    "        total += 1\n",
    "\n",
    "    return total"
   ]
  },
  {
   "cell_type": "markdown",
   "metadata": {},
   "source": [
    "#### Funciones adicionales necesarias para la generalización del problema\n",
    "\n",
    "Hemos redefinido las funciones para que nuestro problema funcione para cualquier n, sin embargo, es necesario pasarle algún valor extra por parámetro."
   ]
  },
  {
   "cell_type": "code",
   "execution_count": 72,
   "metadata": {},
   "outputs": [],
   "source": [
    "def cruzar_cuad_magico_3 (cromosoma1, cromosoma2):\n",
    "    return cruzar_cuad_magico (cromosoma1, cromosoma2, 3)\n",
    "\n",
    "def mutar_cuad_magico_3(cromosoma, prob):\n",
    "    return mutar_cuad_magico(cromosoma, prob, 3)\n",
    "\n",
    "def fitness_cuad_magico_3(cromosoma):\n",
    "    return fitness_cuad_magico(cromosoma, 3)"
   ]
  },
  {
   "cell_type": "markdown",
   "metadata": {},
   "source": [
    "Ejemplo de la función fitness para la solución de ejemplo."
   ]
  },
  {
   "cell_type": "code",
   "execution_count": 73,
   "metadata": {},
   "outputs": [
    {
     "data": {
      "text/plain": [
       "8"
      ]
     },
     "execution_count": 73,
     "metadata": {},
     "output_type": "execute_result"
    }
   ],
   "source": [
    "fitness_cuad_magico([4, 3, 8, 9, 5, 1, 2, 7, 6], 3)"
   ]
  },
  {
   "cell_type": "markdown",
   "metadata": {},
   "source": [
    "Inicialización del problema genético para n = 3"
   ]
  },
  {
   "cell_type": "code",
   "execution_count": 74,
   "metadata": {},
   "outputs": [],
   "source": [
    "cm3 = ProblemaGenetico(inicializa_genes(3),decodifica_cuad_magico, mutar_cuad_magico_3, cruzar_cuad_magico_3, fitness_cuad_magico_3, 9)"
   ]
  },
  {
   "cell_type": "markdown",
   "metadata": {},
   "source": [
    "#### Ejemplos de ejecuciones"
   ]
  },
  {
   "cell_type": "code",
   "execution_count": 96,
   "metadata": {},
   "outputs": [
    {
     "data": {
      "text/plain": [
       "([8, 3, 4, 7, 2, 6, 9, 1, 5], 6)"
      ]
     },
     "execution_count": 96,
     "metadata": {},
     "output_type": "execute_result"
    }
   ],
   "source": [
    "algoritmo_genetico(cm3,3,max,100,100,0.5,0.1)"
   ]
  },
  {
   "cell_type": "code",
   "execution_count": 97,
   "metadata": {},
   "outputs": [
    {
     "data": {
      "text/plain": [
       "([4, 9, 2, 3, 5, 7, 8, 1, 6], 8)"
      ]
     },
     "execution_count": 97,
     "metadata": {},
     "output_type": "execute_result"
    }
   ],
   "source": [
    "algoritmo_genetico(cm3,3,max,100,100,0.8,0.1)"
   ]
  },
  {
   "cell_type": "code",
   "execution_count": 98,
   "metadata": {},
   "outputs": [
    {
     "data": {
      "text/plain": [
       "([5, 7, 3, 9, 2, 4, 1, 6, 8], 7)"
      ]
     },
     "execution_count": 98,
     "metadata": {},
     "output_type": "execute_result"
    }
   ],
   "source": [
    "algoritmo_genetico(cm3,10,max,100,100,0.8,0.1)"
   ]
  },
  {
   "cell_type": "code",
   "execution_count": 109,
   "metadata": {},
   "outputs": [
    {
     "data": {
      "text/plain": [
       "([5, 3, 7, 9, 4, 2, 1, 8, 6], 7)"
      ]
     },
     "execution_count": 109,
     "metadata": {},
     "output_type": "execute_result"
    }
   ],
   "source": [
    "algoritmo_genetico_cuadrado(cm3,10,max,100,100,0.8,0.05)"
   ]
  },
  {
   "cell_type": "code",
   "execution_count": 110,
   "metadata": {},
   "outputs": [
    {
     "data": {
      "text/plain": [
       "([8, 1, 6, 9, 2, 4, 7, 3, 5], 6)"
      ]
     },
     "execution_count": 110,
     "metadata": {},
     "output_type": "execute_result"
    }
   ],
   "source": [
    "algoritmo_genetico(cm3,10,max,1000,100,0.5,0.1)"
   ]
  },
  {
   "cell_type": "code",
   "execution_count": 111,
   "metadata": {},
   "outputs": [
    {
     "data": {
      "text/plain": [
       "([4, 9, 2, 3, 5, 7, 8, 1, 6], 8)"
      ]
     },
     "execution_count": 111,
     "metadata": {},
     "output_type": "execute_result"
    }
   ],
   "source": [
    "algoritmo_genetico(cm3,10,max,1000,100,0.7,0.1)"
   ]
  },
  {
   "cell_type": "code",
   "execution_count": 112,
   "metadata": {},
   "outputs": [
    {
     "data": {
      "text/plain": [
       "([8, 1, 6, 3, 5, 7, 4, 9, 2], 8)"
      ]
     },
     "execution_count": 112,
     "metadata": {},
     "output_type": "execute_result"
    }
   ],
   "source": [
    "algoritmo_genetico(cm3,5,max,1000,100,0.7,0.1)"
   ]
  },
  {
   "cell_type": "markdown",
   "metadata": {},
   "source": [
    "#### Conclusión\n",
    "\n",
    "Trás varias ejecuciones con diferentes parámetros, al problema le cuesta llegar a una solución óptima, es decir, en la que se cumpla que tanto todas las filas, columnas y diagonales sumen (N·(N^2 + 1))/2. Si aumentamos el número de generaciones o el de individuos por generación, tendremos más posibilidades de llegar a una solución óptima, pero no se puede asegurar debido a la aleatoriedad. También hemos observado que subir el número de participantes en el torneo hace que se seleccionen individuos menos buenos. Por otro lado, el algoritmo funciona mejor cuando la probabilidad de mutación es baja y la proporción de padres es mayor que 0.5. En las ejecuciones de ejemplo, nos han salido soluciones óptimas un mayor número de veces cuando el número de generaciones era superior y el número de participantes era pequeño."
   ]
  },
  {
   "cell_type": "markdown",
   "metadata": {},
   "source": [
    "### Ejercicio 9\n",
    "Se quiere organizar una **jornada de la informática** en la Facultad. \n",
    "El Vicedecano necesita organizar el horario y la asignación de profesores para n actividades temáticas, a_1, . . . , a_n.  Dispone de m profesores p_1, . . . , p_m con distintos niveles de cualificación. \n",
    "No todos los profesores tienen los conocimientos para encargarse de todas las actividades. \n",
    "El mismo profesor pi puede encargarse de distintas actividades (que se le remunerarán convenientemente) pero no podemos asignar al mismo profesor dos actividades que se impartan simultáneamente. \n",
    "Cada actividad puede durar un tiempo diferente dependiendo del profesor que la organice. Si un profesor p_i puede realizar la actividad a_j, entonces denotaremos por t_ij el tiempo que pi tardará en realizar la actividad a_j. \n",
    "Existen dependencias entre los contenidos de las actividades lo que obliga a incluir algunas restricciones temporales, es decir, algunas actividades hay que realizarlas cuando otras ya hayan terminado. Esto es, tenemos un conjunto de restricciones que indican que ai se debe realizar antes de a_j. Por ejemplo, El taller de iniciación a Scratch se debe realizar antes que el laboratorio de desarrollo de videojuegos con Scratch.   \n",
    "Se pide dar una solución al problema de decidir, para cada actividad, qué profesor la realizará y en qué momento se debe ofertar la actividad para que, al ﬁnal de la jornada, se puedan realizar todas las actividades con cuidado de cumplir los prerrequisitos (restricciones temporales) y el conjunto de actividades se realice en el menor tiempo posible."
   ]
  },
  {
   "cell_type": "markdown",
   "metadata": {},
   "source": [
    "#### Introducción\n",
    "\n",
    "Este problema lo hemos resuelto utilizando algoritmos genéticos ya que nos ha parecido la mejor opción.\n",
    "\n",
    "- Datos de entrada del problema: Para este ejercicio tenemos 4 datos de entrada. Una lista con los profesores representados como strings, una lista de actividades representadas como strings, una lista de restricciones cuyos valores son tuplas con un profesor, un taller y un entero que representa el tiempo que tarda en impartir ese profesor dicho taller y por último, otra lista de dependencias cuyos valores son tuplas con dos talleres tal que el segundo depende del primero, es decir, debe haber terminado el primero para poder impartir el segundo. Ejemplos de distintos datos de entrada:\n",
    "\n",
    "    - Actividades = [\"taller1\", \"taller2\", \"taller3\", \"taller4\", \"taller5\", \"taller6\", \"taller7\", \"taller8\", \"taller9\", \"taller10\"]\n",
    "    - Profesores = [\"profesor1\", \"profesor2\", \"profesor3\", \"profesor4\", \"profesor5\"]\n",
    "    - Restricciones = [(\"profesor1\", \"taller1\", 60), (\"profesor1\", \"taller2\", 60), (\"profesor2\", \"taller3\", 60), (\"profesor2\", \"taller4\", 60), (\"profesor3\", \"taller5\", 60), (\"profesor3\", \"taller6\", 60), (\"profesor4\", \"taller7\", 60), (\"profesor4\", \"taller8\", 60), (\"profesor5\", \"taller9\", 60), (\"profesor5\", \"taller10\", 60)]\n",
    "    - Dependencias = [(\"taller2\", \"taller1), (\"taller5\", \"taller8\")]\n",
    "    \n",
    "    \n",
    "- Representación del problema: Como hemos utilizado algoritmos genéticos, hemos representado el cromosoma como un array y cada posición del mismo representa un taller de la lista. Este array lo llenamos con genes de números enteros, que representarán el profesor que imparte dicho taller. Por ejemplo, un cromosoma válido para los ejemplos de entrada anteriores sería: [1,1,2,2,3,3,4,4,5,5], y en este caso el profesor1 está representado por un 1. Podríamos haber utilizado directamente genes con valores de strings, pero para la eficiencia nos pareció más correcto utilizar números enteros. Por lo tanto, mi lista de genes corresponde con los profesores, pero si genero individuos aleatoriamente, estaría entrando en posibles soluciones no válidas en las que un profesor  imparte un taller para el que no está cualificado. Para ello hacemos un control explicado más adelante.\n",
    "\n",
    "\n",
    "Nuestra representación es bastante sencilla y si que es cierto que a la hora de añadir las dependencias, la función fitness se nos ha complicado bastante, pero con bastante cabeza hemos conseguido sacarla. A continuación se muestran todas las implementaciones de las funciones con una breve explicación al principio, y después, 7 casos de prueba equivalentes a los que nos has proporcionado por el campus.\n"
   ]
  },
  {
   "cell_type": "markdown",
   "metadata": {},
   "source": [
    "#### Funciones auxiliares\n",
    "\n",
    "Funciones necesarias para simplicar y entender mejor el problema, son llamadas por otras funciones para ayudarlas en su cometido.\n",
    "\n",
    "- Profesores a elegir: Dado un string representando un taller y unas restricciones, devuelve una lista con los profesores (como valores enteros) que pueden impartir dicho taller. Para ello, recorremos las restricciones en busca de las tuplas que contengan dicho taller.\n",
    "\n",
    "- Profesor a string: Dado un entero, devuelve un string con el profesor.\n",
    "\n",
    "- Taller a string: Idéntica a la del profesor pero con un taller."
   ]
  },
  {
   "cell_type": "code",
   "execution_count": 358,
   "metadata": {},
   "outputs": [],
   "source": [
    "#Devuelve una lisa con los profesores que pueden impartir un taller\n",
    "def profesores_a_elegir(taller, restricciones):\n",
    "    \n",
    "    l = []\n",
    "    \n",
    "    for i in range(len(restricciones)):\n",
    "        \n",
    "        #Tuplas de la forma (profesor, taller, tiempo)\n",
    "        if(restricciones[i][1] == taller):\n",
    "            #Guardo en la lista el número del profesor, eliminando el resto\n",
    "            l.append(int(restricciones[i][0].replace(\"profesor\", \"\")))\n",
    "            \n",
    "    return l"
   ]
  },
  {
   "cell_type": "code",
   "execution_count": 359,
   "metadata": {},
   "outputs": [],
   "source": [
    "def profesor_a_string(profesor):\n",
    "    return \"profesor\" + str(profesor)"
   ]
  },
  {
   "cell_type": "code",
   "execution_count": 360,
   "metadata": {},
   "outputs": [],
   "source": [
    "def taller_a_string(taller):\n",
    "    return \"taller\" + str(taller)"
   ]
  },
  {
   "cell_type": "markdown",
   "metadata": {},
   "source": [
    "Ejemplo de ejecución. La entrada consistirá en un número de 1 a n con el número del taller y devolverá una lista de enteros con los profesores que pueden impartirla."
   ]
  },
  {
   "cell_type": "code",
   "execution_count": 361,
   "metadata": {},
   "outputs": [
    {
     "data": {
      "text/plain": [
       "[1, 2]"
      ]
     },
     "execution_count": 361,
     "metadata": {},
     "output_type": "execute_result"
    }
   ],
   "source": [
    "Restricciones_prueba = [(\"profesor1\", \"taller1\", 60), (\"profesor1\", \"taller2\", 60), (\"profesor2\", \"taller1\", 60)]\n",
    "profesores_a_elegir(\"taller1\", Restricciones_prueba)"
   ]
  },
  {
   "cell_type": "code",
   "execution_count": 362,
   "metadata": {},
   "outputs": [
    {
     "data": {
      "text/plain": [
       "'profesor2'"
      ]
     },
     "execution_count": 362,
     "metadata": {},
     "output_type": "execute_result"
    }
   ],
   "source": [
    "profesor_a_string(2)"
   ]
  },
  {
   "cell_type": "code",
   "execution_count": 363,
   "metadata": {},
   "outputs": [
    {
     "data": {
      "text/plain": [
       "'taller5'"
      ]
     },
     "execution_count": 363,
     "metadata": {},
     "output_type": "execute_result"
    }
   ],
   "source": [
    "taller_a_string(5)"
   ]
  },
  {
   "cell_type": "markdown",
   "metadata": {},
   "source": [
    "#### Población inicial\n",
    "\n",
    "Al igual que en el cuadrado mágico, hemos redefinido la función población inicial para evitar que se generen estados no válidos, es decir, aquellos a los que se asignan profesores a talleres que no pueden impartirlos. Para ello, en vez de hacer uso de los genes como tal, hacemos una reducción de los mismos únicamente escogiendo entre aquellos que pueden impartir dicha asignatura. Hemos añadido un parámetro más con las restricciones."
   ]
  },
  {
   "cell_type": "code",
   "execution_count": 364,
   "metadata": {},
   "outputs": [],
   "source": [
    "def poblacion_inicial_horario(problema_genetico, size, restricciones):\n",
    "    \n",
    "    #Lista donde guardaré size individuos\n",
    "    l = []\n",
    "    for i in range(size):\n",
    "        \n",
    "        #Lista auxiliar para generar un individuo\n",
    "        aux = []\n",
    "        \n",
    "        #La longitud coincide con el número de talleres\n",
    "        for j in range(problema_genetico.longitud_individuos):\n",
    "            \n",
    "            #j tomará valores de 0 a n-1 talleres\n",
    "            taller = j + 1\n",
    "            #Obtengo los genes posibles para ese taller\n",
    "            profesores = profesores_a_elegir(taller_a_string(taller), restricciones)\n",
    "            #Elijo uno aleatoriamente\n",
    "            aux.append(random.choice(profesores))\n",
    "            \n",
    "        l.append(aux)\n",
    "            \n",
    "    return l"
   ]
  },
  {
   "cell_type": "markdown",
   "metadata": {},
   "source": [
    "#### Algoritmo genético\n",
    "\n",
    "Al igual que en el ejercicio anterior, cambio la llamada a la población inicial. También son necesarias las restricciones para dicha llamada. Lo demás funciona igual."
   ]
  },
  {
   "cell_type": "code",
   "execution_count": 365,
   "metadata": {},
   "outputs": [],
   "source": [
    "def algoritmo_genetico_horario(problema_genetico,k,opt,ngen,size,prop_cruces,prob_mutar, restricciones):\n",
    "    \n",
    "    #Llamada a población inicial con un parámetro adicional\n",
    "    poblacion= poblacion_inicial_horario(problema_genetico,size, restricciones)\n",
    "    n_padres=round(size*prop_cruces)\n",
    "    n_padres= int (n_padres if n_padres%2==0 else n_padres-1)\n",
    "    n_directos = size-n_padres\n",
    "    for _ in range(ngen):\n",
    "        poblacion= nueva_generacion(problema_genetico,k,opt,poblacion,n_padres, n_directos,prob_mutar)\n",
    "\n",
    "    mejor_cr= opt(poblacion, key=problema_genetico.fitness)\n",
    "    mejor=problema_genetico.decodifica(mejor_cr)\n",
    "    return (mejor,problema_genetico.fitness(mejor_cr)) "
   ]
  },
  {
   "cell_type": "markdown",
   "metadata": {},
   "source": [
    "#### Inicializar genes\n",
    "\n",
    "Dada una lista de profes, devuelvo una lista con enteros de los talleres. Por ejemplo: [1, 2, 3, ... , n]\n",
    "Simplemente, reemplazo la lista de profesores original por una lista numérica."
   ]
  },
  {
   "cell_type": "code",
   "execution_count": 366,
   "metadata": {},
   "outputs": [],
   "source": [
    "def inicializa_genes_horario(lista_profes):\n",
    "    l = []\n",
    "    for i in range(len(lista_profes)):\n",
    "        l.append(int(lista_profes[i].replace(\"profesor\", \"\")))\n",
    "        \n",
    "    return l"
   ]
  },
  {
   "cell_type": "markdown",
   "metadata": {},
   "source": [
    "#### Decodificar horario\n",
    "\n",
    "En una primera versión sin dependencias, nuestra función decodificar era realmente sencilla. La idea era que, dado un cromosoma, lo recorro y devuelvo una lista con el profesor asignado a cada taller. es decir, que cada elemento de la lista era un string. Un ejemplo sería: \"El profesor1 imparte el taller1\". Puesto que no teníamos dependencias, para hallar el horario simplemente habria que escribir las tareas de cada profesor en orden, sumando los tiempos nos devolvía cuando acaba cada profe (suponiendo, eso si, que todos empiezan en el instante 0).\n",
    "\n",
    "Sin embargo, el hecho de añadir dependencias, aunque la asignación de profesores fuese correcta, el horario no quedaba bien reflejado en la solución. Es por esto que hemos decidido hacer uso de una parte de la función fitness, que hemos \"dividido\" para este propósito. En este caso hacemos uso de una función fitness_aux cuyo funcionamiento explicaremos más adelante, pero que básicamente, devuelve una lista de mismo tamaño que el cromosoma (es decir, el número de talleres) en el que cada elemento es un entero con el tiempo en minutos en el que termina este taller. Con estos datos y teninendo las resstricciones de las cuales extraemos el tiempo total del taller (mediante otra función auxiliar explicada más adelante), podemos determinar el tiempo de inicio y fin. De tal forma que la salida de la segunda versión quedará de la forma: \"El profesor1 imparte el taller1 de 0 a 60\".\n",
    "\n",
    "Parámetros de entrada:\n",
    "\n",
    "- cromosoma\n",
    "- restricciones: utilizadas en la función fitness y para hallar el tiempo de cada actividad.\n",
    "- num_profes: número de profesores utilizado en la función fitness.\n",
    "- dependencias: utilizada en la función fitness."
   ]
  },
  {
   "cell_type": "code",
   "execution_count": 367,
   "metadata": {},
   "outputs": [],
   "source": [
    "def decodificar_horario(cromosoma, restricciones, num_profes, dependencias):\n",
    "    \n",
    "    l = []\n",
    "    \n",
    "    #Lista que contendrá el tiempo en el que acaban todos los talleres\n",
    "    tiempos_fin_actividades = fitness_aux(cromosoma, restricciones, num_profes, dependencias)\n",
    "    \n",
    "    #Bucle para recorrer el cromosoma\n",
    "    for i in range(len(cromosoma)):\n",
    "        \n",
    "        profesor_string = profesor_a_string(cromosoma[i])\n",
    "        taller_string = taller_a_string(i + 1)\n",
    "        \n",
    "        #Variable en la que guardamos la duración de un taller\n",
    "        tiempo = tiempo_profesor(profesor_string, taller_string, restricciones)\n",
    "        \n",
    "        #Salida por cada taller. El taller es el índice más 1\n",
    "        l.append(\"El \" + profesor_string + \" imparte el \" + taller_string\n",
    "                 + \" de \" + str(tiempos_fin_actividades[i] - tiempo) + \" a \" + str(tiempos_fin_actividades[i]))\n",
    "        \n",
    "    return l"
   ]
  },
  {
   "cell_type": "markdown",
   "metadata": {},
   "source": [
    "#### Cruzar horario\n",
    "\n",
    "Nuestra función de cruce es realmente sencilla debido a nuestra representación del cromosoma. Perfectamente podríamos haber usado la función original del número al cuadrado. Hemos realizado un pequeño añadido que, haciendo uso del fitness, opto por una estrategia no destructiva.\n",
    "\n",
    "Parámetros de entrada:\n",
    "\n",
    "- cromosoma1 y cromosoma2: padres a cruzar\n",
    "- restricciones: utilizado para calcular el fitness\n",
    "- num_profes: utilizado para calcular el fitness\n",
    "- dependencias: utlizado para calcular el fitness"
   ]
  },
  {
   "cell_type": "code",
   "execution_count": 368,
   "metadata": {},
   "outputs": [],
   "source": [
    "from operator import itemgetter\n",
    "\n",
    "def cruzar_horario(cromosoma1, cromosoma2, restricciones, num_profes, dependencias):\n",
    "\n",
    "    l1 = len(cromosoma1)\n",
    "    l2 = len(cromosoma2)\n",
    "    cruce1 = cromosoma1[0:l1//2]+cromosoma2[l1//2:l2]\n",
    "    cruce2 = cromosoma2[0:l2//2]+cromosoma1[l2//2:l1]\n",
    "    \n",
    "    #Array con todos los individuos\n",
    "    padres_hijos = []\n",
    "    \n",
    "    #Los añado como pares clave-valor\n",
    "    padres_hijos.append((cromosoma1, fitness_horario(cromosoma1, restricciones, num_profes, dependencias)))\n",
    "    padres_hijos.append((cromosoma2, fitness_horario(cromosoma2, restricciones, num_profes, dependencias)))\n",
    "    padres_hijos.append((cruce1, fitness_horario(cruce1, restricciones, num_profes, dependencias)))                   \n",
    "    padres_hijos.append((cruce2, fitness_horario(cruce2, restricciones, num_profes, dependencias)))\n",
    "    \n",
    "    #Ordeno en función del fitness\n",
    "    padres_hijos = sorted(padres_hijos, key=itemgetter(1))\n",
    "    \n",
    "    #Devuelvo los que tienen fitness mayor\n",
    "    return [padres_hijos[2][0], padres_hijos[3][0]]"
   ]
  },
  {
   "cell_type": "markdown",
   "metadata": {},
   "source": [
    "#### Mutar horario\n",
    "\n",
    "Función para mutar un gen del cromosoma en función de una probabilidad. Se elige un gen de todo el cromosoma al azar y se sustituye por los valores posibles de ese gen. Muy simple.\n",
    "\n",
    "Parámetros de entrada:\n",
    "\n",
    "- cromosoma: cromosoma a mutar\n",
    "- prob: probabilidad de mutación\n",
    "- restricciones: utilizada para calcular los genes que puedo sustituir"
   ]
  },
  {
   "cell_type": "code",
   "execution_count": 369,
   "metadata": {},
   "outputs": [],
   "source": [
    "def mutar_horario(cromosoma, prob, restricciones):\n",
    "    \n",
    "    #Genero una posición aleatoria del cromosoma\n",
    "    l = len(cromosoma)\n",
    "    p = random.randint(0,l-1)\n",
    "    \n",
    "    if prob > random.uniform(0,1):\n",
    "        \n",
    "        #Taller que he seleccionado\n",
    "        taller = p + 1\n",
    "        #Lista de genes que puedo poner en esa posición\n",
    "        profesores = profesores_a_elegir(taller_a_string(taller), restricciones)\n",
    "        #Elección aleatoria\n",
    "        cromosoma[p] = random.choice(profesores)\n",
    "        \n",
    "    return cromosoma"
   ]
  },
  {
   "cell_type": "markdown",
   "metadata": {},
   "source": [
    "#### Fitness\n",
    "\n",
    "Esta es la función más compleja de todo el problema y no es para menos, ya que al simplificar las anteriores y la representación, en algún sitio debe caer la complejidad. Vayamos por partes para explicar su funcionamiento.\n",
    "\n",
    "Como idea general, antes de las dependencias su funcionamiento era muy sencillo. Con una lista del tamaño de los profes, íbamos sumando el tiempo de cada taller a sus respectivos profesores para saber el total. Después, devolvíamos el máximo de esa lista, ya que es el tiempo mínimo que necesito para mi jornada. Añadiendo las dependencias es mucho mas complicado, ya que al depender unas de otras, teníamos que esperar a que terminasen las anteriores. Si dos asignaturas eran dependientes y las impartía el mismo profesor, a nivel de tiempos no había problema alguno. Sin embargo, cuando las imparten profesores diferentes, empieza la fiesta. Tambíen hemos tenido en cuenta casos en los que evitar horas vacías en asignaturas dependientes.\n",
    "\n",
    "Por poner un ejemplo tenemos dos profesores p1 y p2 (usaremos esos nombres para simplificar) junto con 3 actividades t1, t2 y t3. Pongamos que el p1 imparte t1, y p2 las otras dos, y que t2 depende de t1. Esto quedaría tal que así:\n",
    "\n",
    "- Profesores = [p1, p2]\n",
    "- Actividades = [t1, t2, t3]\n",
    "- Restricciones = [(p1, t1, 60), (p2, t2, 60), (p2, t3, 60)]\n",
    "- Dependencias = [(p1, p2)]\n",
    "\n",
    "En este caso, primero imparto t1 de 0 a 60, después t2 de 60 a 120 y por último t3 de 120 a 180. Pero esto no sería una solución óptima ya que de 0 a 60, p2 no está haciendo absolutamente nada y además tiene un taller independiente t3. Es por esto que hemos priorizado \"colocar\" en el horario aquellas asignaturas que no dependan de otras. Damos por hecho que jamás nos van a aparecer las dependencias [(p1, p2), (p3, p1)], ya que siempre vamos a tener \"colocada\" en el horario la actividad anterior a la dependiente. \n",
    "\n",
    "Más detalles a continuación. "
   ]
  },
  {
   "cell_type": "markdown",
   "metadata": {},
   "source": [
    "Esta función es muy sencilla y aparte de utilizarse en el fitness, tambíen es llamada en decodificar. Dados un taller y un profesor pasados como string, y unas restricciones, extrae el tiempo que tarda un profesor en impartir ese taller. Es decir, busca en las restricciones una tupla en la que coincidan el taller y el profesor."
   ]
  },
  {
   "cell_type": "code",
   "execution_count": 370,
   "metadata": {},
   "outputs": [],
   "source": [
    "def tiempo_profesor(profesor, taller, restricciones):\n",
    "    \n",
    "    tiempo = 0\n",
    "    \n",
    "    #Iterador para recorrer las restricciones\n",
    "    j = 0\n",
    "    encontrado = False\n",
    "    \n",
    "    #Bucle que recorre las restricciones para extraer el tiempo que tarda un profesor en impartir un taller\n",
    "    while(encontrado == False and j < len(restricciones)):\n",
    "\n",
    "        #Si coincide el profesor y el taller, me guardo el tiempo\n",
    "        if(restricciones[j][0] == profesor and restricciones[j][1] == taller):\n",
    "            encontrado = True\n",
    "            tiempo = restricciones[j][2]\n",
    "        j += 1\n",
    "    \n",
    "    return tiempo"
   ]
  },
  {
   "cell_type": "markdown",
   "metadata": {},
   "source": [
    "Esta función es el cuerpo de la anterior función fitness (separada para extraer los tiempos de finalización de cada taller en la función decodificar). Vayamos por partes.\n",
    "\n",
    "Variables de entrada:\n",
    "- cromosoma: cromosoma del cual extraemos el fitness\n",
    "- restricciones: restricciones de los talleres\n",
    "- num_profes: número de profesores\n",
    "- dependencias: dependencias entre taleres\n",
    "\n",
    "Variables de salida:\n",
    "- Una lista con los tiempos en los que terminan cada taller\n",
    "\n",
    "Variables internas importantes:\n",
    "- tiempo_total_profes: Lista de tamaño num_profes, que va a contener el tiempo asignado para cada profesor en su jornada. Es utilizada como marca para saber cuando empiezan los talleres mientras se están calculando.\n",
    "- tiempo_fin_talleres: Lista en la que voy a guardar el tiempo de finalización de cada taller.\n",
    "- talleres_dependientes: Lista de booleanos para marcar los talleres que aparecen en la parte derecha de cada tupla de las dependencias.\n",
    "\n",
    "Una vez explicadas estas variables e inicializadas respectivamente, vamos a explicar el algoritmo. Tenemos dos bucles que harán lo siguiente:\n",
    "\n",
    "- Primer bucle: Haciendo uso de la lista talleres_dependientes, coloco en el horario aquellas actividades que no dependan de ninguna otra. Esto me sirve para evitar espacios en blanco a la hora de colocar actividades dependientes. Al \"colocar\" la asignatura, lo que hago es actualizar el tiempo del profesor correspondiente y actualizando su tiempo de finalización en las listas tiempo_total_profes y tiempo_fin_talleres.\n",
    "- Segundo bucle: En este segundo bucle vamos a recorrer las dependencias para colocar los talleres que aparecen a la derecha de cada par. Para ello nos quedaremos entre el valor máximo del tiempo del profesor que lo imparte y el tiempo de fin del taller del que depende. Esto lo hacemos ya que puede darse una situación en la que el taller anterior acabe y el profesor que debe dar el taller actual siga impartiendo un taller. En definitiva, nos sirve para saber si ha terminado antes el taller dependiente o el profesor."
   ]
  },
  {
   "cell_type": "code",
   "execution_count": 371,
   "metadata": {},
   "outputs": [],
   "source": [
    "def fitness_aux(cromosoma, restricciones, num_profes, dependencias):\n",
    "    \n",
    "    #Lista con los tiempos de cada profesor\n",
    "    tiempo_total_profes = []\n",
    "    \n",
    "    for i in range(num_profes):\n",
    "        tiempo_total_profes.append(0)\n",
    "        \n",
    "    #Lista con los tiempos de finzalización de cada taller\n",
    "    tiempo_fin_talleres = []\n",
    "    \n",
    "    for i in range(len(cromosoma)):\n",
    "        tiempo_fin_talleres.append(0)\n",
    "\n",
    "    #Lista de booleanos con los talleres dependientes a True\n",
    "    talleres_dependientes = []\n",
    "    \n",
    "    #Inicializo todos a False\n",
    "    for i in range(len(cromosoma)):\n",
    "        talleres_dependientes.append(False)\n",
    "    \n",
    "    #Pongo a True aquellos que aparecen en el segundo elemento de los pares de las dependencias\n",
    "    for i in range(len(dependencias)):\n",
    "        \n",
    "        #Me guardo el número del taller - 1, que corresponderá con el índice de mi taller\n",
    "        taller = int(dependencias[i][1][6])\n",
    "        talleres_dependientes[taller - 1] = True\n",
    "        \n",
    "    #Primer bucle para colocar las asignaturas NO DEPENDIENTES\n",
    "    for i in range(len(cromosoma)):\n",
    "        \n",
    "        #El índice i representa el taller-1 en el cromosoma y los genes que lo ocupan, su profesor        \n",
    "        if(talleres_dependientes[i] == False):\n",
    "\n",
    "            #Tiempo que tarda en impartir el taller un profesor\n",
    "            tiempo = tiempo_profesor(profesor_a_string(cromosoma[i]), taller_a_string(i + 1), restricciones)\n",
    "            \n",
    "            #Actualizo el tiempo total de los PROFESORES\n",
    "            tiempo_total_profes[cromosoma[i] - 1] += tiempo\n",
    "            \n",
    "            #Actualizo el tiempo en el que FINALIZA este taller\n",
    "            tiempo_fin_talleres[i] = tiempo_total_profes[cromosoma[i] - 1]\n",
    "            \n",
    "            \n",
    "    #Segundo bucle para colocar las asignaturas DEPENDIENTES. Ahora mi índice recorrerá las dependencias, no el cromosoma\n",
    "    for i in range(len(dependencias)):\n",
    "        \n",
    "        #Primer taller de la dependencia\n",
    "        taller_ant = int(dependencias[i][0].replace(\"taller\", \"\"))\n",
    "        \n",
    "        #Segundo taller de la depenndencia\n",
    "        taller = int(dependencias[i][1].replace(\"taller\", \"\"))\n",
    "        \n",
    "        #Profesor correspondiente al segundo taller\n",
    "        profesor = cromosoma[taller - 1]\n",
    "        \n",
    "        #Tiempo que tarda en impartir el taller el profesor\n",
    "        tiempo_taller = tiempo_profesor(profesor_a_string(profesor), taller_a_string(taller), restricciones)\n",
    "        \n",
    "        #Tiempo máximo entre el que ya tenía un profesor y la asignatura de la que depende\n",
    "        tiempo_maximo = max(tiempo_total_profes[profesor - 1], tiempo_fin_talleres[taller_ant - 1])\n",
    "        \n",
    "        #Actualizo el tiempo del profesor\n",
    "        tiempo_total_profes[profesor - 1] = tiempo_maximo + tiempo_taller\n",
    "    \n",
    "        #Actualizo el tiempo en el que termina el taller\n",
    "        tiempo_fin_talleres[taller - 1] = tiempo_maximo + tiempo_taller \n",
    "\n",
    "    \n",
    "    return tiempo_fin_talleres"
   ]
  },
  {
   "cell_type": "markdown",
   "metadata": {},
   "source": [
    "Función fitness que realiza una llamada a fitness_aux con los tiempos de finalización de cada taller y devuelve el máximo."
   ]
  },
  {
   "cell_type": "code",
   "execution_count": 372,
   "metadata": {},
   "outputs": [],
   "source": [
    "def fitness_horario(cromosoma, restricciones, num_profes, dependencias):\n",
    "    return max(fitness_aux(cromosoma, restricciones, num_profes, dependencias))"
   ]
  },
  {
   "cell_type": "markdown",
   "metadata": {},
   "source": [
    "### Pruebas del algoritmo\n",
    "\n",
    "Puesto que las actividades y los profesores son los mismos en las 5 pruebas que hemos realizado, utilizaremos una lista común para todos y sólo cambiarán las restricciones."
   ]
  },
  {
   "cell_type": "code",
   "execution_count": 373,
   "metadata": {},
   "outputs": [],
   "source": [
    "#Definición de actividades y profesores\n",
    "\n",
    "Actividades = [\"taller1\", \"taller2\", \"taller3\", \"taller4\", \"taller5\", \"taller6\", \"taller7\", \"taller8\", \"taller9\", \"taller10\"]\n",
    "Profesores = [\"profesor1\", \"profesor2\", \"profesor3\", \"profesor4\", \"profesor5\"]"
   ]
  },
  {
   "cell_type": "markdown",
   "metadata": {},
   "source": [
    "#### Prueba 1\n",
    "\n",
    "No hay dependencias entre actividades y todas tienen la misma duración. Cada taller tiene asignado un único profesor."
   ]
  },
  {
   "cell_type": "code",
   "execution_count": 374,
   "metadata": {},
   "outputs": [],
   "source": [
    "#Definición de las restricciones y deopendencias.\n",
    "\n",
    "Restricciones1 = [(\"profesor1\", \"taller1\", 60), (\"profesor1\", \"taller2\", 60), (\"profesor2\", \"taller3\", 60),\n",
    "                 (\"profesor2\", \"taller4\", 60), (\"profesor3\", \"taller5\", 60), (\"profesor3\", \"taller6\", 60), \n",
    "                 (\"profesor4\", \"taller7\", 60), (\"profesor4\", \"taller8\", 60), (\"profesor5\", \"taller9\", 60), \n",
    "                 (\"profesor5\", \"taller10\", 60)]\n",
    "\n",
    "Dependencias1 = []"
   ]
  },
  {
   "cell_type": "code",
   "execution_count": 375,
   "metadata": {},
   "outputs": [],
   "source": [
    "#Definición de generalizaciones.\n",
    "\n",
    "def cruzar_horario_1(cromosoma1, cromosoma2):\n",
    "    return cruzar_horario(cromosoma1, cromosoma2, Restricciones1, len(Profesores), Dependencias1)\n",
    "\n",
    "def mutar_horario_1(cromosoma, prob):\n",
    "    return mutar_horario(cromosoma, prob, Restricciones1)\n",
    "\n",
    "def decodificar_horario_1(cromosoma):\n",
    "    return decodificar_horario(cromosoma, Restricciones1, len(Profesores), Dependencias1)\n",
    "\n",
    "def fitness_horario_1(cromosoma):\n",
    "    return fitness_horario(cromosoma, Restricciones1, len(Profesores), Dependencias1)\n",
    "\n",
    "horario1 = ProblemaGenetico(inicializa_genes_horario(Profesores),decodificar_horario_1, mutar_horario_1, cruzar_horario_1, fitness_horario_1, len(Actividades))"
   ]
  },
  {
   "cell_type": "code",
   "execution_count": 376,
   "metadata": {},
   "outputs": [
    {
     "data": {
      "text/plain": [
       "120"
      ]
     },
     "execution_count": 376,
     "metadata": {},
     "output_type": "execute_result"
    }
   ],
   "source": [
    "fitness_horario_1([1,1,2,2,3,3,4,4,5,5])\n",
    "#Tiempo mínimo: 120 minutos"
   ]
  },
  {
   "cell_type": "code",
   "execution_count": 377,
   "metadata": {},
   "outputs": [
    {
     "data": {
      "text/plain": [
       "[[1, 1, 2, 2, 3, 3, 4, 4, 5, 5],\n",
       " [1, 1, 2, 2, 3, 3, 4, 4, 5, 5],\n",
       " [1, 1, 2, 2, 3, 3, 4, 4, 5, 5],\n",
       " [1, 1, 2, 2, 3, 3, 4, 4, 5, 5],\n",
       " [1, 1, 2, 2, 3, 3, 4, 4, 5, 5]]"
      ]
     },
     "execution_count": 377,
     "metadata": {},
     "output_type": "execute_result"
    }
   ],
   "source": [
    "poblacion_inicial_horario(horario1, 5, Restricciones1)\n",
    "#Sólo existe una combinación posible"
   ]
  },
  {
   "cell_type": "code",
   "execution_count": 378,
   "metadata": {},
   "outputs": [
    {
     "data": {
      "text/plain": [
       "(['El profesor1 imparte el taller1 de 0 a 60',\n",
       "  'El profesor1 imparte el taller2 de 60 a 120',\n",
       "  'El profesor2 imparte el taller3 de 0 a 60',\n",
       "  'El profesor2 imparte el taller4 de 60 a 120',\n",
       "  'El profesor3 imparte el taller5 de 0 a 60',\n",
       "  'El profesor3 imparte el taller6 de 60 a 120',\n",
       "  'El profesor4 imparte el taller7 de 0 a 60',\n",
       "  'El profesor4 imparte el taller8 de 60 a 120',\n",
       "  'El profesor5 imparte el taller9 de 0 a 60',\n",
       "  'El profesor5 imparte el taller10 de 60 a 120'],\n",
       " 120)"
      ]
     },
     "execution_count": 378,
     "metadata": {},
     "output_type": "execute_result"
    }
   ],
   "source": [
    "algoritmo_genetico_horario(horario1, 3, min, 100, 10, 0.5, 0.1, Restricciones1)\n",
    "#Solución única con tiempo mínimo 120 minutos."
   ]
  },
  {
   "cell_type": "markdown",
   "metadata": {},
   "source": [
    "Este primer ejemplo es muy sencillo y siempre va a salir la misma solución ya que cada taller es impartido por un único profesor. Como cada profesor imparte dos talleres y siempre tienen la misma duración, el fitness siempre será 120."
   ]
  },
  {
   "cell_type": "markdown",
   "metadata": {},
   "source": [
    "#### Prueba 2\n",
    "\n",
    "No hay dependencias entre actividades pero pueden ser impartidas por distintos profesores con mismos tiempos."
   ]
  },
  {
   "cell_type": "code",
   "execution_count": 379,
   "metadata": {},
   "outputs": [],
   "source": [
    "#Definición de las restricciones y dependencias.\n",
    "\n",
    "Restricciones2 = [(\"profesor1\", \"taller1\", 60), (\"profesor1\", \"taller2\", 60), (\"profesor1\", \"taller3\", 60),\n",
    "                  (\"profesor2\", \"taller1\", 60), (\"profesor2\", \"taller2\", 60), (\"profesor2\", \"taller3\", 60),\n",
    "                  (\"profesor2\", \"taller4\", 60),\n",
    "                  (\"profesor3\", \"taller1\", 60), (\"profesor3\", \"taller2\", 60), (\"profesor3\", \"taller3\", 60),\n",
    "                  (\"profesor3\", \"taller4\", 60), (\"profesor3\", \"taller5\", 60), (\"profesor3\", \"taller6\", 60),\n",
    "                  (\"profesor4\", \"taller1\", 60), (\"profesor4\", \"taller2\", 60), (\"profesor4\", \"taller3\", 60),\n",
    "                  (\"profesor4\", \"taller4\", 60), (\"profesor4\", \"taller6\", 60), (\"profesor4\", \"taller7\", 60),\n",
    "                  (\"profesor5\", \"taller1\", 60), (\"profesor5\", \"taller2\", 60), (\"profesor5\", \"taller3\", 60),\n",
    "                  (\"profesor5\", \"taller4\", 60), (\"profesor5\", \"taller5\", 60), (\"profesor5\", \"taller6\", 60),\n",
    "                  (\"profesor5\", \"taller7\", 60), (\"profesor5\", \"taller8\", 60), (\"profesor5\", \"taller9\", 60),\n",
    "                  (\"profesor5\", \"taller10\", 60)]\n",
    "\n",
    "Dependencias2 = []"
   ]
  },
  {
   "cell_type": "code",
   "execution_count": 380,
   "metadata": {},
   "outputs": [],
   "source": [
    "#Definición de generalizaciones.\n",
    "\n",
    "def cruzar_horario_2(cromosoma1, cromosoma2):\n",
    "    return cruzar_horario(cromosoma1, cromosoma2, Restricciones2, len(Profesores), Dependencias2)\n",
    "\n",
    "def mutar_horario_2(cromosoma, prob):\n",
    "    return mutar_horario(cromosoma, prob, Restricciones2)\n",
    "\n",
    "def decodificar_horario_2(cromosoma):\n",
    "    return decodificar_horario(cromosoma, Restricciones2, len(Profesores), Dependencias2)\n",
    "\n",
    "def fitness_horario_2(cromosoma):\n",
    "    return fitness_horario(cromosoma, Restricciones2, len(Profesores), Dependencias2)\n",
    "\n",
    "horario2 = ProblemaGenetico(inicializa_genes_horario(Profesores),decodificar_horario_2, mutar_horario_2, cruzar_horario_2, fitness_horario_2, len(Actividades))"
   ]
  },
  {
   "cell_type": "code",
   "execution_count": 381,
   "metadata": {},
   "outputs": [
    {
     "data": {
      "text/plain": [
       "(['El profesor2 imparte el taller1 de 0 a 60',\n",
       "  'El profesor1 imparte el taller2 de 0 a 60',\n",
       "  'El profesor4 imparte el taller3 de 0 a 60',\n",
       "  'El profesor3 imparte el taller4 de 0 a 60',\n",
       "  'El profesor3 imparte el taller5 de 60 a 120',\n",
       "  'El profesor4 imparte el taller6 de 60 a 120',\n",
       "  'El profesor4 imparte el taller7 de 120 a 180',\n",
       "  'El profesor5 imparte el taller8 de 0 a 60',\n",
       "  'El profesor5 imparte el taller9 de 60 a 120',\n",
       "  'El profesor5 imparte el taller10 de 120 a 180'],\n",
       " 180)"
      ]
     },
     "execution_count": 381,
     "metadata": {},
     "output_type": "execute_result"
    }
   ],
   "source": [
    "algoritmo_genetico_horario(horario2, 3, min, 100, 10, 0.5, 0.1, Restricciones2)"
   ]
  },
  {
   "cell_type": "code",
   "execution_count": 382,
   "metadata": {},
   "outputs": [
    {
     "data": {
      "text/plain": [
       "(['El profesor1 imparte el taller1 de 0 a 60',\n",
       "  'El profesor2 imparte el taller2 de 0 a 60',\n",
       "  'El profesor2 imparte el taller3 de 60 a 120',\n",
       "  'El profesor3 imparte el taller4 de 0 a 60',\n",
       "  'El profesor3 imparte el taller5 de 60 a 120',\n",
       "  'El profesor4 imparte el taller6 de 0 a 60',\n",
       "  'El profesor4 imparte el taller7 de 60 a 120',\n",
       "  'El profesor5 imparte el taller8 de 0 a 60',\n",
       "  'El profesor5 imparte el taller9 de 60 a 120',\n",
       "  'El profesor5 imparte el taller10 de 120 a 180'],\n",
       " 180)"
      ]
     },
     "execution_count": 382,
     "metadata": {},
     "output_type": "execute_result"
    }
   ],
   "source": [
    "algoritmo_genetico_horario(horario2, 3, min, 100, 10, 0.5, 0.1, Restricciones2)"
   ]
  },
  {
   "cell_type": "code",
   "execution_count": 383,
   "metadata": {},
   "outputs": [
    {
     "data": {
      "text/plain": [
       "(['El profesor5 imparte el taller1 de 0 a 60',\n",
       "  'El profesor5 imparte el taller2 de 60 a 120',\n",
       "  'El profesor5 imparte el taller3 de 120 a 180',\n",
       "  'El profesor5 imparte el taller4 de 180 a 240',\n",
       "  'El profesor5 imparte el taller5 de 240 a 300',\n",
       "  'El profesor5 imparte el taller6 de 300 a 360',\n",
       "  'El profesor5 imparte el taller7 de 360 a 420',\n",
       "  'El profesor5 imparte el taller8 de 420 a 480',\n",
       "  'El profesor5 imparte el taller9 de 480 a 540',\n",
       "  'El profesor5 imparte el taller10 de 540 a 600'],\n",
       " 600)"
      ]
     },
     "execution_count": 383,
     "metadata": {},
     "output_type": "execute_result"
    }
   ],
   "source": [
    "algoritmo_genetico_horario(horario2, 3, max, 100, 10, 0.5, 0.1, Restricciones2)\n",
    "#Si maximizamos la función (aunque sea ilógico), nos sirve para ver que el profesor5 puede impartir todos, con una duracion máxima."
   ]
  },
  {
   "cell_type": "markdown",
   "metadata": {},
   "source": [
    "Como vemos, la solución mínima tiene duración de 180 minutos y además, aunque el profesor5 sepa dar todos los talleres, como es el único que sabe dar el 8, 9 y 10, nunca dará los demás."
   ]
  },
  {
   "cell_type": "markdown",
   "metadata": {},
   "source": [
    "#### Prueba 3\n",
    "\n",
    "Misma situación que la prueba 2 pero añadimos que el profesor4 puede impartir el taller8 para llegar a soluciones de 120 minutos."
   ]
  },
  {
   "cell_type": "code",
   "execution_count": 384,
   "metadata": {},
   "outputs": [],
   "source": [
    "#Definición de las restricciones y dependencias.\n",
    "\n",
    "Restricciones3 = [(\"profesor1\", \"taller1\", 60), (\"profesor1\", \"taller2\", 60), (\"profesor1\", \"taller3\", 60),\n",
    "                  (\"profesor2\", \"taller1\", 60), (\"profesor2\", \"taller2\", 60), (\"profesor2\", \"taller3\", 60),\n",
    "                  (\"profesor2\", \"taller4\", 60),\n",
    "                  (\"profesor3\", \"taller1\", 60), (\"profesor3\", \"taller2\", 60), (\"profesor3\", \"taller3\", 60),\n",
    "                  (\"profesor3\", \"taller4\", 60), (\"profesor3\", \"taller5\", 60), (\"profesor3\", \"taller6\", 60),\n",
    "                  (\"profesor4\", \"taller1\", 60), (\"profesor4\", \"taller2\", 60), (\"profesor4\", \"taller3\", 60),\n",
    "                  (\"profesor4\", \"taller4\", 60), (\"profesor4\", \"taller6\", 60), (\"profesor4\", \"taller7\", 60),\n",
    "                  (\"profesor4\", \"taller8\", 60),\n",
    "                  (\"profesor5\", \"taller1\", 60), (\"profesor5\", \"taller2\", 60), (\"profesor5\", \"taller3\", 60),\n",
    "                  (\"profesor5\", \"taller4\", 60), (\"profesor5\", \"taller5\", 60), (\"profesor5\", \"taller6\", 60),\n",
    "                  (\"profesor5\", \"taller7\", 60), (\"profesor5\", \"taller8\", 60), (\"profesor5\", \"taller9\", 60),\n",
    "                  (\"profesor5\", \"taller10\", 60)]\n",
    "\n",
    "Dependencias3 = []"
   ]
  },
  {
   "cell_type": "code",
   "execution_count": 390,
   "metadata": {},
   "outputs": [],
   "source": [
    "#Definición de generalizaciones.\n",
    "\n",
    "def cruzar_horario_3(cromosoma1, cromosoma2):\n",
    "    return cruzar_horario(cromosoma1, cromosoma2, Restricciones3, len(Profesores), Dependencias3)\n",
    "\n",
    "def mutar_horario_3(cromosoma, prob):\n",
    "    return mutar_horario(cromosoma, prob, Restricciones3)\n",
    "\n",
    "def decodificar_horario_3(cromosoma):\n",
    "    return decodificar_horario(cromosoma, Restricciones3, len(Profesores), Dependencias3)\n",
    "\n",
    "def fitness_horario_3(cromosoma):\n",
    "    return fitness_horario(cromosoma, Restricciones3, len(Profesores), Dependencias3)\n",
    "\n",
    "horario3 = ProblemaGenetico(inicializa_genes_horario(Profesores),decodificar_horario_3, mutar_horario_3, cruzar_horario_3, fitness_horario_3, len(Actividades))"
   ]
  },
  {
   "cell_type": "code",
   "execution_count": 392,
   "metadata": {},
   "outputs": [
    {
     "data": {
      "text/plain": [
       "(['El profesor1 imparte el taller1 de 0 a 60',\n",
       "  'El profesor2 imparte el taller2 de 0 a 60',\n",
       "  'El profesor1 imparte el taller3 de 60 a 120',\n",
       "  'El profesor2 imparte el taller4 de 60 a 120',\n",
       "  'El profesor3 imparte el taller5 de 0 a 60',\n",
       "  'El profesor3 imparte el taller6 de 60 a 120',\n",
       "  'El profesor4 imparte el taller7 de 0 a 60',\n",
       "  'El profesor4 imparte el taller8 de 60 a 120',\n",
       "  'El profesor5 imparte el taller9 de 0 a 60',\n",
       "  'El profesor5 imparte el taller10 de 60 a 120'],\n",
       " 120)"
      ]
     },
     "execution_count": 392,
     "metadata": {},
     "output_type": "execute_result"
    }
   ],
   "source": [
    "algoritmo_genetico_horario(horario3, 3, min, 100, 10, 0.5, 0.1, Restricciones3)"
   ]
  },
  {
   "cell_type": "markdown",
   "metadata": {},
   "source": [
    "Como vemos, al añadir esta modificación si llegamos a soluciones más rápidas. "
   ]
  },
  {
   "cell_type": "markdown",
   "metadata": {},
   "source": [
    "#### Prueba 4\n",
    "\n",
    "No tenemos dependencias entre talleres pero los tiempos que tardan en impartirse los talleres son distintos para cada profesor."
   ]
  },
  {
   "cell_type": "code",
   "execution_count": 393,
   "metadata": {},
   "outputs": [],
   "source": [
    "#Definición de las restricciones y dependencias.\n",
    "\n",
    "Restricciones4 = [(\"profesor1\", \"taller1\", 60), (\"profesor1\", \"taller2\", 60), (\"profesor1\", \"taller3\", 60),\n",
    "                  (\"profesor2\", \"taller1\", 60), (\"profesor2\", \"taller2\", 90), (\"profesor2\", \"taller3\", 90),\n",
    "                  (\"profesor2\", \"taller4\", 100),\n",
    "                  (\"profesor3\", \"taller1\", 50), (\"profesor3\", \"taller2\", 50), (\"profesor3\", \"taller3\", 50),\n",
    "                  (\"profesor3\", \"taller4\", 50), (\"profesor3\", \"taller5\", 50), (\"profesor3\", \"taller6\", 50),\n",
    "                  (\"profesor4\", \"taller1\", 30), (\"profesor4\", \"taller2\", 30), (\"profesor4\", \"taller3\", 40),\n",
    "                  (\"profesor4\", \"taller4\", 40), (\"profesor4\", \"taller6\", 50), (\"profesor4\", \"taller7\", 60),\n",
    "                  (\"profesor5\", \"taller1\", 40), (\"profesor5\", \"taller2\", 40), (\"profesor5\", \"taller3\", 40),\n",
    "                  (\"profesor5\", \"taller4\", 40), (\"profesor5\", \"taller5\", 40), (\"profesor5\", \"taller6\", 40),\n",
    "                  (\"profesor5\", \"taller7\", 40), (\"profesor5\", \"taller8\", 40), (\"profesor5\", \"taller9\", 40),\n",
    "                  (\"profesor5\", \"taller10\", 40)]\n",
    "\n",
    "Dependencias4 = []"
   ]
  },
  {
   "cell_type": "code",
   "execution_count": 394,
   "metadata": {},
   "outputs": [],
   "source": [
    "#Definición de generalizaciones.\n",
    "\n",
    "def cruzar_horario_4(cromosoma1, cromosoma2):\n",
    "    return cruzar_horario(cromosoma1, cromosoma2, Restricciones4, len(Profesores), Dependencias4)\n",
    "\n",
    "def mutar_horario_4(cromosoma, prob):\n",
    "    return mutar_horario(cromosoma, prob, Restricciones4)\n",
    "\n",
    "def decodificar_horario_4(cromosoma):\n",
    "    return decodificar_horario(cromosoma, Restricciones4, len(Profesores), Dependencias4)\n",
    "\n",
    "def fitness_horario_4(cromosoma):\n",
    "    return fitness_horario(cromosoma, Restricciones4, len(Profesores), Dependencias4)\n",
    "\n",
    "horario4 = ProblemaGenetico(inicializa_genes_horario(Profesores),decodificar_horario_4, mutar_horario_4, cruzar_horario_4, fitness_horario_4, len(Actividades))"
   ]
  },
  {
   "cell_type": "code",
   "execution_count": 395,
   "metadata": {},
   "outputs": [
    {
     "data": {
      "text/plain": [
       "(['El profesor1 imparte el taller1 de 0 a 60',\n",
       "  'El profesor2 imparte el taller2 de 0 a 90',\n",
       "  'El profesor1 imparte el taller3 de 60 a 120',\n",
       "  'El profesor4 imparte el taller4 de 0 a 40',\n",
       "  'El profesor3 imparte el taller5 de 0 a 50',\n",
       "  'El profesor3 imparte el taller6 de 50 a 100',\n",
       "  'El profesor4 imparte el taller7 de 40 a 100',\n",
       "  'El profesor5 imparte el taller8 de 0 a 40',\n",
       "  'El profesor5 imparte el taller9 de 40 a 80',\n",
       "  'El profesor5 imparte el taller10 de 80 a 120'],\n",
       " 120)"
      ]
     },
     "execution_count": 395,
     "metadata": {},
     "output_type": "execute_result"
    }
   ],
   "source": [
    "algoritmo_genetico_horario(horario4, 3, min, 100, 10, 0.5, 0.1, Restricciones4)"
   ]
  },
  {
   "cell_type": "markdown",
   "metadata": {},
   "source": [
    "Hemos llegado a una solución de 120 minutos."
   ]
  },
  {
   "cell_type": "markdown",
   "metadata": {},
   "source": [
    "#### Prueba 5\n",
    "\n",
    "Incluimos dependencias entre talleres con una situación sencilla."
   ]
  },
  {
   "cell_type": "code",
   "execution_count": 396,
   "metadata": {},
   "outputs": [],
   "source": [
    "#Definición de las restricciones.\n",
    "Restricciones5 = [(\"profesor1\", \"taller1\", 60), (\"profesor1\", \"taller2\", 60), (\"profesor2\", \"taller3\", 60),\n",
    "                 (\"profesor2\", \"taller4\", 60), (\"profesor3\", \"taller5\", 60), (\"profesor3\", \"taller6\", 60), \n",
    "                 (\"profesor4\", \"taller7\", 60), (\"profesor4\", \"taller8\", 60), (\"profesor5\", \"taller9\", 60), \n",
    "                 (\"profesor5\", \"taller10\", 60)]\n",
    "\n",
    "Dependencias5 = [(\"taller2\", \"taller1\"), (\"taller4\", \"taller3\"), (\"taller6\", \"taller5\"), (\"taller8\", \"taller7\"), \n",
    "                 (\"taller10\", \"taller9\")]"
   ]
  },
  {
   "cell_type": "code",
   "execution_count": 397,
   "metadata": {},
   "outputs": [],
   "source": [
    "#Definición de generalizaciones.\n",
    "\n",
    "def cruzar_horario_5(cromosoma1, cromosoma2):\n",
    "    return cruzar_horario(cromosoma1, cromosoma2, Restricciones5, len(Profesores), Dependencias5)\n",
    "\n",
    "def mutar_horario_5(cromosoma, prob):\n",
    "    return mutar_horario(cromosoma, prob, Restricciones5)\n",
    "\n",
    "def decodificar_horario_5(cromosoma):\n",
    "    return decodificar_horario(cromosoma, Restricciones5, len(Profesores), Dependencias5)\n",
    "\n",
    "def fitness_horario_5(cromosoma):\n",
    "    return fitness_horario(cromosoma, Restricciones5, len(Profesores), Dependencias5)\n",
    "\n",
    "horario5 = ProblemaGenetico(inicializa_genes_horario(Profesores),decodificar_horario_5, mutar_horario_5, cruzar_horario_5, fitness_horario_5, len(Actividades))"
   ]
  },
  {
   "cell_type": "code",
   "execution_count": 398,
   "metadata": {},
   "outputs": [
    {
     "data": {
      "text/plain": [
       "(['El profesor1 imparte el taller1 de 60 a 120',\n",
       "  'El profesor1 imparte el taller2 de 0 a 60',\n",
       "  'El profesor2 imparte el taller3 de 60 a 120',\n",
       "  'El profesor2 imparte el taller4 de 0 a 60',\n",
       "  'El profesor3 imparte el taller5 de 60 a 120',\n",
       "  'El profesor3 imparte el taller6 de 0 a 60',\n",
       "  'El profesor4 imparte el taller7 de 60 a 120',\n",
       "  'El profesor4 imparte el taller8 de 0 a 60',\n",
       "  'El profesor5 imparte el taller9 de 60 a 120',\n",
       "  'El profesor5 imparte el taller10 de 0 a 60'],\n",
       " 120)"
      ]
     },
     "execution_count": 398,
     "metadata": {},
     "output_type": "execute_result"
    }
   ],
   "source": [
    "algoritmo_genetico_horario(horario5, 3, min, 100, 10, 0.5, 0.1, Restricciones5)"
   ]
  },
  {
   "cell_type": "markdown",
   "metadata": {},
   "source": [
    "Cada taller solo se puede impartir por un profesor y sólo hay una única solución. Lo interesante aqui es que las dependencias hacen que se cambie el orden de tiempo en los talleres respecto a no tener dependencias."
   ]
  },
  {
   "cell_type": "markdown",
   "metadata": {},
   "source": [
    "#### Prueba 6\n",
    "\n",
    "Mismas restricciones que el 5 pero cambiando dependencias. "
   ]
  },
  {
   "cell_type": "code",
   "execution_count": 399,
   "metadata": {},
   "outputs": [],
   "source": [
    "#Definición de las restricciones.\n",
    "Restricciones6 = [(\"profesor1\", \"taller1\", 60), (\"profesor1\", \"taller2\", 60), (\"profesor2\", \"taller3\", 60),\n",
    "                 (\"profesor2\", \"taller4\", 60), (\"profesor3\", \"taller5\", 60), (\"profesor3\", \"taller6\", 60), \n",
    "                 (\"profesor4\", \"taller7\", 60), (\"profesor4\", \"taller8\", 60), (\"profesor5\", \"taller9\", 60), \n",
    "                 (\"profesor5\", \"taller10\", 60)]\n",
    "\n",
    "Dependencias6 = [(\"taller2\", \"taller1\"), (\"taller2\", \"taller3\"), (\"taller3\", \"taller4\"), (\"taller5\", \"taller7\")]"
   ]
  },
  {
   "cell_type": "code",
   "execution_count": 400,
   "metadata": {},
   "outputs": [],
   "source": [
    "#Definición de generalizaciones.\n",
    "\n",
    "def cruzar_horario_6(cromosoma1, cromosoma2):\n",
    "    return cruzar_horario(cromosoma1, cromosoma2, Restricciones6, len(Profesores), Dependencias6)\n",
    "\n",
    "def mutar_horario_6(cromosoma, prob):\n",
    "    return mutar_horario(cromosoma, prob, Restricciones6)\n",
    "\n",
    "def decodificar_horario_6(cromosoma):\n",
    "    return decodificar_horario(cromosoma, Restricciones6, len(Profesores), Dependencias6)\n",
    "\n",
    "def fitness_horario_6(cromosoma):\n",
    "    return fitness_horario(cromosoma, Restricciones6, len(Profesores), Dependencias6)\n",
    "\n",
    "horario6 = ProblemaGenetico(inicializa_genes_horario(Profesores),decodificar_horario_6, mutar_horario_6, cruzar_horario_6, fitness_horario_6, len(Actividades))"
   ]
  },
  {
   "cell_type": "code",
   "execution_count": 401,
   "metadata": {},
   "outputs": [
    {
     "data": {
      "text/plain": [
       "(['El profesor1 imparte el taller1 de 60 a 120',\n",
       "  'El profesor1 imparte el taller2 de 0 a 60',\n",
       "  'El profesor2 imparte el taller3 de 60 a 120',\n",
       "  'El profesor2 imparte el taller4 de 120 a 180',\n",
       "  'El profesor3 imparte el taller5 de 0 a 60',\n",
       "  'El profesor3 imparte el taller6 de 60 a 120',\n",
       "  'El profesor4 imparte el taller7 de 60 a 120',\n",
       "  'El profesor4 imparte el taller8 de 0 a 60',\n",
       "  'El profesor5 imparte el taller9 de 0 a 60',\n",
       "  'El profesor5 imparte el taller10 de 60 a 120'],\n",
       " 180)"
      ]
     },
     "execution_count": 401,
     "metadata": {},
     "output_type": "execute_result"
    }
   ],
   "source": [
    "algoritmo_genetico_horario(horario6, 3, min, 100, 10, 0.5, 0.1, Restricciones6)"
   ]
  },
  {
   "cell_type": "markdown",
   "metadata": {},
   "source": [
    "Llegamos a una solución en 180 minutos puesto que el 3 depende del 2 y a su vez el 4 depende del 3. No se podrán impartir a la vez."
   ]
  },
  {
   "cell_type": "markdown",
   "metadata": {},
   "source": [
    "#### Prueba 7\n",
    "\n",
    "Misma información de profesores de la prueba 4 añadiendo dependencias temporales.\n"
   ]
  },
  {
   "cell_type": "code",
   "execution_count": 402,
   "metadata": {},
   "outputs": [],
   "source": [
    "#Definición de las restricciones y dependencias.\n",
    "\n",
    "Restricciones7 = [(\"profesor1\", \"taller1\", 60), (\"profesor1\", \"taller2\", 60), (\"profesor1\", \"taller3\", 60),\n",
    "                  (\"profesor2\", \"taller1\", 60), (\"profesor2\", \"taller2\", 90), (\"profesor2\", \"taller3\", 90),\n",
    "                  (\"profesor2\", \"taller4\", 100),\n",
    "                  (\"profesor3\", \"taller1\", 50), (\"profesor3\", \"taller2\", 50), (\"profesor3\", \"taller3\", 50),\n",
    "                  (\"profesor3\", \"taller4\", 50), (\"profesor3\", \"taller5\", 50), (\"profesor3\", \"taller6\", 50),\n",
    "                  (\"profesor4\", \"taller1\", 30), (\"profesor4\", \"taller2\", 30), (\"profesor4\", \"taller3\", 40),\n",
    "                  (\"profesor4\", \"taller4\", 40), (\"profesor4\", \"taller6\", 50), (\"profesor4\", \"taller7\", 60),\n",
    "                  (\"profesor5\", \"taller1\", 40), (\"profesor5\", \"taller2\", 40), (\"profesor5\", \"taller3\", 40),\n",
    "                  (\"profesor5\", \"taller4\", 40), (\"profesor5\", \"taller5\", 40), (\"profesor5\", \"taller6\", 40),\n",
    "                  (\"profesor5\", \"taller7\", 40), (\"profesor5\", \"taller8\", 40), (\"profesor5\", \"taller9\", 40),\n",
    "                  (\"profesor5\", \"taller10\", 40)]\n",
    "\n",
    "Dependencias7 = [(\"taller1\", \"taller8\"), (\"taller7\", \"taller6\")]"
   ]
  },
  {
   "cell_type": "code",
   "execution_count": 403,
   "metadata": {},
   "outputs": [],
   "source": [
    "#Definición de generalizaciones.\n",
    "\n",
    "def cruzar_horario_7(cromosoma1, cromosoma2):\n",
    "    return cruzar_horario(cromosoma1, cromosoma2, Restricciones7, len(Profesores), Dependencias7)\n",
    "\n",
    "def mutar_horario_7(cromosoma, prob):\n",
    "    return mutar_horario(cromosoma, prob, Restricciones7)\n",
    "\n",
    "def decodificar_horario_7(cromosoma):\n",
    "    return decodificar_horario(cromosoma, Restricciones7, len(Profesores), Dependencias7)\n",
    "\n",
    "def fitness_horario_7(cromosoma):\n",
    "    return fitness_horario(cromosoma, Restricciones7, len(Profesores), Dependencias7)\n",
    "\n",
    "horario7 = ProblemaGenetico(inicializa_genes_horario(Profesores),decodificar_horario_7, mutar_horario_7, cruzar_horario_7, fitness_horario_7, len(Actividades))"
   ]
  },
  {
   "cell_type": "code",
   "execution_count": 404,
   "metadata": {},
   "outputs": [
    {
     "data": {
      "text/plain": [
       "(['El profesor2 imparte el taller1 de 0 a 60',\n",
       "  'El profesor1 imparte el taller2 de 0 a 60',\n",
       "  'El profesor1 imparte el taller3 de 60 a 120',\n",
       "  'El profesor3 imparte el taller4 de 0 a 50',\n",
       "  'El profesor3 imparte el taller5 de 50 a 100',\n",
       "  'El profesor4 imparte el taller6 de 60 a 110',\n",
       "  'El profesor4 imparte el taller7 de 0 a 60',\n",
       "  'El profesor5 imparte el taller8 de 80 a 120',\n",
       "  'El profesor5 imparte el taller9 de 0 a 40',\n",
       "  'El profesor5 imparte el taller10 de 40 a 80'],\n",
       " 120)"
      ]
     },
     "execution_count": 404,
     "metadata": {},
     "output_type": "execute_result"
    }
   ],
   "source": [
    "algoritmo_genetico_horario(horario7, 3, min, 100, 10, 0.5, 0.1, Restricciones7)"
   ]
  },
  {
   "cell_type": "markdown",
   "metadata": {},
   "source": [
    "Solución en 120 minutos verificada (en el campus ponía 150 aunque no sabemos si será una errata). La clave de este tiempo es que el taller 9 y 10 se imparten antes que el 8. Aunque el 8 dependa del 1 (que acaba en 60), tiene que esperar a que acabe el 10 y por eso empieza en 80."
   ]
  },
  {
   "cell_type": "markdown",
   "metadata": {},
   "source": [
    "#### Conclusión final\n",
    "\n",
    "Dado que estas pruebas no tienen mucha complejidad, casi siempre llegamos a un estado óptimo. A pesar de que los algoritmos genéticos no son óptimos debido a su aleatoriedad, con este problema se consiguen unos resultados excelentes ya que con tan solo 100 generaciones y 10 individuos por generación, en todos nos ha proporcionado el óptimo(salvo el ejercicio 3, aunque aumentando a 100 individuos se llega bien al óptimo). Lo hemos intentado realizar de la manera más óptima posible simplificando la representación de los cromosomas y, aunque la función fitness haya sido un rompecabezas, cumple bien con su cometido y el algoritmo en sí tarda menos de 1 segundo en devolver la solución. Creemos que el hecho de no generar cromosomas que no cumplan las restricciones y utilizar una estrategia no descructiva en el cruce contribuye a que el algoritmo dé resultados óptimos. Quizá para problemas más complejos si habría que cambiar algunos parámetros de la selección por torneo."
   ]
  }
 ],
 "metadata": {
  "kernelspec": {
   "display_name": "Python 3",
   "language": "python",
   "name": "python3"
  },
  "language_info": {
   "codemirror_mode": {
    "name": "ipython",
    "version": 3
   },
   "file_extension": ".py",
   "mimetype": "text/x-python",
   "name": "python",
   "nbconvert_exporter": "python",
   "pygments_lexer": "ipython3",
   "version": "3.8.3"
  }
 },
 "nbformat": 4,
 "nbformat_minor": 2
}
