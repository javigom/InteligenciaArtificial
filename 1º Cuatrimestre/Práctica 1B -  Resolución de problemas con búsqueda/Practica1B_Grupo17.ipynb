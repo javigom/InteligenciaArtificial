{
 "cells": [
  {
   "cell_type": "markdown",
   "metadata": {},
   "source": [
    "## PRÁCTICA 1.B\n",
    "\n",
    "JAVIER GÓMEZ MORALEDA\n",
    "\n",
    "MARIO ALCOLEA ALCOLEA\n",
    "\n",
    "GRUPO 17"
   ]
  },
  {
   "cell_type": "markdown",
   "metadata": {},
   "source": [
    "Los problemas que hemos resuelto han sido el 1 y el 2. Al principio de cada uno hay una explicación sobre como lo hemos estructurado y como funcionan sus métodos. Además, hemos realizado comentarios en algunas partes del código para hacerlo más claro."
   ]
  },
  {
   "cell_type": "markdown",
   "metadata": {},
   "source": [
    "# CLASE PROBLEMA"
   ]
  },
  {
   "cell_type": "code",
   "execution_count": 16,
   "metadata": {},
   "outputs": [],
   "source": [
    "class Problem(object):\n",
    "\n",
    "    \"\"\"The abstract class for a formal problem. You should subclass\n",
    "    this and implement the methods actions and result, and possibly\n",
    "    __init__, goal_test, and path_cost. Then you will create instances\n",
    "    of your subclass and solve them with the various search functions.\"\"\"\n",
    "\n",
    "    def __init__(self, initial, goal=None):\n",
    "        \"\"\"The constructor specifies the initial state, and possibly a goal\n",
    "        state, if there is a unique goal. Your subclass's constructor can add\n",
    "        other arguments.\"\"\"\n",
    "        self.initial = initial\n",
    "        self.goal = goal\n",
    "\n",
    "    def actions(self, state):\n",
    "        \"\"\"Return the actions that can be executed in the given\n",
    "        state. The result would typically be a list, but if there are\n",
    "        many actions, consider yielding them one at a time in an\n",
    "        iterator, rather than building them all at once.\"\"\"\n",
    "        raise NotImplementedError\n",
    "\n",
    "    def result(self, state, action):\n",
    "        \"\"\"Return the state that results from executing the given\n",
    "        action in the given state. The action must be one of\n",
    "        self.actions(state).\"\"\"\n",
    "        raise NotImplementedError\n",
    "\n",
    "    def goal_test(self, state):\n",
    "        \"\"\"Return True if the state is a goal. The default method compares the\n",
    "        state to self.goal or checks for state in self.goal if it is a\n",
    "        list, as specified in the constructor. Override this method if\n",
    "        checking against a single self.goal is not enough.\"\"\"\n",
    "        if isinstance(self.goal, list):\n",
    "            return is_in(state, self.goal)\n",
    "        else:\n",
    "            return state == self.goal\n",
    "\n",
    "    def path_cost(self, c, state1, action, state2):\n",
    "        \"\"\"Return the cost of a solution path that arrives at state2 from\n",
    "        state1 via action, assuming cost c to get up to state1. If the problem\n",
    "        is such that the path doesn't matter, this function will only look at\n",
    "        state2.  If the path does matter, it will consider c and maybe state1\n",
    "        and action. The default method costs 1 for every step in the path.\"\"\"\n",
    "        return c + 1\n",
    "\n",
    "    def value(self, state):\n",
    "        \"\"\"For optimization problems, each state has a value.  Hill-climbing\n",
    "        and related algorithms try to maximize this value.\"\"\"\n",
    "        raise NotImplementedError\n",
    "\n",
    "    def coste_de_aplicar_accion(self, estado, accion):\n",
    "        \"\"\"Hemos incluido está función que devuelve el coste de un único operador (aplicar accion a estado). Por defecto, este\n",
    "        coste es 1. Reimplementar si el problema define otro coste \"\"\" \n",
    "        return 1"
   ]
  },
  {
   "cell_type": "code",
   "execution_count": 17,
   "metadata": {},
   "outputs": [],
   "source": [
    "# Cargamos el módulo con los algoritmos de búsqueda.\n",
    "from search import *\n",
    "from search import breadth_first_tree_search, depth_first_tree_search, depth_first_graph_search, breadth_first_graph_search, uniform_cost_search, best_first_graph_search"
   ]
  },
  {
   "cell_type": "markdown",
   "metadata": {},
   "source": [
    "# PROBLEMA 1: LA LINTERNA Y EL PUENTE"
   ]
  },
  {
   "cell_type": "markdown",
   "metadata": {},
   "source": [
    "__Introducción y entrada del problema:__\n",
    "\n",
    "Este problema se encarga de buscar una solución para que todos crucen un puente de izquierda a derecha con la limitación de que a lo sumo pueden pasar 2 a la vez y que el tiempo de la linterna que necesitan para cruzar es limitado. En primer lugar, la entrada inicial a este problema consiste en una tupla de n elementos en la que están representados el tiempo que tarda en pasar cada persona salvo el último elemento que es el tiempo de la linterna. En nuestro caso, la inicialización será, como se ve mas abajo, una tupla de esta forma: Linterna((10, 30, 60, 80, 120, 300)). Sin embargo, podemos poner el tiempo que queramos a cada persona y aumentar el número de personas que quieren cruzar (teniendo en cuenta que esto aumentará el tiempo de ejecución) o el tiempo de la linterna, pero lo que no podremos hacer es tener varios puentes y/o linternas.\n",
    "\n",
    "__Representación de los estados:__\n",
    "\n",
    "Cada estado constará de una tupla en la que representaremos con 0 o 1 si la persona con ese índice se encuentra a la izquierda o derecha del puente. Hemos asignado 1 a la izquierda (objetivo) y 0 a la derecha. Además, el penúltimo elemento de la tupla será donde se encuentra la linterna y el último su tiempo restante. Para saber cuanto tiempo tarda cada persona en cruzar, tendremos un array tiempo_personas que guardará el tiempo de cada persona y puesto que nunca es modificado, no se incluye en los estados. En nuestro ejemplo, el estado inicial es (0, 0, 0, 0, 0, 0, 300) y el array tiempo_personas = [10, 30, 60, 80, 120].\n",
    "\n",
    "__Función init:__\n",
    "\n",
    "Esta función incializa los estados y las variables globales en funcion de una tupla entrada_inicial. De ella extraigo el tiempo de personas que guardo en el array tiempo_personas y creo una tupla del estado inicial con todo ceros (al principio todos están a la derecha). A ese estado le sumo el tiempo de la linterna.\n",
    "\n",
    "__Función actions:__\n",
    "\n",
    "En esta función distingo dos casos particulares. En función de la ubicación de la linterna, tengo unas opciones u otras. Si la linterna está en la parte derecha, compruebo todas las personas que también lo están (por eso no llego las dos ultimas posiciones del estado), y con un doble bucle for, voy creando todas las posibilidades de emparejamientos posibles devueltos en pares de indices (i,j). Esto quiere decir que la persona con índice i y la persona con índice j están a la izquierda y podrían cruzar juntos. Si la linterna está en la parte izquierda es aún más sencillo ya que devuelvo un par (i, i) (para simplificar) en el cual quiere decir que la persona i está en la parte izquierda y puede cruzar a la derecha. Es importante señalar que SÓLO vuelve una persona ya que como solo cruzan de 2 en 2, no tendría sentido que cruzasen 2 a la izquierda y ambos volviesen a la derecha. Por último, antes de añadir la acción a las acciones posibles, compruebo si ese estado me va a llevar a un tiempo de la linterna negativo. En el caso en el que así sea, no lo añado a los estados posibles. Es por esto por lo que la función goal_test se simplifica mucho.\n",
    "\n",
    "__Función result:__ \n",
    "\n",
    "Es el resultado de aplicar una acción (i,j) o (i,i) a un estado. Como siempre es un par, extraigo dos variables con los índices de las dos (o una) personas. Otra vez distingo el caso en el que la linterna esté a la derecha o a la izquierda. Si están a la derecha cambio el estado poniendo sus posiciones a 1. Si están a la izquierda y como sólo vuelve una persona, cambio su estado a 0. En ambos casos se actualiza la posición donde se encuentra la linterna.\n",
    "\n",
    "__Función goal_state:__ \n",
    "\n",
    "Esta función únicamente comprueba que todas las posiciones del estado (salvo la última que es el tiempo), se encuentren a 1. Eso quiere decir que hemos dado con la solución y todos han conseguido cruzar. Se queda así de simple ya que no nos hace falta comprobar si el tiempo es mayor o igual que 0, ya que como he dicho antes, en las acciones posibles sólo se generan opciones válidas.\n"
   ]
  },
  {
   "cell_type": "code",
   "execution_count": 18,
   "metadata": {},
   "outputs": [],
   "source": [
    "class Linterna(Problem):\n",
    "           \n",
    "    tiempo_personas = []\n",
    "    \n",
    "    #Variables aclaratorias\n",
    "    izquierda = 1\n",
    "    derecha = 0\n",
    "    \n",
    "    def __init__(self, entrada_inicial):\n",
    "        \n",
    "        #Extraigo tiempo de la linterna\n",
    "        tiempo_linterna = entrada_inicial[len(entrada_inicial) - 1]\n",
    "        \n",
    "        #Tiempo de las personas\n",
    "        self.tiempo_personas = []\n",
    "        \n",
    "        #Array estado inicial\n",
    "        initial_array = []\n",
    "        \n",
    "        #Guardo el tiempo de las personas\n",
    "        for i in range(len(entrada_inicial) - 1):\n",
    "            self.tiempo_personas.append(entrada_inicial[i])\n",
    "                \n",
    "        #Inicializo el array del estado inicial a 0\n",
    "        for i in range(len(entrada_inicial)):\n",
    "            initial_array.append(0)\n",
    "            \n",
    "        #Incluyo el tiempo de la linterna\n",
    "        initial_array.append(tiempo_linterna)\n",
    "        \n",
    "        initial = tuple(initial_array)\n",
    "        \n",
    "        self.initial = initial\n",
    "       \n",
    "    def actions(self, state):\n",
    "        \n",
    "        accs=list()\n",
    "        \n",
    "        #Extraigo la ubicación de la linterna accediendo a la penúltima posición del estado\n",
    "        ubicacion_linterna = state[len(state) - 2]\n",
    "\n",
    "        #Si la linterna se encuentra a la derecha del puente\n",
    "        if(ubicacion_linterna == self.derecha):\n",
    "            #Primer buclce que recorro las personas\n",
    "            for i in range(len(state) - 2):\n",
    "                if(state[i] == self.derecha):\n",
    "                    #Segundo bucle para buscar parejas\n",
    "                    for j in range(i+1, len(state) - 2):\n",
    "                        \n",
    "                        #El tiempo que resto a la linerna siempre será de la persona que tarda más\n",
    "                        tiempo_en_cruzar =  max(self.tiempo_personas[i], self.tiempo_personas[j])\n",
    "                        \n",
    "                        #Hago una comprobación extra para evitar caer en un estado en el que se me ha gastado el tiempo de la linterna\n",
    "                        if((state[j] == self.derecha) and (tiempo_en_cruzar <= state[len(state) - 1])):\n",
    "                            accs.append((i, j))\n",
    "    \n",
    "        #Si la linterna se encuentra a la izquierda del puente\n",
    "        else:\n",
    "            #Un único bucle para recorrer a las personas\n",
    "            for i in range(len(state) - 2):\n",
    "                \n",
    "                tiempo_en_cruzar = self.tiempo_personas[i]\n",
    "                \n",
    "                #Siempre y cuando el tiempo de la linterna sea mayor o igual que el tiempo que me cuesta\n",
    "                if((state[i] == self.izquierda) and (tiempo_en_cruzar <= state[len(state) - 1])):\n",
    "                    accs.append((i, i))\n",
    "                    \n",
    "        return accs\n",
    "                        \n",
    "    def result(self, state, accion):\n",
    "\n",
    "        l = list(state)\n",
    "        \n",
    "        #Extraigo los índices de las personas que van a cruzar\n",
    "        indice1 = accion[0]\n",
    "        indice2 = accion[1]\n",
    "        \n",
    "        #Si la linterna está a la derecha, siempre pasan 2 personas\n",
    "        if(l[len(l) - 2] == self.derecha):\n",
    "            \n",
    "            #El tiempo máximo de los dos se lo resto a la lintena\n",
    "            l[len(l) - 1] -= max(self.tiempo_personas[indice1], self.tiempo_personas[indice2])\n",
    "            \n",
    "            #Actualizo ubicaciones de las personas y de la linerna\n",
    "            l[indice1] = 1\n",
    "            l[indice2] = 1\n",
    "            l[len(l) - 2] = 1\n",
    "            \n",
    "        else:\n",
    "            \n",
    "            #Le resto el tiempo que tarda a la linterna\n",
    "            l[len(l) - 1] -= self.tiempo_personas[indice1]\n",
    "            \n",
    "            #Actualizo ubicaciones de las personas y de la linerna\n",
    "            l[indice1] = 0\n",
    "            l[len(l) - 2] = 0\n",
    "        \n",
    "        return tuple(l)\n",
    "        \n",
    "    \n",
    "    def goal_test(self, state):\n",
    "        \n",
    "        #Compruebo que todos estén a la izquierda, es decir, que si hay alguno a la derecha no es solución\n",
    "        for i in range(len(state) - 1):\n",
    "            if(state[i] == self.derecha):\n",
    "                return False\n",
    "            \n",
    "        return True    "
   ]
  },
  {
   "cell_type": "markdown",
   "metadata": {},
   "source": [
    "# PROBLEMA 1: EJEMPLO DE BÚSQUEDA"
   ]
  },
  {
   "cell_type": "markdown",
   "metadata": {},
   "source": [
    "__EJEMPLO DE LA HOJA__"
   ]
  },
  {
   "cell_type": "code",
   "execution_count": 19,
   "metadata": {},
   "outputs": [],
   "source": [
    "estado = Linterna((10, 30, 60, 80, 120, 300))"
   ]
  },
  {
   "cell_type": "code",
   "execution_count": 20,
   "metadata": {},
   "outputs": [
    {
     "data": {
      "text/plain": [
       "(0, 0, 0, 0, 0, 0, 300)"
      ]
     },
     "execution_count": 20,
     "metadata": {},
     "output_type": "execute_result"
    }
   ],
   "source": [
    "estado.initial"
   ]
  },
  {
   "cell_type": "code",
   "execution_count": 21,
   "metadata": {},
   "outputs": [
    {
     "data": {
      "text/plain": [
       "[(0, 1),\n",
       " (0, 2),\n",
       " (0, 3),\n",
       " (0, 4),\n",
       " (1, 2),\n",
       " (1, 3),\n",
       " (1, 4),\n",
       " (2, 3),\n",
       " (2, 4),\n",
       " (3, 4)]"
      ]
     },
     "execution_count": 21,
     "metadata": {},
     "output_type": "execute_result"
    }
   ],
   "source": [
    "estado.actions(estado.initial)"
   ]
  },
  {
   "cell_type": "code",
   "execution_count": 22,
   "metadata": {},
   "outputs": [
    {
     "data": {
      "text/plain": [
       "[(0, 1), (0, 0), (0, 2), (0, 0), (3, 4), (1, 1), (0, 1)]"
      ]
     },
     "execution_count": 22,
     "metadata": {},
     "output_type": "execute_result"
    }
   ],
   "source": [
    "breadth_first_graph_search(estado).solution()"
   ]
  },
  {
   "cell_type": "markdown",
   "metadata": {},
   "source": [
    "__OTRO EJEMPLO CON MÁS PERSONAS__"
   ]
  },
  {
   "cell_type": "code",
   "execution_count": 23,
   "metadata": {},
   "outputs": [],
   "source": [
    "estado = Linterna((10, 30, 60, 80, 120, 240, 490, 3000))"
   ]
  },
  {
   "cell_type": "code",
   "execution_count": 24,
   "metadata": {},
   "outputs": [
    {
     "data": {
      "text/plain": [
       "[(0, 1),\n",
       " (0, 2),\n",
       " (0, 3),\n",
       " (0, 4),\n",
       " (0, 5),\n",
       " (0, 6),\n",
       " (1, 2),\n",
       " (1, 3),\n",
       " (1, 4),\n",
       " (1, 5),\n",
       " (1, 6),\n",
       " (2, 3),\n",
       " (2, 4),\n",
       " (2, 5),\n",
       " (2, 6),\n",
       " (3, 4),\n",
       " (3, 5),\n",
       " (3, 6),\n",
       " (4, 5),\n",
       " (4, 6),\n",
       " (5, 6)]"
      ]
     },
     "execution_count": 24,
     "metadata": {},
     "output_type": "execute_result"
    }
   ],
   "source": [
    "estado.actions(estado.initial)"
   ]
  },
  {
   "cell_type": "code",
   "execution_count": 25,
   "metadata": {},
   "outputs": [
    {
     "data": {
      "text/plain": [
       "[(5, 6),\n",
       " (6, 6),\n",
       " (4, 6),\n",
       " (6, 6),\n",
       " (3, 6),\n",
       " (4, 4),\n",
       " (2, 4),\n",
       " (4, 4),\n",
       " (1, 4),\n",
       " (1, 1),\n",
       " (0, 1)]"
      ]
     },
     "execution_count": 25,
     "metadata": {},
     "output_type": "execute_result"
    }
   ],
   "source": [
    "depth_first_graph_search(estado).solution()"
   ]
  },
  {
   "cell_type": "markdown",
   "metadata": {},
   "source": [
    "# PROBLEMA 2: PUZZLE INFANTIL"
   ]
  },
  {
   "cell_type": "markdown",
   "metadata": {},
   "source": [
    "__Introducción y entrada del problema:__\n",
    "\n",
    "Este problema consiste en una serie de operaciones en la que hay que rellenar unos huecos con números para obtener el resultado deseado. En el ejemplo, tenemos que rellenar 9 huecos con números que no se repitan del 1 al 9, pero esta implementación podría ser aplicable a problemas con más o menos huecos y con diferentes operaciones. Si quisieramos tener n huecos, las posibilidades de números irían desde 1 a n. En nuestro caso, y asumiendo que nunca se van a poder dar ceros como números validos, nuestra entrada del problema es una tupla en la que los huecos se representan con 0's, los números como su propio valor, y las operaciones como caracteres. Es importante que la entrada esté en el orden índicado en el que queremos que se resuelva. Además, también deberá incluir la solución. Por ejemplo, en el caso de la hoja sería: PuzzleEcuacion((0,'+',13,'x',0,':',0,'+',0,'+',12,'x',0,'-',0,'-',11,'+',0,'x',0,':',0,'-',10, '=', 66)).\n",
    "\n",
    "__Representación de los estados:__\n",
    "\n",
    "Los estados están representados como una tupla de tamaño equivalente al número de huecos contenido en nuestro porblema. Inicialmente esta tupla estará llena de ceros, y a medida que se van generando hijos, se va sustituyendo el cero más a la izquierda por un número. Es decir, que en cada hijo vamos 'colocando' un dígito diferente a los que ya han aparecido. Además de esto, contamos con un array que contiene todo el problema completo y el resultado, ambos estáticos ya que no se modifican.\n",
    "\n",
    "__Función init:__\n",
    "\n",
    "Dada una entrada inicial con el puzzle completo, extraemos el resultado y creamos dos arrays. Uno de ellos va a contener todo el puzzle excepto el resultado y el otro los huecos que hay en él. Para ello recorremos la entrada y si encuentro un 0, lo añado al array de los huecos y en todos los casos añado al array inicial el elemento que toca (Ya sea hueco, número u operador). Al final, simplemente cambio el array de huecos por una tupla que representará el estado.\n",
    "\n",
    "__Función actions:__\n",
    "\n",
    "En esta función, analizaremos el estado actual y devolveremos los valores posibles de 1 a n que podremos colocar en la posición i, es decir, donde esté el primer hueco por la izquierda. Para ello se va recorriendo el estado hasta encontrar el primer hueco y mientras tanto, voy marcando los valores (en un array de booleanos) que aparecen para que las opciones sean siempre valores distintos. Después de tener completo el array de marcas, lo recorro para ver que números no han aparecido y añadirlos a las opciones posibles. Cabe destacar que las posiciones del array de marcas corresponden a los valores posibles - 1, es decir, que si los valores posibles van de 1 a 9, los índices de este array irán de 0 a 8. En definitiva, si un número ha aparecido tendrá valor True y False en caso contrario.\n",
    "\n",
    "__Función result:__\n",
    "\n",
    "Esta función inserta el dígito contenido en action al hueco más próximo por la izquierda. Simplemente tiene un bucle que recorre el estado y encuentra la posición donde debe insertarlo. Como mejora añadida, hace uso del array de marcas y en el caso en el que haya insertado el penúltimo elemento, es trivial que sólo tengo un único elemento disponible para insertar en la última posición. Dicho esto, hace uso de un array de marcas que se rellena mientras se recorre para saber cual es el último elemento que falta por colocar.\n",
    "\n",
    "\n",
    "__Función goal_test:__\n",
    "\n",
    "El objetivo principal de esta función es comprobar si nos dá el resultado obtenido. Para ello realizo una fusión entre el array_inicial y el estado actual. Es decir, completo los huecos con los valores que he ido colocando. En un primer bucle, voy insertando en un array auxiliar el puzzle completo sustituyendo los huecos por los valores de mi estado. Posteriormente realizo un recorrido sobre el array resultante para comprobar si hay huecos, en ese caso la solución ya no es válida y retorno False. Una vez pasado ese filtro, lo único que hago es recorrer el array para hallar la solución que obtengo con los valores de mi estado. En cada iteración, opero la variable res utilizando un operador junto al valor siguiente al mismo. Al final, si coinciden los resultados, puedo decir que es solución."
   ]
  },
  {
   "cell_type": "code",
   "execution_count": 26,
   "metadata": {},
   "outputs": [],
   "source": [
    "class PuzzleEcuacion(Problem):\n",
    "    \n",
    "    #Array con el puzzle completo que jamás será modificado salvo en la inicialización del problema\n",
    "    array_inicial = []\n",
    "    \n",
    "    #Variable donde vamos a guardar todas las variables\n",
    "    resultado = 0\n",
    "    \n",
    "    def __init__(self, entrada_inicial):\n",
    "        \n",
    "        #Extraigo el resultado de la entrada inicial\n",
    "        self.resultado = entrada_inicial[len(entrada_inicial) - 1]\n",
    "        \n",
    "        #Array estático inicial\n",
    "        self.array_inicial = []\n",
    "        \n",
    "        #Array donde voy a guardar los estados\n",
    "        array_huecos = []\n",
    "        \n",
    "        #Bucle que va a recorrer toda la entrada inicial\n",
    "        for i in range(len(entrada_inicial) - 2):\n",
    "            \n",
    "            #Si es un hueco (vale 0), lo añado a la tupla del estado\n",
    "            if(entrada_inicial[i] == 0):\n",
    "                array_huecos.append(0)\n",
    "            \n",
    "            #En todos los casos guardo el puzzle completo en array_inicial\n",
    "            self.array_inicial.append(entrada_inicial[i])\n",
    "        \n",
    "        #Paso a una tupla el array con los huecos\n",
    "        huecos = tuple(array_huecos)\n",
    "        self.initial = huecos\n",
    "        \n",
    "    \n",
    "    def actions(self, state):\n",
    "        \n",
    "        accs = list()\n",
    "        \n",
    "        #Array en el que iremos marcando los números que aparecen\n",
    "        #Las posiciones del array irán de 0 a n-1, sin embargo los números van de 1 a n\n",
    "        marcados = []\n",
    "        \n",
    "        #Inicializo a false en función del número de huecos\n",
    "        for i in range(len(state)):\n",
    "            marcados.append(False)\n",
    "        \n",
    "        #Valor booleano que indica cuando he llegado a un hueco, es decir, a un 0\n",
    "        encontrado = False\n",
    "        \n",
    "        #Índice utilizado para recorrer el bucle y utilizarlos como posición para el array de marcas\n",
    "        j = 0\n",
    "        \n",
    "        #Bucle en el que cuando encuentre un 0, termino la búsqueda\n",
    "        while(encontrado == False and j < len(state)):\n",
    "            \n",
    "            #Si el elemento no es hueco, marco la posición correspondiente al valor\n",
    "            if(state[j] > 0):\n",
    "                marcados[state[j] - 1] = True\n",
    "            \n",
    "            #En otro caso, estoy en un hueco\n",
    "            else:\n",
    "                encontrado = True\n",
    "                \n",
    "            j += 1\n",
    "        \n",
    "        #Bucle que irá añadiendo a las opciones posibles los números que no han aparecido\n",
    "        for i in range(len(marcados)):\n",
    "            \n",
    "            if(marcados[i] == False):\n",
    "                accs.append(i + 1)\n",
    "            \n",
    "        return accs\n",
    "       \n",
    "        \n",
    "    def result(self, state, action):\n",
    "        \n",
    "        l = list(state)\n",
    "        \n",
    "        #Array de marcas utilizado únicamente en el caso en el que sólo me quede un hueco por poner\n",
    "        #Simplemente es una mejora para evitar crear más estados, ya que si solo queda un hueco, sabemos que valor irá en él\n",
    "        marcados = []\n",
    "        \n",
    "        #Inicialización array marcas\n",
    "        for i in range(len(state)):\n",
    "            marcados.append(False)\n",
    "        \n",
    "        #Booleano que indica dónde está el hueco\n",
    "        encontrado = False\n",
    "        \n",
    "        #Índice para ver dónde debo insertar el siguiente dígito\n",
    "        i = 0\n",
    "        \n",
    "        #Bucle principal que recorre el estado actual e inserta el valor correspondiente a la accion en el siguiente hueco\n",
    "        while(encontrado == False and i < len(state)):\n",
    "            if(l[i] == 0):\n",
    "                encontrado = True\n",
    "                l[i] = action\n",
    "            else:\n",
    "                marcados[i-1] = True\n",
    "            i += 1\n",
    "        \n",
    "        #Sólo entra en el caso en el que sólo quede un número por poner\n",
    "        if(i == (len(state) - 1)):\n",
    "            \n",
    "            #Índice array de marcas\n",
    "            j = 0\n",
    "            \n",
    "            #Hace uso del array de marcas para saber cual es\n",
    "            while(marcados[j] == True):\n",
    "                j += 1\n",
    "            \n",
    "            #Inserto el índice del array de marcas + 1\n",
    "            l[i] = j+1\n",
    "            \n",
    "        return tuple(l)\n",
    "\n",
    "    \n",
    "    def goal_test(self, state):\n",
    "        \n",
    "        #Array local en la que voy a meter el puzzle completo con los huecos rellenos\n",
    "        array_total = []\n",
    "        \n",
    "        #Índice para recorrer el estado\n",
    "        j = 0\n",
    "        \n",
    "        #Bucle que recorre el array inicial del puzzle\n",
    "        for i in range(len(self.array_inicial)):\n",
    "            \n",
    "            #Si es 0, inserto al array_total el valor correspondiente del estado\n",
    "            if(self.array_inicial[i] == 0):\n",
    "                array_total.append(state[j])\n",
    "                j += 1\n",
    "            \n",
    "            #En otro caso, no es un hueco y lo inserto en array_total\n",
    "            else:\n",
    "                array_total.append(self.array_inicial[i])\n",
    "        \n",
    "        #Si aparece algún 0 en el array, significa que aún tengo huecos que rellenar, por lo que devuelvo False\n",
    "        for i in range(len(self.array_inicial)):\n",
    "            if(array_total[i] == 0):\n",
    "                return False\n",
    "        \n",
    "        #Variable resultado, inicializada con el primer número que aparece\n",
    "        res = array_total[0]\n",
    "        \n",
    "        #Índice para recorrer el array_total\n",
    "        j = 1\n",
    "        \n",
    "        #Bucle que calcula la solución, para ello opera sobre la variable res en función del siguiente operador\n",
    "        while(j < len(array_total) - 1):\n",
    "            \n",
    "            if(array_total[j] == '+'):\n",
    "                res += array_total[j + 1]\n",
    "              \n",
    "            elif(array_total[j] == '-'):\n",
    "                res -= array_total[j + 1]\n",
    "              \n",
    "            elif(array_total[j] == 'x'):\n",
    "                res *= array_total[j + 1]\n",
    "              \n",
    "            if(array_total[j] == ':'):\n",
    "                res /= array_total[j + 1]\n",
    "            \n",
    "            #En cada iteración, utilizo un operador y un valor\n",
    "            j += 2\n",
    "        \n",
    "        #Si el resultado es el esperado, devuelvo True\n",
    "        return self.resultado == res"
   ]
  },
  {
   "cell_type": "markdown",
   "metadata": {},
   "source": [
    "# PROBLEMA 2: EJEMPLO DE BÚSQUEDA"
   ]
  },
  {
   "cell_type": "markdown",
   "metadata": {},
   "source": [
    "__EJEMPLO DE LA HOJA__"
   ]
  },
  {
   "cell_type": "code",
   "execution_count": 27,
   "metadata": {},
   "outputs": [],
   "source": [
    "ec = PuzzleEcuacion((0,'+',13,'x',0,':',0,'+',0,'+',12,'x',0,'-',0,'-',11,'+',0,'x',0,':',0,'-',10, '=', 66))"
   ]
  },
  {
   "cell_type": "code",
   "execution_count": 28,
   "metadata": {},
   "outputs": [
    {
     "data": {
      "text/plain": [
       "[9, 8, 6, 7, 3, 2, 1, 4]"
      ]
     },
     "execution_count": 28,
     "metadata": {},
     "output_type": "execute_result"
    }
   ],
   "source": [
    "depth_first_graph_search(ec).solution()"
   ]
  },
  {
   "cell_type": "code",
   "execution_count": null,
   "metadata": {},
   "outputs": [],
   "source": []
  }
 ],
 "metadata": {
  "kernelspec": {
   "display_name": "Python 3",
   "language": "python",
   "name": "python3"
  },
  "language_info": {
   "codemirror_mode": {
    "name": "ipython",
    "version": 3
   },
   "file_extension": ".py",
   "mimetype": "text/x-python",
   "name": "python",
   "nbconvert_exporter": "python",
   "pygments_lexer": "ipython3",
   "version": "3.8.3"
  }
 },
 "nbformat": 4,
 "nbformat_minor": 4
}
