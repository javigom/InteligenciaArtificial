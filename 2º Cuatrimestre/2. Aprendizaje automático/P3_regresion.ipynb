{
 "cells": [
  {
   "cell_type": "markdown",
   "metadata": {},
   "source": [
    "# Práctica 2: Aprendizaje automático\n",
    "\n",
    "__Fecha de entrega: 16 de mayo de 2021__\n",
    "\n",
    "El objetivo de esta práctica es aplicar los distintos algoritmos de aprendizaje automático disponibles en la scikit-learn [sklearn](https://scikit-learn.org/stable/) sobre varios conjuntos de datos y aprender a interpretar los resultados obtenidos. La práctica consta de 3 notebooks que se entregarán simultáneamente en la tarea de entrega habilitada en el Campus  Virtual.\n",
    "\n",
    "Lo más importante en esta práctica no es el código Python, sino el análisis de los datos y modelos que construyas y las explicaciones razonadas de cada una de las decisiones que tomes. __No se valorarán trozos de código o gráficas sin ningún tipo de contexto o explicación__.\n",
    "\n",
    "Finalmente, recuerda establecer el parámetro `random_state` en todas las funciones que tomen decisiones aleatorias para que los resultados sean reproducibles (los resultados no varíen entre ejecuciones)."
   ]
  },
  {
   "cell_type": "markdown",
   "metadata": {},
   "source": [
    "# Parte 3: Regresión"
   ]
  },
  {
   "cell_type": "markdown",
   "metadata": {},
   "source": [
    "__Número de grupo: 11__\n",
    "\n",
    "__Nombres de los estudiantes: Javier Gómez Moraleda y Mario Alcolea Alcolea__"
   ]
  },
  {
   "cell_type": "markdown",
   "metadata": {},
   "source": [
    "En este notebook trabajaremos con una colección de datos de alquileres de Airbnb en Amsterdam. El objetivo de este problema es entrenar una red neuronal capaz de predecir el precio del alojamiento a partir de un conjunto de características."
   ]
  },
  {
   "cell_type": "markdown",
   "metadata": {},
   "source": [
    "## 1) Descripción de los datos\n",
    "\n",
    "Carga el fichero de datos `airbnb.csv` en un dataframe. Describe el conjunto de datos y trata de interpretar el significado de cada una de las variables. Estudia la distribución de precios."
   ]
  },
  {
   "cell_type": "code",
   "execution_count": 1,
   "metadata": {
    "scrolled": false
   },
   "outputs": [
    {
     "data": {
      "text/html": [
       "<div>\n",
       "<style scoped>\n",
       "    .dataframe tbody tr th:only-of-type {\n",
       "        vertical-align: middle;\n",
       "    }\n",
       "\n",
       "    .dataframe tbody tr th {\n",
       "        vertical-align: top;\n",
       "    }\n",
       "\n",
       "    .dataframe thead th {\n",
       "        text-align: right;\n",
       "    }\n",
       "</style>\n",
       "<table border=\"1\" class=\"dataframe\">\n",
       "  <thead>\n",
       "    <tr style=\"text-align: right;\">\n",
       "      <th></th>\n",
       "      <th>accommodates</th>\n",
       "      <th>bathrooms</th>\n",
       "      <th>bedrooms</th>\n",
       "      <th>guests_included</th>\n",
       "      <th>host_listings_count</th>\n",
       "      <th>latitude</th>\n",
       "      <th>longitude</th>\n",
       "      <th>minimum_nights</th>\n",
       "      <th>number_of_reviews</th>\n",
       "      <th>distance_centre</th>\n",
       "      <th>instant_bookable</th>\n",
       "      <th>entire_home</th>\n",
       "      <th>private_room</th>\n",
       "      <th>shared_room</th>\n",
       "      <th>price</th>\n",
       "    </tr>\n",
       "  </thead>\n",
       "  <tbody>\n",
       "    <tr>\n",
       "      <th>0</th>\n",
       "      <td>4</td>\n",
       "      <td>2.0</td>\n",
       "      <td>2.0</td>\n",
       "      <td>1</td>\n",
       "      <td>1.0</td>\n",
       "      <td>52.358466</td>\n",
       "      <td>4.933843</td>\n",
       "      <td>2</td>\n",
       "      <td>8</td>\n",
       "      <td>3.279483</td>\n",
       "      <td>0</td>\n",
       "      <td>1</td>\n",
       "      <td>0</td>\n",
       "      <td>0</td>\n",
       "      <td>160.0</td>\n",
       "    </tr>\n",
       "    <tr>\n",
       "      <th>1</th>\n",
       "      <td>4</td>\n",
       "      <td>1.0</td>\n",
       "      <td>2.0</td>\n",
       "      <td>2</td>\n",
       "      <td>1.0</td>\n",
       "      <td>52.363589</td>\n",
       "      <td>4.983353</td>\n",
       "      <td>3</td>\n",
       "      <td>0</td>\n",
       "      <td>5.951843</td>\n",
       "      <td>0</td>\n",
       "      <td>1</td>\n",
       "      <td>0</td>\n",
       "      <td>0</td>\n",
       "      <td>120.0</td>\n",
       "    </tr>\n",
       "    <tr>\n",
       "      <th>2</th>\n",
       "      <td>2</td>\n",
       "      <td>1.0</td>\n",
       "      <td>1.0</td>\n",
       "      <td>1</td>\n",
       "      <td>1.0</td>\n",
       "      <td>52.375209</td>\n",
       "      <td>4.861647</td>\n",
       "      <td>3</td>\n",
       "      <td>8</td>\n",
       "      <td>2.601055</td>\n",
       "      <td>0</td>\n",
       "      <td>1</td>\n",
       "      <td>0</td>\n",
       "      <td>0</td>\n",
       "      <td>99.0</td>\n",
       "    </tr>\n",
       "    <tr>\n",
       "      <th>3</th>\n",
       "      <td>2</td>\n",
       "      <td>1.0</td>\n",
       "      <td>1.0</td>\n",
       "      <td>1</td>\n",
       "      <td>1.0</td>\n",
       "      <td>52.387382</td>\n",
       "      <td>4.890457</td>\n",
       "      <td>2</td>\n",
       "      <td>41</td>\n",
       "      <td>1.095138</td>\n",
       "      <td>0</td>\n",
       "      <td>0</td>\n",
       "      <td>1</td>\n",
       "      <td>0</td>\n",
       "      <td>100.0</td>\n",
       "    </tr>\n",
       "    <tr>\n",
       "      <th>4</th>\n",
       "      <td>2</td>\n",
       "      <td>1.0</td>\n",
       "      <td>1.0</td>\n",
       "      <td>1</td>\n",
       "      <td>1.0</td>\n",
       "      <td>52.384062</td>\n",
       "      <td>4.889877</td>\n",
       "      <td>3</td>\n",
       "      <td>0</td>\n",
       "      <td>0.844491</td>\n",
       "      <td>0</td>\n",
       "      <td>1</td>\n",
       "      <td>0</td>\n",
       "      <td>0</td>\n",
       "      <td>175.0</td>\n",
       "    </tr>\n",
       "    <tr>\n",
       "      <th>...</th>\n",
       "      <td>...</td>\n",
       "      <td>...</td>\n",
       "      <td>...</td>\n",
       "      <td>...</td>\n",
       "      <td>...</td>\n",
       "      <td>...</td>\n",
       "      <td>...</td>\n",
       "      <td>...</td>\n",
       "      <td>...</td>\n",
       "      <td>...</td>\n",
       "      <td>...</td>\n",
       "      <td>...</td>\n",
       "      <td>...</td>\n",
       "      <td>...</td>\n",
       "      <td>...</td>\n",
       "    </tr>\n",
       "    <tr>\n",
       "      <th>14993</th>\n",
       "      <td>2</td>\n",
       "      <td>1.0</td>\n",
       "      <td>1.0</td>\n",
       "      <td>1</td>\n",
       "      <td>43.0</td>\n",
       "      <td>52.382970</td>\n",
       "      <td>4.873389</td>\n",
       "      <td>3</td>\n",
       "      <td>10</td>\n",
       "      <td>1.815773</td>\n",
       "      <td>0</td>\n",
       "      <td>1</td>\n",
       "      <td>0</td>\n",
       "      <td>0</td>\n",
       "      <td>140.0</td>\n",
       "    </tr>\n",
       "    <tr>\n",
       "      <th>14994</th>\n",
       "      <td>4</td>\n",
       "      <td>1.0</td>\n",
       "      <td>2.0</td>\n",
       "      <td>1</td>\n",
       "      <td>1.0</td>\n",
       "      <td>52.347479</td>\n",
       "      <td>4.833644</td>\n",
       "      <td>4</td>\n",
       "      <td>2</td>\n",
       "      <td>5.687407</td>\n",
       "      <td>1</td>\n",
       "      <td>1</td>\n",
       "      <td>0</td>\n",
       "      <td>0</td>\n",
       "      <td>120.0</td>\n",
       "    </tr>\n",
       "    <tr>\n",
       "      <th>14995</th>\n",
       "      <td>2</td>\n",
       "      <td>1.0</td>\n",
       "      <td>1.0</td>\n",
       "      <td>1</td>\n",
       "      <td>1.0</td>\n",
       "      <td>52.370400</td>\n",
       "      <td>4.918489</td>\n",
       "      <td>1</td>\n",
       "      <td>5</td>\n",
       "      <td>1.620395</td>\n",
       "      <td>0</td>\n",
       "      <td>1</td>\n",
       "      <td>0</td>\n",
       "      <td>0</td>\n",
       "      <td>120.0</td>\n",
       "    </tr>\n",
       "    <tr>\n",
       "      <th>14996</th>\n",
       "      <td>3</td>\n",
       "      <td>1.0</td>\n",
       "      <td>1.0</td>\n",
       "      <td>1</td>\n",
       "      <td>1.0</td>\n",
       "      <td>52.389637</td>\n",
       "      <td>4.879580</td>\n",
       "      <td>2</td>\n",
       "      <td>7</td>\n",
       "      <td>1.777881</td>\n",
       "      <td>0</td>\n",
       "      <td>1</td>\n",
       "      <td>0</td>\n",
       "      <td>0</td>\n",
       "      <td>95.0</td>\n",
       "    </tr>\n",
       "    <tr>\n",
       "      <th>14997</th>\n",
       "      <td>2</td>\n",
       "      <td>1.0</td>\n",
       "      <td>1.0</td>\n",
       "      <td>1</td>\n",
       "      <td>1.0</td>\n",
       "      <td>52.365212</td>\n",
       "      <td>4.868335</td>\n",
       "      <td>1</td>\n",
       "      <td>2</td>\n",
       "      <td>2.619788</td>\n",
       "      <td>0</td>\n",
       "      <td>1</td>\n",
       "      <td>0</td>\n",
       "      <td>0</td>\n",
       "      <td>120.0</td>\n",
       "    </tr>\n",
       "  </tbody>\n",
       "</table>\n",
       "<p>14998 rows × 15 columns</p>\n",
       "</div>"
      ],
      "text/plain": [
       "       accommodates  bathrooms  bedrooms  guests_included  \\\n",
       "0                 4        2.0       2.0                1   \n",
       "1                 4        1.0       2.0                2   \n",
       "2                 2        1.0       1.0                1   \n",
       "3                 2        1.0       1.0                1   \n",
       "4                 2        1.0       1.0                1   \n",
       "...             ...        ...       ...              ...   \n",
       "14993             2        1.0       1.0                1   \n",
       "14994             4        1.0       2.0                1   \n",
       "14995             2        1.0       1.0                1   \n",
       "14996             3        1.0       1.0                1   \n",
       "14997             2        1.0       1.0                1   \n",
       "\n",
       "       host_listings_count   latitude  longitude  minimum_nights  \\\n",
       "0                      1.0  52.358466   4.933843               2   \n",
       "1                      1.0  52.363589   4.983353               3   \n",
       "2                      1.0  52.375209   4.861647               3   \n",
       "3                      1.0  52.387382   4.890457               2   \n",
       "4                      1.0  52.384062   4.889877               3   \n",
       "...                    ...        ...        ...             ...   \n",
       "14993                 43.0  52.382970   4.873389               3   \n",
       "14994                  1.0  52.347479   4.833644               4   \n",
       "14995                  1.0  52.370400   4.918489               1   \n",
       "14996                  1.0  52.389637   4.879580               2   \n",
       "14997                  1.0  52.365212   4.868335               1   \n",
       "\n",
       "       number_of_reviews  distance_centre  instant_bookable  entire_home  \\\n",
       "0                      8         3.279483                 0            1   \n",
       "1                      0         5.951843                 0            1   \n",
       "2                      8         2.601055                 0            1   \n",
       "3                     41         1.095138                 0            0   \n",
       "4                      0         0.844491                 0            1   \n",
       "...                  ...              ...               ...          ...   \n",
       "14993                 10         1.815773                 0            1   \n",
       "14994                  2         5.687407                 1            1   \n",
       "14995                  5         1.620395                 0            1   \n",
       "14996                  7         1.777881                 0            1   \n",
       "14997                  2         2.619788                 0            1   \n",
       "\n",
       "       private_room  shared_room  price  \n",
       "0                 0            0  160.0  \n",
       "1                 0            0  120.0  \n",
       "2                 0            0   99.0  \n",
       "3                 1            0  100.0  \n",
       "4                 0            0  175.0  \n",
       "...             ...          ...    ...  \n",
       "14993             0            0  140.0  \n",
       "14994             0            0  120.0  \n",
       "14995             0            0  120.0  \n",
       "14996             0            0   95.0  \n",
       "14997             0            0  120.0  \n",
       "\n",
       "[14998 rows x 15 columns]"
      ]
     },
     "execution_count": 1,
     "metadata": {},
     "output_type": "execute_result"
    }
   ],
   "source": [
    "import numpy as np\n",
    "import pandas as pd\n",
    "\n",
    "# Utilizamos el lector csv, cuyos valores aparecen separados por comas\n",
    "df = pd.read_csv('airbnb.csv', delimiter=',')\n",
    "\n",
    "# Mostramos la tabla resultante\n",
    "df"
   ]
  },
  {
   "cell_type": "markdown",
   "metadata": {},
   "source": [
    "### Estudio de los datos"
   ]
  },
  {
   "cell_type": "markdown",
   "metadata": {},
   "source": [
    "Primero vamos a generar datos estadísticos de las variables para hacernos una pequeña idea sobre que pueden significar cada una de ellas."
   ]
  },
  {
   "cell_type": "code",
   "execution_count": 2,
   "metadata": {},
   "outputs": [
    {
     "data": {
      "text/html": [
       "<div>\n",
       "<style scoped>\n",
       "    .dataframe tbody tr th:only-of-type {\n",
       "        vertical-align: middle;\n",
       "    }\n",
       "\n",
       "    .dataframe tbody tr th {\n",
       "        vertical-align: top;\n",
       "    }\n",
       "\n",
       "    .dataframe thead th {\n",
       "        text-align: right;\n",
       "    }\n",
       "</style>\n",
       "<table border=\"1\" class=\"dataframe\">\n",
       "  <thead>\n",
       "    <tr style=\"text-align: right;\">\n",
       "      <th></th>\n",
       "      <th>accommodates</th>\n",
       "      <th>bathrooms</th>\n",
       "      <th>bedrooms</th>\n",
       "      <th>guests_included</th>\n",
       "      <th>host_listings_count</th>\n",
       "      <th>latitude</th>\n",
       "      <th>longitude</th>\n",
       "      <th>minimum_nights</th>\n",
       "      <th>number_of_reviews</th>\n",
       "      <th>distance_centre</th>\n",
       "      <th>instant_bookable</th>\n",
       "      <th>entire_home</th>\n",
       "      <th>private_room</th>\n",
       "      <th>shared_room</th>\n",
       "      <th>price</th>\n",
       "    </tr>\n",
       "  </thead>\n",
       "  <tbody>\n",
       "    <tr>\n",
       "      <th>count</th>\n",
       "      <td>14998.000000</td>\n",
       "      <td>14998.000000</td>\n",
       "      <td>14998.000000</td>\n",
       "      <td>14998.000000</td>\n",
       "      <td>14998.000000</td>\n",
       "      <td>14998.000000</td>\n",
       "      <td>14998.000000</td>\n",
       "      <td>14998.000000</td>\n",
       "      <td>14998.000000</td>\n",
       "      <td>14998.000000</td>\n",
       "      <td>14998.000000</td>\n",
       "      <td>14998.000000</td>\n",
       "      <td>14998.000000</td>\n",
       "      <td>14998.000000</td>\n",
       "      <td>14998.000000</td>\n",
       "    </tr>\n",
       "    <tr>\n",
       "      <th>mean</th>\n",
       "      <td>2.880317</td>\n",
       "      <td>1.116215</td>\n",
       "      <td>1.390919</td>\n",
       "      <td>1.499333</td>\n",
       "      <td>3.372316</td>\n",
       "      <td>52.365312</td>\n",
       "      <td>4.889033</td>\n",
       "      <td>2.885051</td>\n",
       "      <td>17.797440</td>\n",
       "      <td>2.998582</td>\n",
       "      <td>0.155954</td>\n",
       "      <td>0.777170</td>\n",
       "      <td>0.218562</td>\n",
       "      <td>0.004267</td>\n",
       "      <td>130.050273</td>\n",
       "    </tr>\n",
       "    <tr>\n",
       "      <th>std</th>\n",
       "      <td>1.298492</td>\n",
       "      <td>0.343442</td>\n",
       "      <td>0.839649</td>\n",
       "      <td>0.940643</td>\n",
       "      <td>11.203593</td>\n",
       "      <td>0.015765</td>\n",
       "      <td>0.035010</td>\n",
       "      <td>7.252271</td>\n",
       "      <td>34.766613</td>\n",
       "      <td>1.610995</td>\n",
       "      <td>0.362824</td>\n",
       "      <td>0.416159</td>\n",
       "      <td>0.413285</td>\n",
       "      <td>0.065187</td>\n",
       "      <td>63.820328</td>\n",
       "    </tr>\n",
       "    <tr>\n",
       "      <th>min</th>\n",
       "      <td>1.000000</td>\n",
       "      <td>0.000000</td>\n",
       "      <td>0.000000</td>\n",
       "      <td>1.000000</td>\n",
       "      <td>0.000000</td>\n",
       "      <td>52.290308</td>\n",
       "      <td>4.753513</td>\n",
       "      <td>1.000000</td>\n",
       "      <td>0.000000</td>\n",
       "      <td>0.115801</td>\n",
       "      <td>0.000000</td>\n",
       "      <td>0.000000</td>\n",
       "      <td>0.000000</td>\n",
       "      <td>0.000000</td>\n",
       "      <td>19.000000</td>\n",
       "    </tr>\n",
       "    <tr>\n",
       "      <th>25%</th>\n",
       "      <td>2.000000</td>\n",
       "      <td>1.000000</td>\n",
       "      <td>1.000000</td>\n",
       "      <td>1.000000</td>\n",
       "      <td>1.000000</td>\n",
       "      <td>52.355582</td>\n",
       "      <td>4.864839</td>\n",
       "      <td>2.000000</td>\n",
       "      <td>2.000000</td>\n",
       "      <td>1.948924</td>\n",
       "      <td>0.000000</td>\n",
       "      <td>1.000000</td>\n",
       "      <td>0.000000</td>\n",
       "      <td>0.000000</td>\n",
       "      <td>89.000000</td>\n",
       "    </tr>\n",
       "    <tr>\n",
       "      <th>50%</th>\n",
       "      <td>2.000000</td>\n",
       "      <td>1.000000</td>\n",
       "      <td>1.000000</td>\n",
       "      <td>1.000000</td>\n",
       "      <td>1.000000</td>\n",
       "      <td>52.364960</td>\n",
       "      <td>4.886370</td>\n",
       "      <td>2.000000</td>\n",
       "      <td>7.000000</td>\n",
       "      <td>2.841338</td>\n",
       "      <td>0.000000</td>\n",
       "      <td>1.000000</td>\n",
       "      <td>0.000000</td>\n",
       "      <td>0.000000</td>\n",
       "      <td>115.000000</td>\n",
       "    </tr>\n",
       "    <tr>\n",
       "      <th>75%</th>\n",
       "      <td>4.000000</td>\n",
       "      <td>1.000000</td>\n",
       "      <td>2.000000</td>\n",
       "      <td>2.000000</td>\n",
       "      <td>1.000000</td>\n",
       "      <td>52.374805</td>\n",
       "      <td>4.907953</td>\n",
       "      <td>3.000000</td>\n",
       "      <td>18.000000</td>\n",
       "      <td>3.577086</td>\n",
       "      <td>0.000000</td>\n",
       "      <td>1.000000</td>\n",
       "      <td>0.000000</td>\n",
       "      <td>0.000000</td>\n",
       "      <td>150.000000</td>\n",
       "    </tr>\n",
       "    <tr>\n",
       "      <th>max</th>\n",
       "      <td>17.000000</td>\n",
       "      <td>8.000000</td>\n",
       "      <td>10.000000</td>\n",
       "      <td>16.000000</td>\n",
       "      <td>106.000000</td>\n",
       "      <td>52.426224</td>\n",
       "      <td>5.027689</td>\n",
       "      <td>523.000000</td>\n",
       "      <td>496.000000</td>\n",
       "      <td>11.842162</td>\n",
       "      <td>1.000000</td>\n",
       "      <td>1.000000</td>\n",
       "      <td>1.000000</td>\n",
       "      <td>1.000000</td>\n",
       "      <td>440.000000</td>\n",
       "    </tr>\n",
       "  </tbody>\n",
       "</table>\n",
       "</div>"
      ],
      "text/plain": [
       "       accommodates     bathrooms      bedrooms  guests_included  \\\n",
       "count  14998.000000  14998.000000  14998.000000     14998.000000   \n",
       "mean       2.880317      1.116215      1.390919         1.499333   \n",
       "std        1.298492      0.343442      0.839649         0.940643   \n",
       "min        1.000000      0.000000      0.000000         1.000000   \n",
       "25%        2.000000      1.000000      1.000000         1.000000   \n",
       "50%        2.000000      1.000000      1.000000         1.000000   \n",
       "75%        4.000000      1.000000      2.000000         2.000000   \n",
       "max       17.000000      8.000000     10.000000        16.000000   \n",
       "\n",
       "       host_listings_count      latitude     longitude  minimum_nights  \\\n",
       "count         14998.000000  14998.000000  14998.000000    14998.000000   \n",
       "mean              3.372316     52.365312      4.889033        2.885051   \n",
       "std              11.203593      0.015765      0.035010        7.252271   \n",
       "min               0.000000     52.290308      4.753513        1.000000   \n",
       "25%               1.000000     52.355582      4.864839        2.000000   \n",
       "50%               1.000000     52.364960      4.886370        2.000000   \n",
       "75%               1.000000     52.374805      4.907953        3.000000   \n",
       "max             106.000000     52.426224      5.027689      523.000000   \n",
       "\n",
       "       number_of_reviews  distance_centre  instant_bookable   entire_home  \\\n",
       "count       14998.000000     14998.000000      14998.000000  14998.000000   \n",
       "mean           17.797440         2.998582          0.155954      0.777170   \n",
       "std            34.766613         1.610995          0.362824      0.416159   \n",
       "min             0.000000         0.115801          0.000000      0.000000   \n",
       "25%             2.000000         1.948924          0.000000      1.000000   \n",
       "50%             7.000000         2.841338          0.000000      1.000000   \n",
       "75%            18.000000         3.577086          0.000000      1.000000   \n",
       "max           496.000000        11.842162          1.000000      1.000000   \n",
       "\n",
       "       private_room   shared_room         price  \n",
       "count  14998.000000  14998.000000  14998.000000  \n",
       "mean       0.218562      0.004267    130.050273  \n",
       "std        0.413285      0.065187     63.820328  \n",
       "min        0.000000      0.000000     19.000000  \n",
       "25%        0.000000      0.000000     89.000000  \n",
       "50%        0.000000      0.000000    115.000000  \n",
       "75%        0.000000      0.000000    150.000000  \n",
       "max        1.000000      1.000000    440.000000  "
      ]
     },
     "execution_count": 2,
     "metadata": {},
     "output_type": "execute_result"
    }
   ],
   "source": [
    "df.describe()"
   ]
  },
  {
   "cell_type": "markdown",
   "metadata": {},
   "source": [
    "##### Significado de las variables"
   ]
  },
  {
   "cell_type": "markdown",
   "metadata": {},
   "source": [
    "accommodates: Número máximo de huéspedes permitidos.\n",
    "\n",
    "bathrooms: Número de baños.\n",
    "\n",
    "bedrooms: Número de habitaciones.\n",
    "\n",
    "guests_included: Número de invitados permitidos.\n",
    "\n",
    "host_listings_count: Número de propietarios.\n",
    "\n",
    "latitude: Latitud.\n",
    "\n",
    "longitude: Longitud.\n",
    "\n",
    "minimum_nights: Número mínimo de noches.\n",
    "\n",
    "number_of_reviews: Número de reseñas.\n",
    "\n",
    "distance_centre: Distancia al centro de Amsterdam.\n",
    "\n",
    "instant_bookable: Booleano que indica si es posible realizar una reserva inmediata.\n",
    "\n",
    "entire_home: Booleano que indica si es una casa/apartamento completo.\n",
    "\n",
    "private_room: Booleano que indica si es una habitación privada.\n",
    "\n",
    "shared_room: Booleano que índica si es una habitación compartida.\n",
    "\n",
    "price: Precio por noche (suponemos dólares)."
   ]
  },
  {
   "cell_type": "markdown",
   "metadata": {},
   "source": [
    "##### Distribución de los precios"
   ]
  },
  {
   "cell_type": "code",
   "execution_count": 3,
   "metadata": {},
   "outputs": [
    {
     "data": {
      "text/plain": [
       "<AxesSubplot:ylabel='Frequency'>"
      ]
     },
     "execution_count": 3,
     "metadata": {},
     "output_type": "execute_result"
    },
    {
     "data": {
      "image/png": "[encoded data removed]",
      "text/plain": [
       "<Figure size 432x288 with 1 Axes>"
      ]
     },
     "metadata": {
      "needs_background": "light"
     },
     "output_type": "display_data"
    }
   ],
   "source": [
    "df['price'].plot.hist()"
   ]
  },
  {
   "cell_type": "markdown",
   "metadata": {},
   "source": [
    "Como vemos en la gráfica, su distribución es asimétrica y el precio con mayor frecuencia es 100. Además, la mayoría de precios están en torno a 100-200 y a medida que va aumentando, menor frecuencia tiene."
   ]
  },
  {
   "cell_type": "markdown",
   "metadata": {},
   "source": [
    "## 2) Selección de variables\n",
    "\n",
    "Calcula los coeficientes de correlación de Pearson entre la variable de salida y el resto de variables. Crea un nuevo dataframe que contenga el precio y, además, las variables que estén relacionadas con él por un valor de correlacción de al menos 0.2 (de forma directa o inversa)."
   ]
  },
  {
   "cell_type": "markdown",
   "metadata": {},
   "source": [
    "Vamos a calcular los coeficientes de correlación de la variable precio respecto a las demás. Para ello, calculamos todos los coeficientes 2 a 2 y nos quedamos únicamente con la columna 'price'"
   ]
  },
  {
   "cell_type": "code",
   "execution_count": 4,
   "metadata": {},
   "outputs": [
    {
     "data": {
      "text/plain": [
       "accommodates           0.552183\n",
       "bathrooms              0.283759\n",
       "bedrooms               0.517237\n",
       "guests_included        0.338739\n",
       "host_listings_count    0.109141\n",
       "latitude               0.027922\n",
       "longitude              0.035887\n",
       "minimum_nights         0.007708\n",
       "number_of_reviews     -0.088437\n",
       "distance_centre       -0.204698\n",
       "instant_bookable      -0.004410\n",
       "entire_home            0.361313\n",
       "private_room          -0.357184\n",
       "shared_room           -0.042109\n",
       "price                  1.000000\n",
       "Name: price, dtype: float64"
      ]
     },
     "execution_count": 4,
     "metadata": {},
     "output_type": "execute_result"
    }
   ],
   "source": [
    "# Coeficientes de correlacion de Pearson\n",
    "df.corr(method='pearson')['price']"
   ]
  },
  {
   "cell_type": "code",
   "execution_count": 5,
   "metadata": {},
   "outputs": [
    {
     "data": {
      "text/html": [
       "<div>\n",
       "<style scoped>\n",
       "    .dataframe tbody tr th:only-of-type {\n",
       "        vertical-align: middle;\n",
       "    }\n",
       "\n",
       "    .dataframe tbody tr th {\n",
       "        vertical-align: top;\n",
       "    }\n",
       "\n",
       "    .dataframe thead th {\n",
       "        text-align: right;\n",
       "    }\n",
       "</style>\n",
       "<table border=\"1\" class=\"dataframe\">\n",
       "  <thead>\n",
       "    <tr style=\"text-align: right;\">\n",
       "      <th></th>\n",
       "      <th>accommodates</th>\n",
       "      <th>bathrooms</th>\n",
       "      <th>bedrooms</th>\n",
       "      <th>guests_included</th>\n",
       "      <th>distance_centre</th>\n",
       "      <th>entire_home</th>\n",
       "      <th>private_room</th>\n",
       "      <th>price</th>\n",
       "    </tr>\n",
       "  </thead>\n",
       "  <tbody>\n",
       "    <tr>\n",
       "      <th>0</th>\n",
       "      <td>4</td>\n",
       "      <td>2.0</td>\n",
       "      <td>2.0</td>\n",
       "      <td>1</td>\n",
       "      <td>3.279483</td>\n",
       "      <td>1</td>\n",
       "      <td>0</td>\n",
       "      <td>160.0</td>\n",
       "    </tr>\n",
       "    <tr>\n",
       "      <th>1</th>\n",
       "      <td>4</td>\n",
       "      <td>1.0</td>\n",
       "      <td>2.0</td>\n",
       "      <td>2</td>\n",
       "      <td>5.951843</td>\n",
       "      <td>1</td>\n",
       "      <td>0</td>\n",
       "      <td>120.0</td>\n",
       "    </tr>\n",
       "    <tr>\n",
       "      <th>2</th>\n",
       "      <td>2</td>\n",
       "      <td>1.0</td>\n",
       "      <td>1.0</td>\n",
       "      <td>1</td>\n",
       "      <td>2.601055</td>\n",
       "      <td>1</td>\n",
       "      <td>0</td>\n",
       "      <td>99.0</td>\n",
       "    </tr>\n",
       "    <tr>\n",
       "      <th>3</th>\n",
       "      <td>2</td>\n",
       "      <td>1.0</td>\n",
       "      <td>1.0</td>\n",
       "      <td>1</td>\n",
       "      <td>1.095138</td>\n",
       "      <td>0</td>\n",
       "      <td>1</td>\n",
       "      <td>100.0</td>\n",
       "    </tr>\n",
       "    <tr>\n",
       "      <th>4</th>\n",
       "      <td>2</td>\n",
       "      <td>1.0</td>\n",
       "      <td>1.0</td>\n",
       "      <td>1</td>\n",
       "      <td>0.844491</td>\n",
       "      <td>1</td>\n",
       "      <td>0</td>\n",
       "      <td>175.0</td>\n",
       "    </tr>\n",
       "    <tr>\n",
       "      <th>...</th>\n",
       "      <td>...</td>\n",
       "      <td>...</td>\n",
       "      <td>...</td>\n",
       "      <td>...</td>\n",
       "      <td>...</td>\n",
       "      <td>...</td>\n",
       "      <td>...</td>\n",
       "      <td>...</td>\n",
       "    </tr>\n",
       "    <tr>\n",
       "      <th>14993</th>\n",
       "      <td>2</td>\n",
       "      <td>1.0</td>\n",
       "      <td>1.0</td>\n",
       "      <td>1</td>\n",
       "      <td>1.815773</td>\n",
       "      <td>1</td>\n",
       "      <td>0</td>\n",
       "      <td>140.0</td>\n",
       "    </tr>\n",
       "    <tr>\n",
       "      <th>14994</th>\n",
       "      <td>4</td>\n",
       "      <td>1.0</td>\n",
       "      <td>2.0</td>\n",
       "      <td>1</td>\n",
       "      <td>5.687407</td>\n",
       "      <td>1</td>\n",
       "      <td>0</td>\n",
       "      <td>120.0</td>\n",
       "    </tr>\n",
       "    <tr>\n",
       "      <th>14995</th>\n",
       "      <td>2</td>\n",
       "      <td>1.0</td>\n",
       "      <td>1.0</td>\n",
       "      <td>1</td>\n",
       "      <td>1.620395</td>\n",
       "      <td>1</td>\n",
       "      <td>0</td>\n",
       "      <td>120.0</td>\n",
       "    </tr>\n",
       "    <tr>\n",
       "      <th>14996</th>\n",
       "      <td>3</td>\n",
       "      <td>1.0</td>\n",
       "      <td>1.0</td>\n",
       "      <td>1</td>\n",
       "      <td>1.777881</td>\n",
       "      <td>1</td>\n",
       "      <td>0</td>\n",
       "      <td>95.0</td>\n",
       "    </tr>\n",
       "    <tr>\n",
       "      <th>14997</th>\n",
       "      <td>2</td>\n",
       "      <td>1.0</td>\n",
       "      <td>1.0</td>\n",
       "      <td>1</td>\n",
       "      <td>2.619788</td>\n",
       "      <td>1</td>\n",
       "      <td>0</td>\n",
       "      <td>120.0</td>\n",
       "    </tr>\n",
       "  </tbody>\n",
       "</table>\n",
       "<p>14998 rows × 8 columns</p>\n",
       "</div>"
      ],
      "text/plain": [
       "       accommodates  bathrooms  bedrooms  guests_included  distance_centre  \\\n",
       "0                 4        2.0       2.0                1         3.279483   \n",
       "1                 4        1.0       2.0                2         5.951843   \n",
       "2                 2        1.0       1.0                1         2.601055   \n",
       "3                 2        1.0       1.0                1         1.095138   \n",
       "4                 2        1.0       1.0                1         0.844491   \n",
       "...             ...        ...       ...              ...              ...   \n",
       "14993             2        1.0       1.0                1         1.815773   \n",
       "14994             4        1.0       2.0                1         5.687407   \n",
       "14995             2        1.0       1.0                1         1.620395   \n",
       "14996             3        1.0       1.0                1         1.777881   \n",
       "14997             2        1.0       1.0                1         2.619788   \n",
       "\n",
       "       entire_home  private_room  price  \n",
       "0                1             0  160.0  \n",
       "1                1             0  120.0  \n",
       "2                1             0   99.0  \n",
       "3                0             1  100.0  \n",
       "4                1             0  175.0  \n",
       "...            ...           ...    ...  \n",
       "14993            1             0  140.0  \n",
       "14994            1             0  120.0  \n",
       "14995            1             0  120.0  \n",
       "14996            1             0   95.0  \n",
       "14997            1             0  120.0  \n",
       "\n",
       "[14998 rows x 8 columns]"
      ]
     },
     "execution_count": 5,
     "metadata": {},
     "output_type": "execute_result"
    }
   ],
   "source": [
    "# Columnas que vamos a seleccionar, aquellas con un valor de correlación de al menos 0.2\n",
    "selected_columns = ['accommodates', 'bathrooms', 'bedrooms', 'guests_included', 'distance_centre', \n",
    "                    'entire_home', 'private_room', 'price']\n",
    "\n",
    "# Creamos un nuevo dataframe con esas columnas\n",
    "df_new = pd.DataFrame(df, columns=selected_columns)\n",
    "\n",
    "# Mostramos el resultado\n",
    "df_new"
   ]
  },
  {
   "cell_type": "markdown",
   "metadata": {},
   "source": [
    "## 3) Normalización\n",
    "\n",
    "Decide si debes o no normalizar los datos. En caso afirmativo elige razonadamente entre escalarlos o estandarizarlos.\n",
    "\n",
    "Si decides escalar los datos deberás crear dos `scalers` distintos, uno para el array con la descripción de los pisos y otro para el array con el precio. Lo hacemos de este modo porque así podremos desescalar las predicciones más fácilmente."
   ]
  },
  {
   "cell_type": "markdown",
   "metadata": {},
   "source": [
    "Hemos decidido normalizar los datos y en concreto escalarlos. Lo hacemos porque así reducimos el tiempo de entrenamiento y evitamos mínimos locales en la optimización del error."
   ]
  },
  {
   "cell_type": "code",
   "execution_count": 6,
   "metadata": {},
   "outputs": [],
   "source": [
    "from sklearn.preprocessing import StandardScaler\n",
    "\n",
    "# Transformamos las variables de entrada\n",
    "scaler_x = StandardScaler()\n",
    "scaler_x.fit(df_new.drop(['price'], axis=1).values)\n",
    "data_scaled= scaler_x.transform(df_new.drop(['price'], axis=1).values)\n",
    "\n",
    "# Y también transformamos la variable de salida\n",
    "scaler_y = StandardScaler()\n",
    "scaler_y.fit(df_new['price'].values.reshape(-1, 1)) # Como es una sola variable es necesario ponerlo en modo columna\n",
    "target_scaled=scaler_y.transform(df_new['price'].values.reshape(-1, 1))"
   ]
  },
  {
   "cell_type": "markdown",
   "metadata": {},
   "source": [
    "## 4) Entrenamiento y selección\n",
    "\n",
    "Crea dos redes neuronales de tipo Perceptrón Multicapa:\n",
    "- La primera con una capa oculta de 200 neuronas\n",
    "- La segunda con dos capas ocultas cada una de 100 neuronas\n",
    "\n",
    "Pinta la curva de aprendizaje para cada red variando el parámetro `alpha` que controla el coeficiente de regularización L2 y determina el valor óptimo usando validación cruzada. Asegúrate de que no salen warnings indicando que no se ha alcanzado la convergencia durante el entrenamiento (basta con poner un número de max_iter suficientemente grande).\n",
    "\n",
    "¿Alguna de las dos redes domina a la otra? ¿Por qué crees que se producen las diferencias?"
   ]
  },
  {
   "cell_type": "markdown",
   "metadata": {},
   "source": [
    "Vamos a ejecutar primero la red neuronal con una capa oculta de 200 neuronas."
   ]
  },
  {
   "cell_type": "code",
   "execution_count": 7,
   "metadata": {},
   "outputs": [],
   "source": [
    "RANDOM_STATE=333"
   ]
  },
  {
   "cell_type": "code",
   "execution_count": 8,
   "metadata": {},
   "outputs": [
    {
     "data": {
      "text/plain": [
       "([-0.5015792651373208,\n",
       "  -0.5056569462264315,\n",
       "  -0.5084204672073943,\n",
       "  -0.5072291979532284,\n",
       "  -0.5074247879443388,\n",
       "  -0.5077170828882911],\n",
       " [0.01872737888521294,\n",
       "  0.019781005554062054,\n",
       "  0.0205545138587295,\n",
       "  0.020507579764440485,\n",
       "  0.021208427147934986,\n",
       "  0.02010147015037144])"
      ]
     },
     "execution_count": 8,
     "metadata": {},
     "output_type": "execute_result"
    }
   ],
   "source": [
    "from sklearn.neural_network import MLPRegressor\n",
    "from sklearn.model_selection import cross_val_score\n",
    "from sklearn.metrics import mean_squared_error\n",
    "import numpy as np\n",
    "\n",
    "cv_scores_mean=[]\n",
    "cv_scores_std=[]\n",
    "\n",
    "# Entrenar y validar distintas configuraciones\n",
    "regul_param_range = 10.0 ** -np.arange(1, 7) # [0.1, 0.01, ..., 0.0000001]\n",
    "for regul_param in regul_param_range:\n",
    "    # Aumentamos el parámetro max_iter hasta que converja\n",
    "    mlp=MLPRegressor(hidden_layer_sizes=(200, ), activation='relu', solver='adam', alpha=regul_param, batch_size=100, \n",
    "             learning_rate='constant', learning_rate_init=0.001, max_iter=500, random_state=RANDOM_STATE)\n",
    "    \n",
    "    # El error es neg_mean_squared_error el MSE en negativo!! Más pequeño peor.\n",
    "    scores = cross_val_score(mlp, data_scaled, target_scaled.ravel(), cv=5, scoring='neg_mean_squared_error')\n",
    "    \n",
    "    cv_scores_mean.append(scores.mean())\n",
    "    cv_scores_std.append(scores.std())\n",
    "\n",
    "cv_scores_mean, cv_scores_std"
   ]
  },
  {
   "cell_type": "code",
   "execution_count": 9,
   "metadata": {},
   "outputs": [
    {
     "data": {
      "image/png": "[encoded data removed]",
      "text/plain": [
       "<Figure size 432x288 with 1 Axes>"
      ]
     },
     "metadata": {
      "needs_background": "light"
     },
     "output_type": "display_data"
    }
   ],
   "source": [
    "import matplotlib.pyplot as plt\n",
    "\n",
    "# Dibujamos la línea de la exactitud media en las partes de test\n",
    "plt.plot(np.log10(regul_param_range), cv_scores_mean, color=\"g\", label=\"Test\")\n",
    "\n",
    "# Dibujamos la banda de la desviación típica\n",
    "lower_limit = np.array(cv_scores_mean) - np.array(cv_scores_std)\n",
    "upper_limit = np.array(cv_scores_mean) + np.array(cv_scores_std)\n",
    "plt.fill_between(np.log10(regul_param_range), lower_limit, upper_limit, color=\"#DDDDDD\")\n",
    "\n",
    "# Creamos el gráfico\n",
    "plt.title(\"Curva de aprendizaje\")\n",
    "plt.xlabel(\"Regularización 10^{-X}\"), plt.ylabel(\"negative MSE\"), plt.legend(loc=\"best\")\n",
    "plt.tight_layout()\n",
    "plt.show()"
   ]
  },
  {
   "cell_type": "markdown",
   "metadata": {},
   "source": [
    "Ahora haremos la red neuronal con 2 capas de 100 neuronas cada una."
   ]
  },
  {
   "cell_type": "code",
   "execution_count": 10,
   "metadata": {},
   "outputs": [
    {
     "data": {
      "text/plain": [
       "([-0.5022401319692171,\n",
       "  -0.5212723846927604,\n",
       "  -0.530903750393929,\n",
       "  -0.5558301501345139,\n",
       "  -0.5364957151102627,\n",
       "  -0.5351471772454088],\n",
       " [0.019461952672887077,\n",
       "  0.02322501695727659,\n",
       "  0.016220808847205323,\n",
       "  0.01952549060917959,\n",
       "  0.02114182973415163,\n",
       "  0.016678367762591698])"
      ]
     },
     "execution_count": 10,
     "metadata": {},
     "output_type": "execute_result"
    }
   ],
   "source": [
    "cv_scores_mean2=[]\n",
    "cv_scores_std2=[]\n",
    "\n",
    "# Entrenar y validar distintas configuraciones\n",
    "regul_param_range = 10.0 ** -np.arange(1, 7) # [0.1, 0.01, ..., 0.0000001]\n",
    "for regul_param in regul_param_range:\n",
    "    # Aumentamos el parámetro max_iter hasta que converja\n",
    "    mlp=MLPRegressor(hidden_layer_sizes=(100,100, ), activation='relu', solver='adam', alpha=regul_param, batch_size=100, \n",
    "             learning_rate='constant', learning_rate_init=0.001, max_iter=500, random_state=RANDOM_STATE)\n",
    "    \n",
    "    # El error es neg_mean_squared_error el MSE en negativo!! Más pequeño peor.\n",
    "    scores2 = cross_val_score(mlp, data_scaled, target_scaled.ravel(), cv=5, scoring='neg_mean_squared_error')\n",
    "    \n",
    "    cv_scores_mean2.append(scores2.mean())\n",
    "    cv_scores_std2.append(scores2.std())\n",
    "\n",
    "cv_scores_mean2, cv_scores_std2"
   ]
  },
  {
   "cell_type": "code",
   "execution_count": 11,
   "metadata": {},
   "outputs": [
    {
     "data": {
      "image/png": "[encoded data removed]",
      "text/plain": [
       "<Figure size 432x288 with 1 Axes>"
      ]
     },
     "metadata": {
      "needs_background": "light"
     },
     "output_type": "display_data"
    }
   ],
   "source": [
    "# Dibujamos la línea de la exactitud media en las partes de test\n",
    "plt.plot(np.log10(regul_param_range), cv_scores_mean2, color=\"g\", label=\"Test\")\n",
    "\n",
    "# Dibujamos la banda de la desviación típica\n",
    "lower_limit = np.array(cv_scores_mean2) - np.array(cv_scores_std2)\n",
    "upper_limit = np.array(cv_scores_mean2) + np.array(cv_scores_std2)\n",
    "plt.fill_between(np.log10(regul_param_range), lower_limit, upper_limit, color=\"#DDDDDD\")\n",
    "\n",
    "# Creamos el gráfico\n",
    "plt.title(\"Curva de aprendizaje\")\n",
    "plt.xlabel(\"Regularización 10^{-X}\"), plt.ylabel(\"negative MSE\"), plt.legend(loc=\"best\")\n",
    "plt.tight_layout()\n",
    "plt.show()"
   ]
  },
  {
   "cell_type": "markdown",
   "metadata": {},
   "source": [
    "Realmente, ninguna domina a la otra ya que obtenemos el mismo valor final de aprendizaje en ambas redes neuronales, pero si tenemos, como podemos comprobar, unas gráficas muy diferentes. Estas diferencias ocurren ya que la red neuronal con 2 capas, aprende con diferentes niveles de abstracción de los datos."
   ]
  },
  {
   "cell_type": "markdown",
   "metadata": {},
   "source": [
    "## 5) Medición del error\n",
    "\n",
    "Elige la mejor configuración del apartado anterior y usa la función `cross_val_predict` para realizar una predicción del valor de todos los establecimientos usando validación cruzada. ¿Cuál es el error medio del modelo en euros? ¿Crees que el modelo es suficientemente bueno?\n",
    "\n",
    "Pinta la distribución del error en euros y el diagrama de dispersión de la predicción frente al valor real. ¿El modelo comete los mismos tipos de errores en establecimientos de distintos precios? ¿Por qué crees que se producen esos errores?"
   ]
  },
  {
   "cell_type": "markdown",
   "metadata": {},
   "source": [
    "Hemos elegido la configuración con una capa oculta y 200 neuronas."
   ]
  },
  {
   "cell_type": "code",
   "execution_count": 12,
   "metadata": {},
   "outputs": [],
   "source": [
    "from sklearn.model_selection import cross_val_predict\n",
    "\n",
    "# Creamos el clasificador\n",
    "regul_param=0.1\n",
    "mlp = MLPRegressor(hidden_layer_sizes=(200, ), activation='relu', solver='adam', alpha=regul_param, batch_size=100, \n",
    "             learning_rate='constant', learning_rate_init=0.001, max_iter=500, random_state=RANDOM_STATE)\n",
    "    \n",
    "# estimamos \n",
    "predicts_scaled = cross_val_predict(mlp, data_scaled, target_scaled.ravel(), cv=10)\n",
    "\n",
    "# desescalamos las predicciones para que estén en la escala original\n",
    "predicts=scaler_y.inverse_transform(predicts_scaled)"
   ]
  },
  {
   "cell_type": "code",
   "execution_count": 13,
   "metadata": {},
   "outputs": [
    {
     "name": "stdout",
     "output_type": "stream",
     "text": [
      "Error medio: 58.07299568928267\n",
      "Desviación típica: 52.53743723035447\n",
      "Error medio en %: 44.6542665267292\n"
     ]
    }
   ],
   "source": [
    "errors = np.abs(df_new['price'].values.reshape(-1, 1) - predicts) # error en cada ejemplo\n",
    "mean_error = np.mean(errors)\n",
    "std_error = np.std(errors)\n",
    "mean_price = np.mean(df_new['price'])\n",
    "\n",
    "print('Error medio:', mean_error)\n",
    "print('Desviación típica:', std_error)\n",
    "print('Error medio en %:', mean_error/mean_price*100)"
   ]
  },
  {
   "cell_type": "markdown",
   "metadata": {},
   "source": [
    "Tenemos un error medio de 58 dólares que en porcentaje representa el 44.6%. El modelo nos da unos resultados bastante malos, con una desviación típica de 52.5 dólares, por lo que, si nos fijamos en la distribución de precios y vemos que la mayoría se encuentra concentrada en torno a 100-150 dólares, el error es enorme."
   ]
  },
  {
   "cell_type": "code",
   "execution_count": 14,
   "metadata": {},
   "outputs": [
    {
     "data": {
      "image/png": "[encoded data removed]",
      "text/plain": [
       "<Figure size 432x288 with 1 Axes>"
      ]
     },
     "metadata": {
      "needs_background": "light"
     },
     "output_type": "display_data"
    }
   ],
   "source": [
    "# Dibujamos el histograma de los errores\n",
    "fig1 = plt.figure()\n",
    "ax1 = plt.axes()\n",
    "ax1.hist(errors)\n",
    "\n",
    "plt.title('Distribución del error en valor absoluto')\n",
    "plt.show()"
   ]
  },
  {
   "cell_type": "markdown",
   "metadata": {},
   "source": [
    "En esta gráfica podemos ver la distribución del error. Encontramos la mayor parte del error en la parte izquierda de la gráfica y se va reduciendo, pero aún así siguen siendo unos valores para el error demasiado altos y que no deseamos."
   ]
  },
  {
   "cell_type": "code",
   "execution_count": 15,
   "metadata": {},
   "outputs": [
    {
     "data": {
      "image/png": "[encoded data removed]",
      "text/plain": [
       "<Figure size 432x288 with 1 Axes>"
      ]
     },
     "metadata": {
      "needs_background": "light"
     },
     "output_type": "display_data"
    }
   ],
   "source": [
    "fig2 = plt.figure()\n",
    "ax2 = plt.axes()\n",
    "\n",
    "# dibujamos los errores: la distancia a la recta indica el nivel de error\n",
    "ax2.scatter(df_new['price'], predicts) \n",
    "# Pintamos la referencia de la predicción perfecta\n",
    "ax2.plot(df_new['price'],df_new['price'], color='k') \n",
    "\n",
    "plt.title('Y Vs Y_pred')\n",
    "plt.show()"
   ]
  },
  {
   "cell_type": "markdown",
   "metadata": {},
   "source": [
    "Los errores en los distintos precios son muy parecidos, aunque cada vez que vamos aumentando el precio, se va distanciando de la recta. Esto lo que nos indica es que la mayor desviación se produce a partir de los valores Y = 300, aunque el rango es grande en los valores anteriores y hay casos concretos muy desviados.\n",
    "En conclusión sacamos que es muy mejorable, y sobre todo a partir de precios más altos."
   ]
  }
 ],
 "metadata": {
  "kernelspec": {
   "display_name": "Python 3",
   "language": "python",
   "name": "python3"
  },
  "language_info": {
   "codemirror_mode": {
    "name": "ipython",
    "version": 3
   },
   "file_extension": ".py",
   "mimetype": "text/x-python",
   "name": "python",
   "nbconvert_exporter": "python",
   "pygments_lexer": "ipython3",
   "version": "3.8.5"
  }
 },
 "nbformat": 4,
 "nbformat_minor": 5
}
