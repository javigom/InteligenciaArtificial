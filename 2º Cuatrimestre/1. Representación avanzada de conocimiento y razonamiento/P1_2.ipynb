{
 "cells": [
  {
   "cell_type": "markdown",
   "metadata": {},
   "source": [
    "__No te olvides de rellenar esto:__\n",
    "\n",
    "- Número de grupo: 11\n",
    "- Nombre de los integrantes del grupo: Mario Alcolea Alcolea, Javier Gómez Moraleda"
   ]
  },
  {
   "cell_type": "markdown",
   "metadata": {},
   "source": [
    "# Práctica 1\n",
    "\n",
    "> __Fecha de entrega: 11 de abril de 2021__\n",
    "\n",
    "\n",
    "## Parte 2: similitud semántica\n",
    "\n",
    "Una de las grandes ventajas de las representaciones estructuradas es que podemos aprovechar su estructura para calcular similitudes semánticas entre las entidades. En esta ocasión vamos a cacular la similitud entre dos conceptos como:\n",
    "\n",
    "$$Sim(A, B) = \\frac{\\delta(root, C)}{\\delta(root, C) + \\delta(C, A) + \\delta(C, B)}$$\n",
    "\n",
    "siendo:\n",
    "\n",
    "- $\\delta(X, Y)$ el __mínimo__ número de aristas que conecta A y B, siendo A más general que B.\n",
    "- $C = LCS(A, B)$ el concepto más específico de la jerarquía que es más general que A y B (_least common subsummer_).\n",
    "\n",
    "La idea tras esta similitud queda reflejada en la siguiente imagen:\n",
    "\n",
    "<img src=\"sim.png\" alt=\"Similitud\" style=\"width: 300px;\"/>\n",
    "\n",
    "En la práctica pueden existir distintos conceptos C que cumplen la definición de _least common subsummer_ de A y B por lo que es necesario definir cuál de ellos vamos a utilizar. En nuestro caso seleccionaremos __uno de los que maximiza el valor de similitud__. "
   ]
  },
  {
   "cell_type": "markdown",
   "metadata": {},
   "source": [
    "### 1) Obtener la taxonomía con la que vamos a trabajar\n",
    "\n",
    "Utiliza el [punto el acceso](https://query.wikidata.org/) SPARQL de Wikidata para ejecutar una consulta que devuelva todos los pares de entidades $(x, y)$ tal que $x$ es subconcepto directo de $y$ y ambos son un tipos de [instrumentos musicales (Q34379)](https://www.wikidata.org/wiki/Q34379). Debes recuperar tantos las URIs de la entidades como sus etiquetas.\n",
    "\n",
    "Escribe en la siguiente celda la consulta que has utilizado comentada adecuadamente."
   ]
  },
  {
   "cell_type": "raw",
   "metadata": {},
   "source": [
    "SELECT ?x ?xLabel ?y ?yLabel\n",
    "WHERE \n",
    "{\n",
    "  ?x wdt:P279* wd:Q34379. # Instancias que son subclase de instrumento musical\n",
    "  ?x wdt:P279 ?y. # Instancias que son subclases directas de otras\n",
    "  SERVICE wikibase:label { bd:serviceParam wikibase:language \"[AUTO_LANGUAGE],en\". }\n",
    "}"
   ]
  },
  {
   "cell_type": "markdown",
   "metadata": {},
   "source": [
    "__Fecha de la consulta: 08/04/2021__ "
   ]
  },
  {
   "cell_type": "markdown",
   "metadata": {},
   "source": [
    "A continuación descarga todas las respuestas en formato _Archivo JSON_ y guardalo en el mismo directorio de la práctica.\n",
    "\n",
    "_Nota: en el momento de realizar esta práctica obtuve 4727 resultados pero el número puede variar al ser Wikidata una base de conocimiento dinámica._"
   ]
  },
  {
   "cell_type": "markdown",
   "metadata": {},
   "source": [
    "### 2) Cargar la taxonomía en memoria\n",
    "\n",
    "Vamos a cargar la taxonomía de clases en memoria para poder operar con ella. Representaremos la jerarquía de lcases mediantes las siguientes estructuras:\n",
    "\n",
    "- Un diccionario que asocia a cada identificador su etiqueta (por ejemplo 'Q34379' -> 'musical instrument')\n",
    "- Un diccionario que asocia cada clase con sus subclases directas (por ejemplo 'Q695269' -> {'Q25630013', 'Q3388256', 'Q524526', 'Q846109', 'Q960389'} )\n",
    "- Un diccionario que asocia cada clase con sus superclases directas (por ejemplo 'Q34379' -> {'Q1879241', 'Q54820129'} )\n",
    "\n",
    "Tienes libertad para elegir cómo quieres representar la taxonomía en Python:\n",
    "\n",
    "- Puedes usar una clase. En ese caso tendrás que ir añadiendo métodos a la clase para completar cada uno de los apartados de la práctica. Escribe el código de la clase en una única celda y utiliza los métodos que necesites en cada uno de los apartados.\n",
    "- Puedes usar 3 variables globales para representar la taxonomía. En ese caso deberás escribir las operaciones como funciones en cada uno de los apartados de la práctica.\n",
    "\n",
    "En cualquier caso recuerda documentar adecuadamente el código y trata de que sea sencillo de entender.\n",
    "\n",
    "Crea una operación _load_ que reciba el nombre del fichero json y cargue el grafo en memoria usando las estructuras anteriores.\n",
    "\n",
    "```python\n",
    "import json\n",
    "\n",
    "with open(filename) as f:\n",
    "    data = json.load(f)\n",
    "```"
   ]
  },
  {
   "cell_type": "code",
   "execution_count": 168,
   "metadata": {},
   "outputs": [],
   "source": [
    "# Diccionario cuya clave es el identificador y su valor es el nombre\n",
    "diccionario = {}\n",
    "# Diccionario cuya clave es el identificador de una clase y su valor es una lista de identificadores de subclases\n",
    "diccionario_sub = {}\n",
    "# Diccionario cuya clave es el identificador de una clase y su valor es una lista de identificadores de superclases\n",
    "diccionario_super = {}"
   ]
  },
  {
   "cell_type": "code",
   "execution_count": 169,
   "metadata": {
    "scrolled": false
   },
   "outputs": [],
   "source": [
    "import json\n",
    "\n",
    "def load(filename):\n",
    "\n",
    "    # Vaciamos los diccionarios (para evitar que contengan datos de cargas anteriores)\n",
    "    diccionario.clear()\n",
    "    diccionario_sub.clear()\n",
    "    diccionario_super.clear()\n",
    "    \n",
    "    with open(filename, encoding=\"utf8\") as f:\n",
    "        data = json.load(f)\n",
    "\n",
    "    for i in data:\n",
    "\n",
    "        # Guardo los identificadores x e y\n",
    "        x_str = i['x'].replace(\"http://www.wikidata.org/entity/\", \"\")\n",
    "        y_str = i['y'].replace(\"http://www.wikidata.org/entity/\", \"\")\n",
    "\n",
    "        # Guardo en diccionario con identificadores-nombres\n",
    "        diccionario[x_str] = i['xLabel']        \n",
    "        diccionario[y_str] = i['yLabel']\n",
    "\n",
    "        # Guardo en diccionario de subclases\n",
    "        if y_str in diccionario_sub:\n",
    "            diccionario_sub[y_str].append(x_str)\n",
    "        # Si no existe la clave\n",
    "        else:\n",
    "            diccionario_sub[y_str] = [x_str]\n",
    "\n",
    "        # Guardo en diccionario de superclases\n",
    "        if x_str in diccionario_super:\n",
    "            diccionario_super[x_str].append(y_str)\n",
    "        # Si no existe la clave\n",
    "        else:\n",
    "            diccionario_super[x_str] = [y_str]\n"
   ]
  },
  {
   "cell_type": "code",
   "execution_count": 170,
   "metadata": {},
   "outputs": [],
   "source": [
    "# Cargamos el fichero de entrada\n",
    "load(\"entrada.json\")"
   ]
  },
  {
   "cell_type": "markdown",
   "metadata": {},
   "source": [
    "### 3) Imprimir un subárbol de la taxonomía\n",
    "\n",
    "Crea una operación _print_tree_ que imprimir la jerarquía de clases a partir de un concepto y hasta un nivel de profundidad determinado.\n",
    "\n",
    "Por ejemplo, a continuación podemos ver el principio de la jerarquía de [voces](https://www.wikidata.org/wiki/Q17172850) con 3 niveles de profundidad:\n",
    "\n",
    "```\n",
    "0 voz (Q17172850)\n",
    "  1 operatic vocal (Q101436564)\n",
    "  1 alto (Q6983813)\n",
    "   2 mezzosoprano ligera (Q6012300)\n",
    "   2 boy alto (Q53395277)\n",
    "   2 alto castrato (Q53395016)\n",
    "   2 contralto (Q37137)\n",
    "  1 contralto (Q37137)\n",
    "   2 contralto cómica (Q5785182)\n",
    "   2 lyric contralto (Q54635214)\n",
    "   2 Tenorino (Q6141663)\n",
    "   2 contralto de coloratura (Q54635184)\n",
    "   2 deep contralto (Q54635335)\n",
    "   2 contralto dramática (Q5785183)\n",
    "  1 bajo (Q27911)\n",
    "   2 heavy acting bass (Q54636271)\n",
    "   2 bajo profundo (Q2532487)\n",
    "   2 bajo buffo (Q1002146)\n",
    "   ...\n",
    "```\n",
    "\n",
    "Como ocurre en todas las grandes bases de conocimiento, dentro de Wikidata hay información que no ha sido bien introducida o está mal clasificada. ¿Puedes encontrar algún ejemplo concreto dentro de la jerarquía de instrumentos?"
   ]
  },
  {
   "cell_type": "code",
   "execution_count": 171,
   "metadata": {},
   "outputs": [],
   "source": [
    "# Imprime un subárbol de la taxonomía dado un concepto y el nivel máximo de profundidad que nos interesa.\n",
    "# Los valores level y space siven para llevar el valor actual y la separación lateral (estético) respectivamente.\n",
    "def print_tree(concept, max_level, level = 0, space = \"\"):\n",
    "    \n",
    "    # Imprimo el espacio, su nivel y el nombre del concepto junto a su identificador entre paréntesis\n",
    "    print(space + str(level) + \" \" + diccionario[concept] + \" (\" + concept + \")\")\n",
    "    \n",
    "    # Si ese concepto tiene subclases y no me he pasado del nivel desdeado\n",
    "    if concept in diccionario_sub and level < max_level:\n",
    "        \n",
    "        # Para cada subclase, imprimo sus subconceptos de forma recursiva\n",
    "        for i in diccionario_sub[concept]:\n",
    "            print_tree(i, max_level, level + 1, space + \" \")\n",
    "            "
   ]
  },
  {
   "cell_type": "code",
   "execution_count": 5,
   "metadata": {
    "scrolled": true
   },
   "outputs": [
    {
     "name": "stdout",
     "output_type": "stream",
     "text": [
      "0 voz (Q17172850)\n",
      " 1 bajo (Q27911)\n",
      "  2 bajo-barítono (Q810480)\n",
      "   3 lyric bass-baritone (Q54635842)\n",
      "   3 dramatic bass-baritone (Q54635897)\n",
      "  2 bajo buffo (Q1002146)\n",
      "  2 bajo profundo (Q2532487)\n",
      "  2 bajo cantante (Q3636053)\n",
      "  2 grave (Q5885030)\n",
      "  2 octavist (Q7082656)\n",
      "  2 bajo caractère (Q20638448)\n",
      "  2 high bass (Q54636007)\n",
      "  2 dramatic high bass (Q54636036)\n",
      "  2 serious bass (Q54636068)\n",
      "  2 heavy acting bass (Q54636271)\n",
      "  2 Bass bourdon (Q64363543)\n",
      " 1 barítono (Q31687)\n",
      "  2 bajo-barítono (Q810480)\n",
      "   3 lyric bass-baritone (Q54635842)\n",
      "   3 dramatic bass-baritone (Q54635897)\n",
      "  2 character baritone (Q1062931)\n",
      "  2 heldenbaritone (Q1601737)\n",
      "  2 Barítono buffo (Q5721499)\n",
      "  2 Barítono ligero (Q5721503)\n",
      "  2 grave (Q5885030)\n",
      "  2 Barítono lírico (Q8243255)\n",
      "  2 Barítono dramático (Q8243257)\n",
      "  2 baryton-noble (Q19740895)\n",
      "  2 barítono Martin (Q21478751)\n",
      "  2 Barítono martín (Q25404193)\n",
      "  2 barítono verdiano (Q54635681)\n",
      "  2 acting baritone (Q54635751)\n",
      "  2 Kavalierbariton (Q54635784)\n",
      " 1 contralto (Q37137)\n",
      "  2 contralto cómica (Q5785182)\n",
      "  2 contralto dramática (Q5785183)\n",
      "  2 Tenorino (Q6141663)\n",
      "  2 contralto de coloratura (Q54635184)\n",
      "  2 lyric contralto (Q54635214)\n",
      "  2 deep contralto (Q54635335)\n",
      " 1 mezzosoprano (Q186506)\n",
      "  2 altmezzo (Q682525)\n",
      "  2 Q1300059 (Q1300059)\n",
      "  2 mezzosoprano lírica (Q1878954)\n",
      "  2 sopranista (Q1999862)\n",
      "  2 mezzosoprano dramática (Q6012297)\n",
      "  2 coloratura mezzo-soprano (Q54634572)\n",
      "  2 mezzosoprano ligera (Q54634726)\n",
      "  2 character mezzo-soprano (Q54634862)\n",
      "  2 mezzo-soprano castrato (Q54634945)\n",
      " 1 castrato (Q210970)\n",
      "  2 alto castrato (Q53395016)\n",
      "  2 soprano castrato (Q53830255)\n",
      "  2 mezzo-soprano castrato (Q54634945)\n",
      " 1 contratenor (Q223166)\n",
      "  2 haute-contre (Q1873389)\n",
      " 1 Xöömej (Q1067089)\n",
      " 1 Voz blanca (Q6164901)\n",
      "  2 child soprano (Q53829839)\n",
      "   3 Voz blanca (Q1376492)\n",
      "   3 girl soprano (Q53830131)\n",
      " 1 alto (Q6983813)\n",
      "  2 contralto (Q37137)\n",
      "   3 contralto cómica (Q5785182)\n",
      "   3 contralto dramática (Q5785183)\n",
      "   3 Tenorino (Q6141663)\n",
      "   3 contralto de coloratura (Q54635184)\n",
      "   3 lyric contralto (Q54635214)\n",
      "   3 deep contralto (Q54635335)\n",
      "  2 mezzosoprano ligera (Q6012300)\n",
      "  2 alto castrato (Q53395016)\n",
      "  2 boy alto (Q53395277)\n",
      " 1 Treble voice (Q25303818)\n",
      " 1 male singing voice (Q54285279)\n",
      " 1 female singing voice (Q54285818)\n",
      " 1 backing vocal (Q60396389)\n",
      " 1 high voice (Q98116969)\n",
      "  2 tenor (Q27914)\n",
      "   3 Tenor buffo (Q359278)\n",
      "   3 tenor lírico (Q359282)\n",
      "   3 character tenor (Q1062991)\n",
      "   3 tenor lírico ligero (Q1471878)\n",
      "   3 Heldentenor (Q1601762)\n",
      "   3 Q1711349 (Q1711349)\n",
      "   3 haute-contre (Q1873389)\n",
      "   3 tenor radiofónico (Q2176240)\n",
      "   3 Baritenor (Q2338646)\n",
      "   3 spinto (Q3312506)\n",
      "   3 Tenore contraltino (Q3983766)\n",
      "   3 tenor lírico (Q5492408)\n",
      "   3 grave (Q5885030)\n",
      "   3 tenor dramático (Q6141658)\n",
      "   3 tenor lírico spinto (Q6141661)\n",
      "   3 Tenorino (Q6141663)\n",
      "   3 Tenorillo (Q21002493)\n",
      "   3 coloratura tenor (Q54635368)\n",
      "   3 contratenor ligero (Q54635391)\n",
      "   3 spinto tenor (Q54635582)\n",
      "   3 tenor Trial (Q54635669)\n",
      "   3 tenor altino (Q64698592)\n",
      "  2 soprano (Q30903)\n",
      "   3 soprano de coloratura (Q58192)\n",
      "   3 soprano soubrette (Q836983)\n",
      "   3 soprano lírica (Q1401208)\n",
      "   3 sopranista (Q1999862)\n",
      "   3 soprano dramática (Q2164335)\n",
      "   3 Soprano lírico spinto (Q2327598)\n",
      "   3 spinto (Q3312506)\n",
      "   3 soprano ligera (Q3822738)\n",
      "   3 Soprano falcon (Q3964985)\n",
      "   3 Wagnerian soprano (Q3964989)\n",
      "   3 mezzosoprano (Q3964990)\n",
      "   3 Soprano sfogato (Q3964991)\n",
      "   3 Soprano lírico dramática (Q5681011)\n",
      "   3 character soprano (Q53828789)\n",
      "   3 falsettista sopranista (Q53829462)\n",
      "   3 child soprano (Q53829839)\n",
      "   3 soprano castrato (Q53830255)\n",
      "   3 soprano operista (Q54556150)\n",
      "  2 child soprano (Q53829839)\n",
      "   3 Voz blanca (Q1376492)\n",
      "   3 girl soprano (Q53830131)\n",
      " 1 operatic vocal (Q101436564)\n"
     ]
    }
   ],
   "source": [
    "# Ejemplo jerarquía de voces con 3 niveles de profundidad\n",
    "print_tree('Q17172850', 3)"
   ]
  },
  {
   "cell_type": "markdown",
   "metadata": {},
   "source": [
    "En las bases de conocimiento hay datos erróneos. Hemos encontrado bastantes ejemplos de conceptos que no tienen definida ninguna etiqueta, es decir, no significan realmente nada. Un ejemplo escogido al azar echando un vistazo rápido sobre el diccionario principal que asocia claves con etiquetas sería 'Q13636556'."
   ]
  },
  {
   "cell_type": "code",
   "execution_count": 6,
   "metadata": {},
   "outputs": [
    {
     "data": {
      "text/plain": [
       "'Q13636556'"
      ]
     },
     "execution_count": 6,
     "metadata": {},
     "output_type": "execute_result"
    }
   ],
   "source": [
    "# Devuelve la etiqueta de la clave 'Q13636556', que como vemos es la propia clave\n",
    "diccionario['Q13636556']"
   ]
  },
  {
   "cell_type": "markdown",
   "metadata": {},
   "source": [
    "### 4) Obtener los LCS\n",
    "\n",
    "Crea una operación _lcs_ que devuelva todos los LCS de dos conceptos determinados. Recuerda que un concepto C es LCS(A, B) si es más general que ambos y no se puede especializar más sin dejar de serlo.\n",
    "\n",
    "Para implementarlo seguramente te resulte útil tener otro método que devuelva todos los conceptos más generales que uno dado. _Pista: es fácil de implementar usando operaciones entre conjuntos_. \n",
    "\n",
    "Ejemplos:\n",
    "\n",
    "```\n",
    "mezzosoprano dramática (Q6012297), mezzosoprano ligera (Q54634726), mezzosoprano (Q186506)\n",
    "LCS('Q6012297', 'Q54634726') = {'Q186506'}\n",
    "\n",
    "grave (Q5885030), mezzosoprano ligera (Q6012300), voz (Q17172850)\n",
    "LCS('Q5885030', 'Q6012300') = {'Q17172850'}\n",
    "\n",
    "tenor (Q27914)\n",
    "LCS('Q27914', 'Q27914') = {'Q27914'}\n",
    "\n",
    "viola eléctrica (Q15336282), bajo eléctrico (Q64166304), instrumento de cuerda (Q1798603), electrófono (Q105738), necked box lutes (Q55724840)\n",
    "LCS('Q15336282', 'Q64166304') = {'Q55724840', 'Q105738', 'Q1798603}\n",
    "```"
   ]
  },
  {
   "cell_type": "code",
   "execution_count": 172,
   "metadata": {},
   "outputs": [],
   "source": [
    "# Devuelve todos los LCS de dos conceptos dados\n",
    "def LCS(concept1, concept2):\n",
    "    \n",
    "    # Llamada a las funciones que devuelven todos los conceptos más generales de cada uno\n",
    "    gen_set1 = general_concepts(concept1, [])\n",
    "    gen_set2 = general_concepts(concept2, [])\n",
    "    \n",
    "    # Intersección entre ambos conjuntos\n",
    "    result_set = gen_set1 & gen_set2\n",
    "    \n",
    "    # A partir de aquí, necesito eliminar conceptos más generales de otros conceptos que están en la lista.\n",
    "    # Es decir, en la lista tengo todos los conceptos comunes, pero si un elemento A de la lista tiene como concepto\n",
    "    # más general a B, ambos serán conceptos generales de concept1 y concept2 pero sólo me interesa el más específico\n",
    "    deleted_list = []\n",
    "    \n",
    "    # Hago un recorrido para hacer estas eliminaciones\n",
    "    for i in list(result_set):\n",
    "        for j in list(result_set):\n",
    "            \n",
    "            # Si no es el mismo y j es concepto general de i, lo añado a la lista\n",
    "            if i != j and j in general_concepts(i, []):\n",
    "                deleted_list.append(j)\n",
    "\n",
    "    # Devuelvo la diferencia de los conjuntos\n",
    "    return result_set - set(deleted_list)\n",
    "\n",
    "# Función auxiliar que dado un concepto, devuelve una lista de los más generales\n",
    "def general_concepts(concept, gen_list):\n",
    "    \n",
    "    # Añado el propio concepto\n",
    "    gen_list.append(concept)\n",
    "    \n",
    "    # Si tiene algun concepto más general por encima\n",
    "    if concept in diccionario_super:\n",
    "        \n",
    "        # Recorro las superclases y calculo sus conceptos generales\n",
    "        for i in diccionario_super[concept]:\n",
    "            \n",
    "            # Si ya estaban en la lista, significa que ya los he recorrido\n",
    "            if i not in gen_list:\n",
    "                \n",
    "                #Lo añado y calculo sus conceptos generales\n",
    "                gen_list.append(i)\n",
    "                general_concepts(i, gen_list)\n",
    "\n",
    "    # Devuelvo los conceptos como un conjunto\n",
    "    return set(gen_list)"
   ]
  },
  {
   "cell_type": "code",
   "execution_count": 173,
   "metadata": {},
   "outputs": [
    {
     "data": {
      "text/plain": [
       "{'Q186506'}"
      ]
     },
     "execution_count": 173,
     "metadata": {},
     "output_type": "execute_result"
    }
   ],
   "source": [
    "# mezzosoprano dramática (Q6012297), mezzosoprano ligera (Q54634726), mezzosoprano (Q186506)\n",
    "# LCS('Q6012297', 'Q54634726') = {'Q186506'}\n",
    "LCS('Q6012297', 'Q54634726')"
   ]
  },
  {
   "cell_type": "code",
   "execution_count": 174,
   "metadata": {},
   "outputs": [
    {
     "data": {
      "text/plain": [
       "{'Q17172850'}"
      ]
     },
     "execution_count": 174,
     "metadata": {},
     "output_type": "execute_result"
    }
   ],
   "source": [
    "# grave (Q5885030), mezzosoprano ligera (Q6012300), voz (Q17172850)\n",
    "# LCS('Q5885030', 'Q6012300') = {'Q17172850'}\n",
    "LCS('Q5885030', 'Q6012300')"
   ]
  },
  {
   "cell_type": "code",
   "execution_count": 175,
   "metadata": {
    "scrolled": true
   },
   "outputs": [
    {
     "data": {
      "text/plain": [
       "{'Q27914'}"
      ]
     },
     "execution_count": 175,
     "metadata": {},
     "output_type": "execute_result"
    }
   ],
   "source": [
    "# tenor (Q27914)\n",
    "# LCS('Q27914', 'Q27914') = {'Q27914'}\n",
    "LCS('Q27914', 'Q27914')"
   ]
  },
  {
   "cell_type": "code",
   "execution_count": 176,
   "metadata": {},
   "outputs": [
    {
     "data": {
      "text/plain": [
       "{'Q105738', 'Q1798603', 'Q55724840'}"
      ]
     },
     "execution_count": 176,
     "metadata": {},
     "output_type": "execute_result"
    }
   ],
   "source": [
    "# viola eléctrica (Q15336282), bajo eléctrico (Q64166304), instrumento de cuerda (Q1798603), electrófono (Q105738), necked box lutes (Q55724840)\n",
    "#LCS('Q15336282', 'Q64166304') = {'Q55724840', 'Q105738', 'Q1798603}\n",
    "LCS('Q15336282', 'Q64166304')"
   ]
  },
  {
   "cell_type": "markdown",
   "metadata": {},
   "source": [
    "### 5) Obtener caminos mínimos\n",
    "\n",
    "Crea una operación _path_ que calcule el camino mínimo entre dos conceptos A y B siendo A más o igual de general que B. Como la taxonomía no tiene ciclos puedes implementarlo como una búsqueda en profunidad. Ten en cuenta que los caminos sólo pueden contener conceptos más específicos o iguales a A y más generales o iguales a B.\n",
    "\n",
    "Ejemplos:\n",
    "\n",
    "```\n",
    "path('Q186506', 'Q54634726') = [mezzosoprano (Q186506), mezzosoprano ligera (Q54634726)]\n",
    "\n",
    "path('Q17172850', 'Q6012300') = [voz (Q17172850), alto (Q6983813), mezzosoprano ligera (Q6012300)]\n",
    "\n",
    "path('Q27914', 'Q27914') = [tenor (Q27914)]\n",
    "\n",
    "path('Q34379', 'Q105738') = [instrumento musical (Q34379), cordófono (Q1051772), composite chordophones (Q19588495), lutes (Q1808578), handle lutes (Q30038759), necked lutes (Q55724833), necked box lutes (Q55724840)]\n",
    " ```"
   ]
  },
  {
   "cell_type": "code",
   "execution_count": 177,
   "metadata": {},
   "outputs": [],
   "source": [
    "# Calcula el camino mínimo entre 2 conceptos A y B siendo A más o igual de general que B\n",
    "def path(concept1, concept2):\n",
    "    \n",
    "    # Lista donde almacenaré la ruta mejor\n",
    "    ruta_mejor = []\n",
    "    \n",
    "    # Lista donde almacenaré la ruta que estoy explorando\n",
    "    ruta_actual = []\n",
    "    \n",
    "    # Añado el primer concepto a ambas listas\n",
    "    ruta_mejor.append(concept1)\n",
    "    ruta_actual.append(concept1)\n",
    "    \n",
    "    # Si los dos conceptos son el mismo, no tengo que hacer nada.\n",
    "    if concept1 != concept2:\n",
    "        \n",
    "        # Si el concepto 2 es subconcepto directo del 1, con añadirlo a la ruta mejor ya tengo el camino mínimo\n",
    "        if concept2 in diccionario_sub[concept1]:\n",
    "            ruta_mejor.append(concept2)\n",
    "        \n",
    "        # En otro caso, hay uno o más conceptos intermedios\n",
    "        else:\n",
    "            \n",
    "            # Investigo los subconceptos del concepto 1, que al ser distinto del 2, como mínimo tiene un subconcepto\n",
    "            for i in diccionario_sub[concept1]:\n",
    "                \n",
    "                # Añado el subconcepto a la ruta actual\n",
    "                ruta_actual.append(i)\n",
    "                \n",
    "                # Hago una llamada al recorrido en profundidad de ese  concepto\n",
    "                ruta_mejor = DFS(i, concept2, ruta_mejor, ruta_actual)\n",
    "                \n",
    "                # Lo elimino de la ruta actual para investigar el siguiente subconcepto\n",
    "                ruta_actual.remove(i)\n",
    "\n",
    "    # Lista para imprimir los nombres ligados a las claves de los conceptos obtenidos en la ruta\n",
    "    ruta_string = []\n",
    "    for i in ruta_mejor:\n",
    "        ruta_string.append(diccionario[i] + \" (\" + i + \")\")\n",
    "    \n",
    "    # Devuelvo la mejor ruta \n",
    "    return ruta_string\n",
    "\n",
    "# Función auxiliar que realiza un recorrido en profundidad sobre un concepto concept, hasta llegar a concept2\n",
    "def DFS(concept, concept2, ruta_mejor, ruta_actual):\n",
    "    \n",
    "    # Si el concepto tiene subconceptos (no es hoja)\n",
    "    if concept in diccionario_sub:\n",
    "        \n",
    "        # Para cada subconcepto del concepto\n",
    "        for i in diccionario_sub[concept]:\n",
    "            \n",
    "            # Lo añado a la ruta actual\n",
    "            ruta_actual.append(i)\n",
    "\n",
    "            # Si ese subconcepto coincide con concept2, estoy en una ruta solucion\n",
    "            if(i == concept2):\n",
    "                \n",
    "                # Siempre y cuando la solucion sea más corta que la que tenía guardada o bien la solución mejor no era \n",
    "                # una solución valida (porque no había llegado a ella), actualizo la mejor solución\n",
    "                if (len(ruta_mejor) > len(ruta_actual) or concept2 not in ruta_mejor):\n",
    "                    ruta_mejor = ruta_actual.copy()\n",
    "                    \n",
    "            # En otro caso, lanzo un DFS sobre el subconcepto\n",
    "            else:\n",
    "                ruta_mejor = DFS(i, concept2, ruta_mejor, ruta_actual)\n",
    "\n",
    "            # Elimino el subconcepto para explorar los demás\n",
    "            ruta_actual.remove(i)\n",
    "\n",
    "    # Devuelvo la mejor ruta\n",
    "    return ruta_mejor\n",
    "    "
   ]
  },
  {
   "cell_type": "code",
   "execution_count": 178,
   "metadata": {},
   "outputs": [
    {
     "data": {
      "text/plain": [
       "['mezzosoprano (Q186506)', 'mezzosoprano ligera (Q54634726)']"
      ]
     },
     "execution_count": 178,
     "metadata": {},
     "output_type": "execute_result"
    }
   ],
   "source": [
    "# path('Q186506', 'Q54634726') = [mezzosoprano (Q186506), mezzosoprano ligera (Q54634726)]\n",
    "path('Q186506', 'Q54634726')"
   ]
  },
  {
   "cell_type": "code",
   "execution_count": 179,
   "metadata": {
    "scrolled": true
   },
   "outputs": [
    {
     "data": {
      "text/plain": [
       "['voz (Q17172850)', 'alto (Q6983813)', 'mezzosoprano ligera (Q6012300)']"
      ]
     },
     "execution_count": 179,
     "metadata": {},
     "output_type": "execute_result"
    }
   ],
   "source": [
    "# path('Q17172850', 'Q6012300') = [voz (Q17172850), alto (Q6983813), mezzosoprano ligera (Q6012300)]\n",
    "path('Q17172850', 'Q6012300')"
   ]
  },
  {
   "cell_type": "code",
   "execution_count": 180,
   "metadata": {},
   "outputs": [
    {
     "data": {
      "text/plain": [
       "['tenor (Q27914)']"
      ]
     },
     "execution_count": 180,
     "metadata": {},
     "output_type": "execute_result"
    }
   ],
   "source": [
    "# path('Q27914', 'Q27914') = [tenor (Q27914)]\n",
    "path('Q27914', 'Q27914')"
   ]
  },
  {
   "cell_type": "code",
   "execution_count": 181,
   "metadata": {
    "scrolled": true
   },
   "outputs": [
    {
     "data": {
      "text/plain": [
       "['instrumento musical (Q34379)',\n",
       " 'cordófono (Q1051772)',\n",
       " 'composite chordophones (Q19588495)',\n",
       " 'lutes (Q1808578)',\n",
       " 'handle lutes (Q30038759)',\n",
       " 'necked lutes (Q55724833)',\n",
       " 'necked box lutes (Q55724840)']"
      ]
     },
     "execution_count": 181,
     "metadata": {},
     "output_type": "execute_result"
    }
   ],
   "source": [
    "# path('Q34379', 'Q55724840') = [instrumento musical (Q34379), cordófono (Q1051772), composite chordophones (Q19588495), \n",
    "# lutes (Q1808578), handle lutes (Q30038759), necked lutes (Q55724833), necked box lutes (Q55724840)]\n",
    "path('Q34379', 'Q55724840')"
   ]
  },
  {
   "cell_type": "markdown",
   "metadata": {},
   "source": [
    "### 6) Calcular la similitud\n",
    "\n",
    "Implementa una operación _similarity_ que calcule la similtud entre dos conceptos. Debe devolver tanto el valor númerico de similitud como los caminos desde la raiz al LCS y desde el LCS a cada uno de los dos conceptos.\n",
    "\n",
    "Ten en cuenta que debes usar un LCS que maximice el valor de similitud. Si la información de Wikidata no ha cambiado, los valores de similitud deberían coincidir con los que aparecen en los ejemplos pero los caminos no tienen por qué. Y recuerda que no es lo mismo el números de aristas de un camino que el número de nodos del camino.\n",
    "\n",
    "Ejemplos:\n",
    "\n",
    "```\n",
    "similarity('Q6012297', 'Q54634726')\n",
    "0.5\n",
    "[instrumento musical (Q34379), voz (Q17172850), mezzosoprano (Q186506)]\n",
    "[mezzosoprano (Q186506), mezzosoprano dramática (Q6012297)]\n",
    "[mezzosoprano (Q186506), mezzosoprano ligera (Q54634726)]\n",
    "\n",
    "similarity('Q186506', 'Q54634726')\n",
    "0.6666666666666666\n",
    "[instrumento musical (Q34379), voz (Q17172850), mezzosoprano (Q186506)]\n",
    "[mezzosoprano (Q186506)]\n",
    "[mezzosoprano (Q186506), mezzosoprano ligera (Q54634726)]\n",
    "\n",
    "similarity('Q27914', 'Q27914')\n",
    "1.0\n",
    "[instrumento musical (Q34379), voz (Q17172850), high voice (Q98116969), tenor (Q27914)]\n",
    "[tenor (Q27914)]\n",
    "[tenor (Q27914)]\n",
    "\n",
    "similarity('Q76239', 'Q78987')\n",
    "0.42857142857142855\n",
    "[instrumento musical (Q34379), cordófono (Q1051772), instrumento de cuerda (Q1798603), instrumento de cuerda pulsada (Q230262)]\n",
    "[instrumento de cuerda pulsada (Q230262), cítara (Q76239)]\n",
    "[instrumento de cuerda pulsada (Q230262), plucked necked box lutes (Q57306162), guitarra (Q6607), guitarra eléctrica (Q78987)]\n",
    "```"
   ]
  },
  {
   "cell_type": "code",
   "execution_count": 182,
   "metadata": {},
   "outputs": [],
   "source": [
    "def similarity(concept1, concept2):\n",
    "    \n",
    "    #Calculamos el LCS que maximiza la similitud\n",
    "    C_Aux = LCS(concept1, concept2)\n",
    "    for i in C_Aux:\n",
    "        C_Aux2 = i\n",
    "        if i in diccionario_super:\n",
    "             C = i\n",
    "        else:\n",
    "            C = C_Aux2\n",
    "                \n",
    "    #Obtenemos el nodo raiz\n",
    "    for i in diccionario:\n",
    "        if i not in diccionario_super:\n",
    "            nodo_raiz = i\n",
    "    \n",
    "    caminoRaiz = 0    \n",
    "    caminoConcept1 = 0\n",
    "    caminoConcept2 = 0\n",
    "        \n",
    "    #camino desde la raíz al LCS de concept1 y concept2\n",
    "    caminoMinimoRaiz = path(nodo_raiz, C)\n",
    "    #número de aristas en el camino mínimo\n",
    "    for i in caminoMinimoRaiz:\n",
    "        caminoRaiz = caminoRaiz + 1\n",
    "    caminoRaiz = caminoRaiz - 1    \n",
    "        \n",
    "    #camino desde el LCS a concept1\n",
    "    caminoMinimoConcept1 = path(C, concept1)\n",
    "    #número de aristas en el camino mínimo\n",
    "    for i in caminoMinimoConcept1:\n",
    "        caminoConcept1 = caminoConcept1 + 1\n",
    "    caminoConcept1 = caminoConcept1 - 1    \n",
    "        \n",
    "    #camino desde el LCS a concept2\n",
    "    caminoMinimoConcept2 = path(C, concept2)\n",
    "    #número de aristas en el camino mínimo\n",
    "    for i in caminoMinimoConcept2:\n",
    "        caminoConcept2 = caminoConcept2 + 1\n",
    "    caminoConcept2 = caminoConcept2 - 1    \n",
    "    \n",
    "    #calculamos la similitud con la fórmula\n",
    "    similitud = caminoRaiz / (caminoRaiz + caminoConcept1 + caminoConcept2)\n",
    "    \n",
    "    #mostramos por pantalla los resultados\n",
    "    print(similitud)\n",
    "    print(caminoMinimoRaiz)\n",
    "    print(caminoMinimoConcept1)\n",
    "    print(caminoMinimoConcept2)\n",
    "    "
   ]
  },
  {
   "cell_type": "code",
   "execution_count": 183,
   "metadata": {},
   "outputs": [
    {
     "name": "stdout",
     "output_type": "stream",
     "text": [
      "0.5\n",
      "['instrumento musical (Q34379)', 'voz (Q17172850)', 'mezzosoprano (Q186506)']\n",
      "['mezzosoprano (Q186506)', 'mezzosoprano dramática (Q6012297)']\n",
      "['mezzosoprano (Q186506)', 'mezzosoprano ligera (Q54634726)']\n"
     ]
    }
   ],
   "source": [
    "#0.5\n",
    "#[instrumento musical (Q34379), voz (Q17172850), mezzosoprano (Q186506)]\n",
    "#[mezzosoprano (Q186506), mezzosoprano dramática (Q6012297)]\n",
    "#[mezzosoprano (Q186506), mezzosoprano ligera (Q54634726)]\n",
    "similarity('Q6012297', 'Q54634726')"
   ]
  },
  {
   "cell_type": "code",
   "execution_count": 184,
   "metadata": {},
   "outputs": [
    {
     "name": "stdout",
     "output_type": "stream",
     "text": [
      "0.6666666666666666\n",
      "['instrumento musical (Q34379)', 'voz (Q17172850)', 'mezzosoprano (Q186506)']\n",
      "['mezzosoprano (Q186506)']\n",
      "['mezzosoprano (Q186506)', 'mezzosoprano ligera (Q54634726)']\n"
     ]
    }
   ],
   "source": [
    "#0.6666666666666666\n",
    "#['instrumento musical (Q34379)', 'voz (Q17172850)', 'mezzosoprano (Q186506)']\n",
    "#['mezzosoprano (Q186506)']\n",
    "#['mezzosoprano (Q186506)', 'mezzosoprano ligera (Q54634726)']\n",
    "similarity('Q186506', 'Q54634726')"
   ]
  },
  {
   "cell_type": "code",
   "execution_count": 185,
   "metadata": {},
   "outputs": [
    {
     "name": "stdout",
     "output_type": "stream",
     "text": [
      "1.0\n",
      "['instrumento musical (Q34379)', 'voz (Q17172850)', 'high voice (Q98116969)', 'tenor (Q27914)']\n",
      "['tenor (Q27914)']\n",
      "['tenor (Q27914)']\n"
     ]
    }
   ],
   "source": [
    "#1.0\n",
    "#['instrumento musical (Q34379)', 'voz (Q17172850)', 'high voice (Q98116969)', 'tenor (Q27914)']\n",
    "#['tenor (Q27914)']\n",
    "#['tenor (Q27914)']\n",
    "similarity('Q27914', 'Q27914')"
   ]
  },
  {
   "cell_type": "code",
   "execution_count": 186,
   "metadata": {},
   "outputs": [
    {
     "name": "stdout",
     "output_type": "stream",
     "text": [
      "0.42857142857142855\n",
      "['instrumento musical (Q34379)', 'cordófono (Q1051772)', 'instrumento de cuerda (Q1798603)', 'instrumento de cuerda pulsada (Q230262)']\n",
      "['instrumento de cuerda pulsada (Q230262)', 'cítara (Q76239)']\n",
      "['instrumento de cuerda pulsada (Q230262)', 'plucked necked box lutes (Q57306162)', 'guitarra (Q6607)', 'guitarra eléctrica (Q78987)']\n"
     ]
    }
   ],
   "source": [
    "#0.42857142857142855\n",
    "#['instrumento musical (Q34379)', 'cordófono (Q1051772)', 'instrumento de cuerda (Q1798603)', 'instrumento de cuerda pulsada (Q230262)']\n",
    "#['instrumento de cuerda pulsada (Q230262)', 'cítara (Q76239)']\n",
    "#['instrumento de cuerda pulsada (Q230262)', 'plucked necked box lutes (Q57306162)', 'guitarra (Q6607)', 'guitarra eléctrica (Q78987)']\n",
    "similarity('Q76239', 'Q78987')"
   ]
  },
  {
   "cell_type": "markdown",
   "metadata": {},
   "source": [
    "### 7) Análisis de las similitudes\n",
    "\n",
    "Calcula la similitud 2 a 2 de los siguientes instrumentos y explica razonadamente si los valores obtenidos tienen sentido de acuerdo a tu intuición sobre si se parecen o no.\n",
    "\n",
    "```\n",
    "piano (Q5994), guitarra (Q6607), guitarra eléctrica (Q78987), flauta (Q11405), trompeta (Q8338)\n",
    "```"
   ]
  },
  {
   "cell_type": "code",
   "execution_count": 187,
   "metadata": {},
   "outputs": [
    {
     "name": "stdout",
     "output_type": "stream",
     "text": [
      "0.2727272727272727\n",
      "['instrumento musical (Q34379)', 'cordófono (Q1051772)', 'instrumento de cuerda (Q1798603)', 'instrumento de cuerda pulsada (Q230262)']\n",
      "['instrumento de cuerda pulsada (Q230262)', 'cítara (Q76239)', 'board zithers (Q50829016)', 'true board zithers (Q55724736)', 'true board zithers with resonator (Q55724742)', 'true board zithers with resonator box (Q4951628)', 'piano (Q5994)']\n",
      "['instrumento de cuerda pulsada (Q230262)', 'plucked necked box lutes (Q57306162)', 'guitarra (Q6607)']\n"
     ]
    }
   ],
   "source": [
    "#piano y guitarra\n",
    "similarity('Q5994','Q6607')\n",
    "\n",
    "# La similitud resultante entre el piano y la guitarra es comprensible ya que a pesar de ser ambos instrumentos\n",
    "# de cuerda pulsada, el piano tiene muchas más superclases que la guitarra, por lo que eso disminuye la similitud."
   ]
  },
  {
   "cell_type": "code",
   "execution_count": 188,
   "metadata": {},
   "outputs": [
    {
     "name": "stdout",
     "output_type": "stream",
     "text": [
      "0.8333333333333334\n",
      "['instrumento musical (Q34379)', 'cordófono (Q1051772)', 'instrumento de cuerda (Q1798603)', 'instrumento de cuerda pulsada (Q230262)', 'plucked necked box lutes (Q57306162)', 'guitarra (Q6607)']\n",
      "['guitarra (Q6607)']\n",
      "['guitarra (Q6607)', 'guitarra eléctrica (Q78987)']\n"
     ]
    }
   ],
   "source": [
    "#guitarra y guitarra eléctrica\n",
    "similarity('Q6607','Q78987')\n",
    "\n",
    "# Que la similitud haya dado 0.83 tiene sentido, ya que la guitarra eléctrica es una subclase directa de guitarra "
   ]
  },
  {
   "cell_type": "code",
   "execution_count": 189,
   "metadata": {},
   "outputs": [
    {
     "name": "stdout",
     "output_type": "stream",
     "text": [
      "0.4\n",
      "['instrumento musical (Q34379)', 'aerófono (Q659216)', 'instrumento de viento (Q173453)']\n",
      "['instrumento de viento (Q173453)', 'flauta (Q11405)']\n",
      "['instrumento de viento (Q173453)', 'instrumento de viento-metal (Q180744)', 'trompeta (Q8338)']\n"
     ]
    }
   ],
   "source": [
    "#flauta y trompeta\n",
    "similarity('Q11405','Q8338')\n",
    "\n",
    "# Siendo ambos instrumentos instrumentos de viento, la similitud es de 0.4 ya que aunque sea flauta una subclase directa\n",
    "# de instrumento de viento, la trompeta tiene más superclases, que resta similitud."
   ]
  },
  {
   "cell_type": "code",
   "execution_count": 190,
   "metadata": {},
   "outputs": [
    {
     "name": "stdout",
     "output_type": "stream",
     "text": [
      "0.0\n",
      "['instrumento musical (Q34379)']\n",
      "['instrumento musical (Q34379)', 'aerófono (Q659216)', 'instrumento de viento (Q173453)', 'flauta (Q11405)']\n",
      "['instrumento musical (Q34379)', 'teclado (Q52954)', 'piano (Q5994)']\n"
     ]
    }
   ],
   "source": [
    "#flauta y piano\n",
    "similarity('Q11405','Q5994')\n",
    "\n",
    "# Es normal que la similitud sea 0 porque lo único que tienen en común es que son instrumentos musicales."
   ]
  },
  {
   "cell_type": "code",
   "execution_count": 191,
   "metadata": {},
   "outputs": [
    {
     "name": "stdout",
     "output_type": "stream",
     "text": [
      "0.0\n",
      "['instrumento musical (Q34379)']\n",
      "['instrumento musical (Q34379)', 'aerófono (Q659216)', 'instrumento de viento (Q173453)', 'instrumento de viento-metal (Q180744)', 'trompeta (Q8338)']\n",
      "['instrumento musical (Q34379)', 'cordófono (Q1051772)', 'instrumento de cuerda (Q1798603)', 'instrumento de cuerda pulsada (Q230262)', 'plucked necked box lutes (Q57306162)', 'guitarra (Q6607)']\n"
     ]
    }
   ],
   "source": [
    "#trompeta y guitarra\n",
    "similarity('Q8338','Q6607')\n",
    "\n",
    "# Como en el caso anterior, al tener en común únicamente que son instrumentos musicales, sale 0 como resultado."
   ]
  }
 ],
 "metadata": {
  "kernelspec": {
   "display_name": "Python 3",
   "language": "python",
   "name": "python3"
  },
  "language_info": {
   "codemirror_mode": {
    "name": "ipython",
    "version": 3
   },
   "file_extension": ".py",
   "mimetype": "text/x-python",
   "name": "python",
   "nbconvert_exporter": "python",
   "pygments_lexer": "ipython3",
   "version": "3.8.3"
  }
 },
 "nbformat": 4,
 "nbformat_minor": 4
}
